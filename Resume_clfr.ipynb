{
  "cells": [
    {
      "cell_type": "markdown",
      "metadata": {
        "id": "UhcChP0OpWOD"
      },
      "source": [
        "## Data Creation"
      ]
    },
    {
      "cell_type": "code",
      "execution_count": null,
      "metadata": {
        "colab": {
          "base_uri": "https://localhost:8080/"
        },
        "id": "5ytQd8x9pBX7",
        "outputId": "d1c6e62a-d515-4bf9-9d72-1b6b7fdfd9c3"
      },
      "outputs": [
        {
          "output_type": "stream",
          "name": "stdout",
          "text": [
            "Collecting pdfplumber\n",
            "  Downloading pdfplumber-0.11.4-py3-none-any.whl.metadata (41 kB)\n",
            "\u001b[?25l     \u001b[90m━━━━━━━━━━━━━━━━━━━━━━━━━━━━━━━━━━━━━━━━\u001b[0m \u001b[32m0.0/42.0 kB\u001b[0m \u001b[31m?\u001b[0m eta \u001b[36m-:--:--\u001b[0m\r\u001b[2K     \u001b[90m━━━━━━━━━━━━━━━━━━━━━━━━━━━━━━━━━━━━━━━━\u001b[0m \u001b[32m42.0/42.0 kB\u001b[0m \u001b[31m1.8 MB/s\u001b[0m eta \u001b[36m0:00:00\u001b[0m\n",
            "\u001b[?25hCollecting pdfminer.six==20231228 (from pdfplumber)\n",
            "  Downloading pdfminer.six-20231228-py3-none-any.whl.metadata (4.2 kB)\n",
            "Requirement already satisfied: Pillow>=9.1 in /usr/local/lib/python3.10/dist-packages (from pdfplumber) (11.0.0)\n",
            "Collecting pypdfium2>=4.18.0 (from pdfplumber)\n",
            "  Downloading pypdfium2-4.30.0-py3-none-manylinux_2_17_x86_64.manylinux2014_x86_64.whl.metadata (48 kB)\n",
            "\u001b[2K     \u001b[90m━━━━━━━━━━━━━━━━━━━━━━━━━━━━━━━━━━━━━━━━\u001b[0m \u001b[32m48.5/48.5 kB\u001b[0m \u001b[31m4.2 MB/s\u001b[0m eta \u001b[36m0:00:00\u001b[0m\n",
            "\u001b[?25hRequirement already satisfied: charset-normalizer>=2.0.0 in /usr/local/lib/python3.10/dist-packages (from pdfminer.six==20231228->pdfplumber) (3.4.0)\n",
            "Requirement already satisfied: cryptography>=36.0.0 in /usr/local/lib/python3.10/dist-packages (from pdfminer.six==20231228->pdfplumber) (43.0.3)\n",
            "Requirement already satisfied: cffi>=1.12 in /usr/local/lib/python3.10/dist-packages (from cryptography>=36.0.0->pdfminer.six==20231228->pdfplumber) (1.17.1)\n",
            "Requirement already satisfied: pycparser in /usr/local/lib/python3.10/dist-packages (from cffi>=1.12->cryptography>=36.0.0->pdfminer.six==20231228->pdfplumber) (2.22)\n",
            "Downloading pdfplumber-0.11.4-py3-none-any.whl (59 kB)\n",
            "\u001b[2K   \u001b[90m━━━━━━━━━━━━━━━━━━━━━━━━━━━━━━━━━━━━━━━━\u001b[0m \u001b[32m59.2/59.2 kB\u001b[0m \u001b[31m7.4 MB/s\u001b[0m eta \u001b[36m0:00:00\u001b[0m\n",
            "\u001b[?25hDownloading pdfminer.six-20231228-py3-none-any.whl (5.6 MB)\n",
            "\u001b[2K   \u001b[90m━━━━━━━━━━━━━━━━━━━━━━━━━━━━━━━━━━━━━━━━\u001b[0m \u001b[32m5.6/5.6 MB\u001b[0m \u001b[31m53.8 MB/s\u001b[0m eta \u001b[36m0:00:00\u001b[0m\n",
            "\u001b[?25hDownloading pypdfium2-4.30.0-py3-none-manylinux_2_17_x86_64.manylinux2014_x86_64.whl (2.8 MB)\n",
            "\u001b[2K   \u001b[90m━━━━━━━━━━━━━━━━━━━━━━━━━━━━━━━━━━━━━━━━\u001b[0m \u001b[32m2.8/2.8 MB\u001b[0m \u001b[31m77.2 MB/s\u001b[0m eta \u001b[36m0:00:00\u001b[0m\n",
            "\u001b[?25hInstalling collected packages: pypdfium2, pdfminer.six, pdfplumber\n",
            "Successfully installed pdfminer.six-20231228 pdfplumber-0.11.4 pypdfium2-4.30.0\n",
            "Collecting python-docx\n",
            "  Downloading python_docx-1.1.2-py3-none-any.whl.metadata (2.0 kB)\n",
            "Requirement already satisfied: lxml>=3.1.0 in /usr/local/lib/python3.10/dist-packages (from python-docx) (5.3.0)\n",
            "Requirement already satisfied: typing-extensions>=4.9.0 in /usr/local/lib/python3.10/dist-packages (from python-docx) (4.12.2)\n",
            "Downloading python_docx-1.1.2-py3-none-any.whl (244 kB)\n",
            "\u001b[2K   \u001b[90m━━━━━━━━━━━━━━━━━━━━━━━━━━━━━━━━━━━━━━━━\u001b[0m \u001b[32m244.3/244.3 kB\u001b[0m \u001b[31m4.3 MB/s\u001b[0m eta \u001b[36m0:00:00\u001b[0m\n",
            "\u001b[?25hInstalling collected packages: python-docx\n",
            "Successfully installed python-docx-1.1.2\n"
          ]
        }
      ],
      "source": [
        "!pip install pdfplumber\n",
        "!pip install python-docx"
      ]
    },
    {
      "cell_type": "code",
      "execution_count": null,
      "metadata": {
        "id": "OfomVK3tpbGN"
      },
      "outputs": [],
      "source": [
        "import pdfplumber\n",
        "import docx\n",
        "import os\n",
        "import pandas as pd\n",
        "import numpy as np\n",
        "import seaborn as sns\n",
        "import matplotlib.pyplot as plt"
      ]
    },
    {
      "cell_type": "markdown",
      "metadata": {
        "id": "A9bM3o94pisx"
      },
      "source": [
        "Function for PDF File Loader"
      ]
    },
    {
      "cell_type": "code",
      "execution_count": null,
      "metadata": {
        "id": "kDNjMmMSpe5V"
      },
      "outputs": [],
      "source": [
        "def extract_text_from_pdf(file_path):\n",
        "    with pdfplumber.open(file_path) as pdf:\n",
        "        text = \"\\n\".join(page.extract_text() for page in pdf.pages if page.extract_text())\n",
        "    return text"
      ]
    },
    {
      "cell_type": "markdown",
      "metadata": {
        "id": "1-WNp0ihpnQk"
      },
      "source": [
        "Function for Docx File Loader"
      ]
    },
    {
      "cell_type": "code",
      "execution_count": null,
      "metadata": {
        "id": "0zsuZeTQpk84"
      },
      "outputs": [],
      "source": [
        "def extract_text_from_docx(file_path):\n",
        "    doc = docx.Document(file_path)\n",
        "    text = \"\\n\".join(para.text for para in doc.paragraphs)\n",
        "    return text"
      ]
    },
    {
      "cell_type": "code",
      "execution_count": null,
      "metadata": {
        "id": "Nuq319twpp6V"
      },
      "outputs": [],
      "source": [
        "def dataset(dirname):\n",
        "    data_list =[]\n",
        "    for dir in os.listdir(\"Resume_Custom_Data\"):\n",
        "        for files in os.listdir(os.path.join('Resume_Custom_Data',dir)):\n",
        "            file_path = os.path.join('Resume_Custom_Data',dir, files)\n",
        "            if file_path.endswith(\".pdf\"):\n",
        "                text = extract_text_from_pdf(file_path)\n",
        "            elif file_path.endswith(\".docx\"):\n",
        "                text = extract_text_from_docx(file_path)\n",
        "            label= files.split('.')[0]\n",
        "            data = {\n",
        "                    'Text': text,\n",
        "                    'label':dir\n",
        "                }\n",
        "            data_list.append(data)\n",
        "    df = pd.DataFrame(data_list)\n",
        "    return df"
      ]
    },
    {
      "cell_type": "code",
      "execution_count": null,
      "metadata": {
        "id": "XwTmh7uuI1N7"
      },
      "outputs": [],
      "source": [
        "df = pd.read_csv('/content/resume_data.csv')"
      ]
    },
    {
      "cell_type": "code",
      "execution_count": null,
      "metadata": {
        "colab": {
          "base_uri": "https://localhost:8080/",
          "height": 423
        },
        "id": "9cV5DmCJpyLo",
        "outputId": "a8959046-dacf-4443-b1ea-493e3fc8843d"
      },
      "outputs": [
        {
          "output_type": "execute_result",
          "data": {
            "text/plain": [
              "    Unnamed: 0                                               Text       label\n",
              "0            0    Anubhav Kumar Singh\\t\\t\\n\\n  To work in a gl...  Peoplesoft\n",
              "1            1    Anubhav Kumar Singh\\t\\t\\n\\n  To work in a gl...  Peoplesoft\n",
              "2            2    Anubhav Kumar Singh\\t\\t\\n\\n  To work in a gl...  Peoplesoft\n",
              "3            3  Murali\\n\\nExperience Summary \\n\\nI have 6 year...  Peoplesoft\n",
              "4            4  Murali\\n\\nExperience Summary \\n\\nI have 6 year...  Peoplesoft\n",
              "..         ...                                                ...         ...\n",
              "75          75  Ramesh A\\t\\t\\t\\t\\t\\t\\t\\t\\t\\t\\t\\t\\t\\t\\t\\t\\t\\t\\t...     workday\n",
              "76          76  Seeking suitable positions in Workday HCM  as ...     workday\n",
              "77          77  \\nWORKDAY | HCM | FCM\\nName \\t\\t: Kumar S.S\\nR...     workday\n",
              "78          78  \\nWORKDAY | HCM | FCM\\nName \\t\\t: Kumar S.S\\nR...     workday\n",
              "79          79                                                ...     workday\n",
              "\n",
              "[80 rows x 3 columns]"
            ],
            "text/html": [
              "\n",
              "  <div id=\"df-4b526c27-928b-4081-8998-a23bea2c8216\" class=\"colab-df-container\">\n",
              "    <div>\n",
              "<style scoped>\n",
              "    .dataframe tbody tr th:only-of-type {\n",
              "        vertical-align: middle;\n",
              "    }\n",
              "\n",
              "    .dataframe tbody tr th {\n",
              "        vertical-align: top;\n",
              "    }\n",
              "\n",
              "    .dataframe thead th {\n",
              "        text-align: right;\n",
              "    }\n",
              "</style>\n",
              "<table border=\"1\" class=\"dataframe\">\n",
              "  <thead>\n",
              "    <tr style=\"text-align: right;\">\n",
              "      <th></th>\n",
              "      <th>Unnamed: 0</th>\n",
              "      <th>Text</th>\n",
              "      <th>label</th>\n",
              "    </tr>\n",
              "  </thead>\n",
              "  <tbody>\n",
              "    <tr>\n",
              "      <th>0</th>\n",
              "      <td>0</td>\n",
              "      <td>Anubhav Kumar Singh\\t\\t\\n\\n  To work in a gl...</td>\n",
              "      <td>Peoplesoft</td>\n",
              "    </tr>\n",
              "    <tr>\n",
              "      <th>1</th>\n",
              "      <td>1</td>\n",
              "      <td>Anubhav Kumar Singh\\t\\t\\n\\n  To work in a gl...</td>\n",
              "      <td>Peoplesoft</td>\n",
              "    </tr>\n",
              "    <tr>\n",
              "      <th>2</th>\n",
              "      <td>2</td>\n",
              "      <td>Anubhav Kumar Singh\\t\\t\\n\\n  To work in a gl...</td>\n",
              "      <td>Peoplesoft</td>\n",
              "    </tr>\n",
              "    <tr>\n",
              "      <th>3</th>\n",
              "      <td>3</td>\n",
              "      <td>Murali\\n\\nExperience Summary \\n\\nI have 6 year...</td>\n",
              "      <td>Peoplesoft</td>\n",
              "    </tr>\n",
              "    <tr>\n",
              "      <th>4</th>\n",
              "      <td>4</td>\n",
              "      <td>Murali\\n\\nExperience Summary \\n\\nI have 6 year...</td>\n",
              "      <td>Peoplesoft</td>\n",
              "    </tr>\n",
              "    <tr>\n",
              "      <th>...</th>\n",
              "      <td>...</td>\n",
              "      <td>...</td>\n",
              "      <td>...</td>\n",
              "    </tr>\n",
              "    <tr>\n",
              "      <th>75</th>\n",
              "      <td>75</td>\n",
              "      <td>Ramesh A\\t\\t\\t\\t\\t\\t\\t\\t\\t\\t\\t\\t\\t\\t\\t\\t\\t\\t\\t...</td>\n",
              "      <td>workday</td>\n",
              "    </tr>\n",
              "    <tr>\n",
              "      <th>76</th>\n",
              "      <td>76</td>\n",
              "      <td>Seeking suitable positions in Workday HCM  as ...</td>\n",
              "      <td>workday</td>\n",
              "    </tr>\n",
              "    <tr>\n",
              "      <th>77</th>\n",
              "      <td>77</td>\n",
              "      <td>\\nWORKDAY | HCM | FCM\\nName \\t\\t: Kumar S.S\\nR...</td>\n",
              "      <td>workday</td>\n",
              "    </tr>\n",
              "    <tr>\n",
              "      <th>78</th>\n",
              "      <td>78</td>\n",
              "      <td>\\nWORKDAY | HCM | FCM\\nName \\t\\t: Kumar S.S\\nR...</td>\n",
              "      <td>workday</td>\n",
              "    </tr>\n",
              "    <tr>\n",
              "      <th>79</th>\n",
              "      <td>79</td>\n",
              "      <td>...</td>\n",
              "      <td>workday</td>\n",
              "    </tr>\n",
              "  </tbody>\n",
              "</table>\n",
              "<p>80 rows × 3 columns</p>\n",
              "</div>\n",
              "    <div class=\"colab-df-buttons\">\n",
              "\n",
              "  <div class=\"colab-df-container\">\n",
              "    <button class=\"colab-df-convert\" onclick=\"convertToInteractive('df-4b526c27-928b-4081-8998-a23bea2c8216')\"\n",
              "            title=\"Convert this dataframe to an interactive table.\"\n",
              "            style=\"display:none;\">\n",
              "\n",
              "  <svg xmlns=\"http://www.w3.org/2000/svg\" height=\"24px\" viewBox=\"0 -960 960 960\">\n",
              "    <path d=\"M120-120v-720h720v720H120Zm60-500h600v-160H180v160Zm220 220h160v-160H400v160Zm0 220h160v-160H400v160ZM180-400h160v-160H180v160Zm440 0h160v-160H620v160ZM180-180h160v-160H180v160Zm440 0h160v-160H620v160Z\"/>\n",
              "  </svg>\n",
              "    </button>\n",
              "\n",
              "  <style>\n",
              "    .colab-df-container {\n",
              "      display:flex;\n",
              "      gap: 12px;\n",
              "    }\n",
              "\n",
              "    .colab-df-convert {\n",
              "      background-color: #E8F0FE;\n",
              "      border: none;\n",
              "      border-radius: 50%;\n",
              "      cursor: pointer;\n",
              "      display: none;\n",
              "      fill: #1967D2;\n",
              "      height: 32px;\n",
              "      padding: 0 0 0 0;\n",
              "      width: 32px;\n",
              "    }\n",
              "\n",
              "    .colab-df-convert:hover {\n",
              "      background-color: #E2EBFA;\n",
              "      box-shadow: 0px 1px 2px rgba(60, 64, 67, 0.3), 0px 1px 3px 1px rgba(60, 64, 67, 0.15);\n",
              "      fill: #174EA6;\n",
              "    }\n",
              "\n",
              "    .colab-df-buttons div {\n",
              "      margin-bottom: 4px;\n",
              "    }\n",
              "\n",
              "    [theme=dark] .colab-df-convert {\n",
              "      background-color: #3B4455;\n",
              "      fill: #D2E3FC;\n",
              "    }\n",
              "\n",
              "    [theme=dark] .colab-df-convert:hover {\n",
              "      background-color: #434B5C;\n",
              "      box-shadow: 0px 1px 3px 1px rgba(0, 0, 0, 0.15);\n",
              "      filter: drop-shadow(0px 1px 2px rgba(0, 0, 0, 0.3));\n",
              "      fill: #FFFFFF;\n",
              "    }\n",
              "  </style>\n",
              "\n",
              "    <script>\n",
              "      const buttonEl =\n",
              "        document.querySelector('#df-4b526c27-928b-4081-8998-a23bea2c8216 button.colab-df-convert');\n",
              "      buttonEl.style.display =\n",
              "        google.colab.kernel.accessAllowed ? 'block' : 'none';\n",
              "\n",
              "      async function convertToInteractive(key) {\n",
              "        const element = document.querySelector('#df-4b526c27-928b-4081-8998-a23bea2c8216');\n",
              "        const dataTable =\n",
              "          await google.colab.kernel.invokeFunction('convertToInteractive',\n",
              "                                                    [key], {});\n",
              "        if (!dataTable) return;\n",
              "\n",
              "        const docLinkHtml = 'Like what you see? Visit the ' +\n",
              "          '<a target=\"_blank\" href=https://colab.research.google.com/notebooks/data_table.ipynb>data table notebook</a>'\n",
              "          + ' to learn more about interactive tables.';\n",
              "        element.innerHTML = '';\n",
              "        dataTable['output_type'] = 'display_data';\n",
              "        await google.colab.output.renderOutput(dataTable, element);\n",
              "        const docLink = document.createElement('div');\n",
              "        docLink.innerHTML = docLinkHtml;\n",
              "        element.appendChild(docLink);\n",
              "      }\n",
              "    </script>\n",
              "  </div>\n",
              "\n",
              "\n",
              "<div id=\"df-89babae7-9dbc-4b16-8f75-d68b9095b85a\">\n",
              "  <button class=\"colab-df-quickchart\" onclick=\"quickchart('df-89babae7-9dbc-4b16-8f75-d68b9095b85a')\"\n",
              "            title=\"Suggest charts\"\n",
              "            style=\"display:none;\">\n",
              "\n",
              "<svg xmlns=\"http://www.w3.org/2000/svg\" height=\"24px\"viewBox=\"0 0 24 24\"\n",
              "     width=\"24px\">\n",
              "    <g>\n",
              "        <path d=\"M19 3H5c-1.1 0-2 .9-2 2v14c0 1.1.9 2 2 2h14c1.1 0 2-.9 2-2V5c0-1.1-.9-2-2-2zM9 17H7v-7h2v7zm4 0h-2V7h2v10zm4 0h-2v-4h2v4z\"/>\n",
              "    </g>\n",
              "</svg>\n",
              "  </button>\n",
              "\n",
              "<style>\n",
              "  .colab-df-quickchart {\n",
              "      --bg-color: #E8F0FE;\n",
              "      --fill-color: #1967D2;\n",
              "      --hover-bg-color: #E2EBFA;\n",
              "      --hover-fill-color: #174EA6;\n",
              "      --disabled-fill-color: #AAA;\n",
              "      --disabled-bg-color: #DDD;\n",
              "  }\n",
              "\n",
              "  [theme=dark] .colab-df-quickchart {\n",
              "      --bg-color: #3B4455;\n",
              "      --fill-color: #D2E3FC;\n",
              "      --hover-bg-color: #434B5C;\n",
              "      --hover-fill-color: #FFFFFF;\n",
              "      --disabled-bg-color: #3B4455;\n",
              "      --disabled-fill-color: #666;\n",
              "  }\n",
              "\n",
              "  .colab-df-quickchart {\n",
              "    background-color: var(--bg-color);\n",
              "    border: none;\n",
              "    border-radius: 50%;\n",
              "    cursor: pointer;\n",
              "    display: none;\n",
              "    fill: var(--fill-color);\n",
              "    height: 32px;\n",
              "    padding: 0;\n",
              "    width: 32px;\n",
              "  }\n",
              "\n",
              "  .colab-df-quickchart:hover {\n",
              "    background-color: var(--hover-bg-color);\n",
              "    box-shadow: 0 1px 2px rgba(60, 64, 67, 0.3), 0 1px 3px 1px rgba(60, 64, 67, 0.15);\n",
              "    fill: var(--button-hover-fill-color);\n",
              "  }\n",
              "\n",
              "  .colab-df-quickchart-complete:disabled,\n",
              "  .colab-df-quickchart-complete:disabled:hover {\n",
              "    background-color: var(--disabled-bg-color);\n",
              "    fill: var(--disabled-fill-color);\n",
              "    box-shadow: none;\n",
              "  }\n",
              "\n",
              "  .colab-df-spinner {\n",
              "    border: 2px solid var(--fill-color);\n",
              "    border-color: transparent;\n",
              "    border-bottom-color: var(--fill-color);\n",
              "    animation:\n",
              "      spin 1s steps(1) infinite;\n",
              "  }\n",
              "\n",
              "  @keyframes spin {\n",
              "    0% {\n",
              "      border-color: transparent;\n",
              "      border-bottom-color: var(--fill-color);\n",
              "      border-left-color: var(--fill-color);\n",
              "    }\n",
              "    20% {\n",
              "      border-color: transparent;\n",
              "      border-left-color: var(--fill-color);\n",
              "      border-top-color: var(--fill-color);\n",
              "    }\n",
              "    30% {\n",
              "      border-color: transparent;\n",
              "      border-left-color: var(--fill-color);\n",
              "      border-top-color: var(--fill-color);\n",
              "      border-right-color: var(--fill-color);\n",
              "    }\n",
              "    40% {\n",
              "      border-color: transparent;\n",
              "      border-right-color: var(--fill-color);\n",
              "      border-top-color: var(--fill-color);\n",
              "    }\n",
              "    60% {\n",
              "      border-color: transparent;\n",
              "      border-right-color: var(--fill-color);\n",
              "    }\n",
              "    80% {\n",
              "      border-color: transparent;\n",
              "      border-right-color: var(--fill-color);\n",
              "      border-bottom-color: var(--fill-color);\n",
              "    }\n",
              "    90% {\n",
              "      border-color: transparent;\n",
              "      border-bottom-color: var(--fill-color);\n",
              "    }\n",
              "  }\n",
              "</style>\n",
              "\n",
              "  <script>\n",
              "    async function quickchart(key) {\n",
              "      const quickchartButtonEl =\n",
              "        document.querySelector('#' + key + ' button');\n",
              "      quickchartButtonEl.disabled = true;  // To prevent multiple clicks.\n",
              "      quickchartButtonEl.classList.add('colab-df-spinner');\n",
              "      try {\n",
              "        const charts = await google.colab.kernel.invokeFunction(\n",
              "            'suggestCharts', [key], {});\n",
              "      } catch (error) {\n",
              "        console.error('Error during call to suggestCharts:', error);\n",
              "      }\n",
              "      quickchartButtonEl.classList.remove('colab-df-spinner');\n",
              "      quickchartButtonEl.classList.add('colab-df-quickchart-complete');\n",
              "    }\n",
              "    (() => {\n",
              "      let quickchartButtonEl =\n",
              "        document.querySelector('#df-89babae7-9dbc-4b16-8f75-d68b9095b85a button');\n",
              "      quickchartButtonEl.style.display =\n",
              "        google.colab.kernel.accessAllowed ? 'block' : 'none';\n",
              "    })();\n",
              "  </script>\n",
              "</div>\n",
              "\n",
              "  <div id=\"id_53d149d2-c956-4db2-9088-2f8ad4dcfb72\">\n",
              "    <style>\n",
              "      .colab-df-generate {\n",
              "        background-color: #E8F0FE;\n",
              "        border: none;\n",
              "        border-radius: 50%;\n",
              "        cursor: pointer;\n",
              "        display: none;\n",
              "        fill: #1967D2;\n",
              "        height: 32px;\n",
              "        padding: 0 0 0 0;\n",
              "        width: 32px;\n",
              "      }\n",
              "\n",
              "      .colab-df-generate:hover {\n",
              "        background-color: #E2EBFA;\n",
              "        box-shadow: 0px 1px 2px rgba(60, 64, 67, 0.3), 0px 1px 3px 1px rgba(60, 64, 67, 0.15);\n",
              "        fill: #174EA6;\n",
              "      }\n",
              "\n",
              "      [theme=dark] .colab-df-generate {\n",
              "        background-color: #3B4455;\n",
              "        fill: #D2E3FC;\n",
              "      }\n",
              "\n",
              "      [theme=dark] .colab-df-generate:hover {\n",
              "        background-color: #434B5C;\n",
              "        box-shadow: 0px 1px 3px 1px rgba(0, 0, 0, 0.15);\n",
              "        filter: drop-shadow(0px 1px 2px rgba(0, 0, 0, 0.3));\n",
              "        fill: #FFFFFF;\n",
              "      }\n",
              "    </style>\n",
              "    <button class=\"colab-df-generate\" onclick=\"generateWithVariable('df')\"\n",
              "            title=\"Generate code using this dataframe.\"\n",
              "            style=\"display:none;\">\n",
              "\n",
              "  <svg xmlns=\"http://www.w3.org/2000/svg\" height=\"24px\"viewBox=\"0 0 24 24\"\n",
              "       width=\"24px\">\n",
              "    <path d=\"M7,19H8.4L18.45,9,17,7.55,7,17.6ZM5,21V16.75L18.45,3.32a2,2,0,0,1,2.83,0l1.4,1.43a1.91,1.91,0,0,1,.58,1.4,1.91,1.91,0,0,1-.58,1.4L9.25,21ZM18.45,9,17,7.55Zm-12,3A5.31,5.31,0,0,0,4.9,8.1,5.31,5.31,0,0,0,1,6.5,5.31,5.31,0,0,0,4.9,4.9,5.31,5.31,0,0,0,6.5,1,5.31,5.31,0,0,0,8.1,4.9,5.31,5.31,0,0,0,12,6.5,5.46,5.46,0,0,0,6.5,12Z\"/>\n",
              "  </svg>\n",
              "    </button>\n",
              "    <script>\n",
              "      (() => {\n",
              "      const buttonEl =\n",
              "        document.querySelector('#id_53d149d2-c956-4db2-9088-2f8ad4dcfb72 button.colab-df-generate');\n",
              "      buttonEl.style.display =\n",
              "        google.colab.kernel.accessAllowed ? 'block' : 'none';\n",
              "\n",
              "      buttonEl.onclick = () => {\n",
              "        google.colab.notebook.generateWithVariable('df');\n",
              "      }\n",
              "      })();\n",
              "    </script>\n",
              "  </div>\n",
              "\n",
              "    </div>\n",
              "  </div>\n"
            ],
            "application/vnd.google.colaboratory.intrinsic+json": {
              "type": "dataframe",
              "variable_name": "df",
              "summary": "{\n  \"name\": \"df\",\n  \"rows\": 80,\n  \"fields\": [\n    {\n      \"column\": \"Unnamed: 0\",\n      \"properties\": {\n        \"dtype\": \"number\",\n        \"std\": 23,\n        \"min\": 0,\n        \"max\": 79,\n        \"num_unique_values\": 80,\n        \"samples\": [\n          30,\n          0,\n          22\n        ],\n        \"semantic_type\": \"\",\n        \"description\": \"\"\n      }\n    },\n    {\n      \"column\": \"Text\",\n      \"properties\": {\n        \"dtype\": \"string\",\n        \"num_unique_values\": 53,\n        \"samples\": [\n          \"\\nUi-Developer/ React JS Developer \\nNAME: KRISHNA \\nPROFESSIONAL SUMMARY:\\nOver all 3.2 years of Extensive experience as a\\u00a0React JS/Web-\\u00a0Developer\\u00a0and 1 year\\u00a0of Experience as\\u00a0React JS Software Developer.\\nExtensive experience in developing web pages using\\u00a0HTML, XML, CSS, JavaScript, React JS, Redux, JSON.\\nExperience in all phase of\\u00a0SDLC\\u00a0like\\u00a0Requirement Analysis, Implementation\\u00a0and\\u00a0Maintenance,\\u00a0and extensive experience with\\u00a0Agile\\u00a0and\\u00a0SCRUM.\\nExtensive knowledge in developing single - page applications\\u00a0(SPAs).\\nGood Expertise in analyzing the\\u00a0Document Object Model (DOM) Layout, DOM Functions, and Java Script functions, Cascading Styles\\u00a0across cross-browser using\\u00a0Fire Bug,\\u00a0Developer Tool Bar.\\nExpertise in\\u00a0React JS\\u00a0framework to develop the\\u00a0SPA.\\nExperienced in\\u00a0React JS\\u00a0and working with\\u00a0React Flux architecture.\\nExperienced in working with\\u00a0redux architecture\\u00a0using complex Object-Oriented concepts in improving the performance of the websites.\\nExperience in using\\u00a0React JS components, Forms, Events, Keys, Router, plus Redux, Animations.\\nExpertise in video coding by using\\u00a0HTML5,\\u00a0CSS3\\u00a0and\\u00a0JavaScript.\\nExpertise in\\u00a0RESTful,\\u00a0SOAP\\u00a0web services to integrate between\\u00a0Application\\u00a0to\\u00a0Application\\nExperience with\\u00a0front-end development\\u00a0with\\u00a0back-end system integration.\\nTECHNICAL SKILLS:\\nWeb Technologies:\\u00a0HTML, CSS3, XML, JavaScript, JSON, React JS, Node.js, GitHub.\\n\\nQUALIFICATION:\\nB-Tech from JNTU-Kakinada University - 2016\\nPROFESSIONAL EXPERIENCE:\\nI have experience as React JS Developer with 3.2 years of experience in the IT Industry and currently working in BOSCH.\\nCurrent Project: AGSP (Auto Guar age Solution Project)\\nRole: UI Developer/ React JS Developer\\nResponsibilities:\\nDesign, develop and test\\u00a0HTML5,\\u00a0CSS3,\\u00a0Bootstrap,\\u00a0JavaScript\\u00a0and\\u00a0React.JS\\u00a0that meets accessibility and web browser standards for website.\\nDeveloped user interface by using the\\u00a0React JS, Flux\\u00a0for\\u00a0SPA\\u00a0development.\\u00a0\\nUsed React-Router to turn application into\\u00a0Single Page Application\\nWorked in using\\u00a0React JS components, Forms, Events, Keys, Router, Animations and Flux concept.\\nUsed\\u00a0React flux\\u00a0to polish the data and for single directional flow.\\nUsed\\u00a0Object Oriented Programming\\u00a0concepts to develop\\u00a0UI\\u00a0components that could be reused across the\\u00a0Web Application.\\nExtensively used\\u00a0Git\\u00a0for version controlling and regularly pushed the code to\\u00a0GitHub.\\nUsed\\u00a0JIRA\\u00a0as the bug tracking system to track and maintain the history of\\u00a0bugs/issues\\u00a0on everyday basis.\\n Environment: HTML5, CSS3, JavaScript, Bootstrap, React JS, Redux, JSON, Git hub, JIRA\\nPrevious Project:  SITE WORK PROJECT\\nRole: UI Developer/ React JS Developer\\nResponsibilities:\\nWorked on an\\u00a0Agile\\u00a0(Scrum)\\u00a0Development\\u00a0Team\\u00a0to deliver regular updates to business team and project managers.\\nInvolved designing in web pages using\\u00a0HTML\\u00a05,\\u00a0CSS3,\\u00a0JavaScript, Bootstrap, React.js,\\u00a0Redux\\u00a0, \\nWorked on\\u00a0React JS Virtual Dom\\u00a0and\\u00a0React views, rendering using components which contains additional components called custom\\u00a0HTML tags.\\nImplemented various screens for the front end using\\u00a0React.js\\u00a0and used various predefined\\u00a0components\\u00a0from\\u00a0NPM (Node Package Manager)\\u00a0and\\u00a0redux library.\\nWorked in using\\u00a0React JS components, Forms, Events, Keys, Router, Animations,\\u00a0and\\u00a0Flux concept.\\nResponsible for\\u00a0React\\u00a0UI\\u00a0and\\u00a0architecture.\\u00a0Building\\u00a0components\\u00a0library,\\u00a0including\\u00a0Tree,\\u00a0Slide-View,\\u00a0and Table Grid.\\nImplemented stable\\u00a0React\\u00a0components\\u00a0and\\u00a0stand-alone functions\\u00a0to be added to any future pages.\\nUsed\\u00a0React JS\\u00a0for\\u00a0tinplating\\u00a0for faster compilation and developing reusable\\u00a0components.\\nUsed\\u00a0React-Auto complete\\u00a0for creating\\u00a0Google maps\\u00a0location search on the webpage.\\u00a0 Environment:\\u00a0HTML5, CSS3, Bootstrap, GitHub and Jenkins.\\n\",\n          \"B. vinod kumar\\n\\nOBJECTIVE:\\nWilling to work under a challenging and professional environment with exposure to new technologies as an SQL and MSBI developer in the area of SQL SERVER 2014, 2016 with Enterprise Portal and where there is a scope for Organizational growth as well as individual growth.\\nProfessional summary:\\nHaving around 2.2Years of IT Experience in Microsoft Business Intelligence (MSBI) under SQL server environment, with through knowledge of SQL server 2014,2016 databases.\\nExtensive experience on Joins, Set Operators, Table Variables, Temporary Tables, CTE & Sub Queries.\\nGood experience in writing Simple and sample SQL queries.\\nExperience in Developing Stored Procedures and User defined functions.\\nHands on Experience Triggers , views, cursor and synonyms.\\nExperience on Writing SQL using joins, sub queries.\\nGood at generating multiple reports using SSRS from SQL server database and included various reporting features such as Drill-Down, Drill-Through, Cascading Reports and Sub Reports.\\nExperience in importing/exporting data between different sources like Excel/Flatfile etc.\\nGood experience on Backups & Restoring into different Servers.\\nHands on Exeperience on different transformations like Data conversion, Derived coloumn, Look up, Merge join, Union All, Sort, Fuzzy lookup.\\nGood Experience on Ranking, Aggregate and String Functions.\\nExperience on Design and development of SQL Server Integration Services(SSIS) packages and using various control flow tasks like Data floe task and Excute SQL task and containres like For Loop container and sequence container and For -each container.\\nExperience on deploying the reports and creating subscriptions to send the reports on schedule basis.\\n\\nEDUCATIONAL BACKGROUND:\\nB.Tech (computer science and engineering),JNTU,Ananthapuramu.\\n\\nPROFESSIONAL EXPERIENCE:\\nWorking in united health group as a Software Engineer, Bangalore since may-2019 to till date.\\n\\n\\nTECHNICAL SKILLS:\\nTechnologies\\t: Microsoft Business Intelligence Tools (MSBI)\\nLanguages\\t: SQL, T-SQL.\\nETL Tools\\t: SQL Server Integration Services.\\nReporting Tools\\t: SQL Server Reporting Services\\n\\nPROJECT DETAILS:\\nClient: Uk\\nProject: National skill Development corporation\\nRole: SQL Server and SSIS developer\\nEnvirnoment : SSIS, SSRS and MS SQL Server.\\nProject 1: National Skill Development Corporation (NSDC)\\nClient\\t: National Skill Development Corporation (INDIA) Role\\t: SQL Developer\\nEnvironment\\t: SQL Server, Nano-BI. Duration\\t: May 2019 to till now.\\n\\nDescription:\\nNSDC Provides training / placements to people across the country through SIP across specific skill sets. Under NSDC there are multiple scheme types like PMKVY, Non-PMKVY and Fee-Based, Based on scheme type candidates will enroll to the batches under particular training centres. In every batch minimum 10 candidates can enroll. After enrolling candidates will go for Training then these candidates will go for assessment and Failed candidates can apply for re-assessment and the candidates who are passed will go for the certification. And the certified candidates will get placement through NSDC.\\n\\nROLES AND RESPONSIBILITIES:\\nBy using NANO BI Analytical tool creating tables.\\nDeveloped ETL Scripts to populate the data from different tables by using joins, CTE\\u2019s and Date functions.\\nBy using NANO BI Analytical tool creating tables.\\nInvolved in Creating analytics with measures and dimensions to populate data and created dashboard to clients by their requirement.\\nResponsible for Creating and Modifying T-SQL stored procedures for validating the integrity of the data.\\nResponsible for writing complex SQL Queries, Joins, Constraints, DDL, DML Date Functions to implement the business logic.\\n\\nExperience in creating different types of Reports according to the user request by using NANO BI Analytical tool.\\nInvolved in deploying and scheduling the reports using Report Emailer.\\nInvolved in scheduling the Stored procedures to refresh the data on every day using Workflows in NANO BI.\\n\\n\\n\\n\\nB. Vinod kumar\",\n          \"VENKATA SAIKRISHNA\\n Workday Consultant\\n\\n\\nPROFSSIONAL SUMMARY:\\n\\t\\nOver all 3 years of IT experience as a Workday Consultant.\\nIntegral in maintenance and creation of Workday Supervisory Organizations, Business Process, Locations, Positions, Company, Cost centers, and Hierarchies.\\nExperience in understanding the Client Business Requirements, Organizational Hierarchy Setup, Configurable Security Setup and Tenant Setup.\\nWorked with different Staffing Models, defining Hire restrictions to Job Management, Position Management.\\nHands on experience with Compensation Module like creating Compensation Grades, Compensation Eligibility Rules, Allowance Plans, Salary Plans, Hourly Plans.\\nExperience in creating Job Profiles, Job Families, and Job Family Group.\\nExperience with Workday security groups like Role based security, User based Security, Intersection, and Job based Security.\\nExperience with creating Staffing models for Supervisory Orgs, Reorganizations and business process framework, Organization Types, Organization Hierarchies.\\nStrong Experience with Workday Report Writer - Custom Reporting (Calculated Fields, Advanced, Standard Reports).\\nHands on experience in inbound/ outbound integrations using EIB and core connectors.\\nTroubleshooted day to day issues arising in Workday, reporting issues to identify and fix root causes.\\n\\nTECHNICAL SKILLS:\\n\\n\\nPROFESSIONAL EXPERIENCE:\\n\\nWorking as Workday Consultant in Value Momentum, from Aug-2018 to Till Date.\\nRole: Workday Consultant\\nResponsibilities:\\nCreated Supervisory Organizations, Cost Centers, Cost Centre Hierarchies, and location hierarchies\\u2019 maintenance, Staffing Models, Job details Positions and Job Requisitions.\\nSetup end to end recruiting process for clients from creating business processes like job application, Offer, Hire, and Onboarding, setup external career site, questionnaires, offer letters and review documents. \\nStaffing Movements, An employee changes in position, inbound process and outbound process.\\nTermination Process, initiate termination process, review termination process, to do tasks\\nWorked on the creation of benefit plans, job profiles, and job families.\\nConfigured Workday compensation packages including salary, bonus, allowance, commission, and compensation eligibility rules based on management levels, job profile, and job family.\\nManaged job description and workflow of employee data for compensation module including job families, pay ranges and supervisor setup.\\nSetup Merit plans including merit and bonus plan processing and created the business process for bonus plan, merit plan, salary plan and hourly plan.\\nWorked on several calculated fields like look up related value, Evaluate Expression, True or false conditions, Arithmetic Calculation, formatting date fields etc... \\nPerformed arithmetic calculation in Matrix report for counting, averaging, summing, ranging between maximum and minimum. \\nWorked with Simple and Advanced Reports, defining columns, business objects, fields.\\nSetup security groups, domain security policies and business process security policies.\\nWorked with Business Process and configurations various business process on Compensation, Talent Management, Recruiting, Benefits. \\nConfiguration of Workday\\u2019s business process framework configured conditional rules to guide workflow or validate data as required to accommodate desired outcomes.\\nDeveloping the integrations using tool Enterprise Interface Builder (EIB), Core connector\\nDesigned and built both inbound and outbound EIB in various segments of Workday system.\\nEnvironment: EIB, Web services, Workday Report Writing, custom Reports, calculated fields, compensation, MS PowerPoint, MS Excel, Windows.\\n\\n\\n\\nEDUCATION:\\nMBA in HR and Marketing from KL University in 2018.\\n\\t\\t\\t\\t\\t\\t\\t\\t\\t\\n\\nDECLARATION:\\n\\nI do here by declare that all particulars mentioned above are true to the best of my knowledge.\\n\\n\\n\\n\\n\\n\\n\\n\\n\\nHyderabad\\t\\t\\t\\t\\t\\t\\t\\t\\t                     \\n\\n\\n\\n\\n\\n\\n\\n\\n\\n\"\n        ],\n        \"semantic_type\": \"\",\n        \"description\": \"\"\n      }\n    },\n    {\n      \"column\": \"label\",\n      \"properties\": {\n        \"dtype\": \"category\",\n        \"num_unique_values\": 4,\n        \"samples\": [\n          \"React Developer\",\n          \"workday\",\n          \"Peoplesoft\"\n        ],\n        \"semantic_type\": \"\",\n        \"description\": \"\"\n      }\n    }\n  ]\n}"
            }
          },
          "metadata": {},
          "execution_count": 9
        }
      ],
      "source": [
        "df"
      ]
    },
    {
      "cell_type": "code",
      "execution_count": null,
      "metadata": {
        "colab": {
          "base_uri": "https://localhost:8080/",
          "height": 178
        },
        "id": "_yg7GOY2qN8t",
        "outputId": "976ef1e0-d7c8-4e60-a3e2-71d3fae643ae"
      },
      "outputs": [
        {
          "output_type": "execute_result",
          "data": {
            "text/plain": [
              "Unnamed: 0    0\n",
              "Text          0\n",
              "label         0\n",
              "dtype: int64"
            ],
            "text/html": [
              "<div>\n",
              "<style scoped>\n",
              "    .dataframe tbody tr th:only-of-type {\n",
              "        vertical-align: middle;\n",
              "    }\n",
              "\n",
              "    .dataframe tbody tr th {\n",
              "        vertical-align: top;\n",
              "    }\n",
              "\n",
              "    .dataframe thead th {\n",
              "        text-align: right;\n",
              "    }\n",
              "</style>\n",
              "<table border=\"1\" class=\"dataframe\">\n",
              "  <thead>\n",
              "    <tr style=\"text-align: right;\">\n",
              "      <th></th>\n",
              "      <th>0</th>\n",
              "    </tr>\n",
              "  </thead>\n",
              "  <tbody>\n",
              "    <tr>\n",
              "      <th>Unnamed: 0</th>\n",
              "      <td>0</td>\n",
              "    </tr>\n",
              "    <tr>\n",
              "      <th>Text</th>\n",
              "      <td>0</td>\n",
              "    </tr>\n",
              "    <tr>\n",
              "      <th>label</th>\n",
              "      <td>0</td>\n",
              "    </tr>\n",
              "  </tbody>\n",
              "</table>\n",
              "</div><br><label><b>dtype:</b> int64</label>"
            ]
          },
          "metadata": {},
          "execution_count": 10
        }
      ],
      "source": [
        "df.isna().sum()"
      ]
    },
    {
      "cell_type": "markdown",
      "metadata": {
        "id": "e1Dku5dgqGyn"
      },
      "source": [
        "## Visualization of Resumes Categories"
      ]
    },
    {
      "cell_type": "code",
      "execution_count": null,
      "metadata": {
        "colab": {
          "base_uri": "https://localhost:8080/",
          "height": 458
        },
        "id": "exWFB-n7qDdQ",
        "outputId": "1da1e924-ad02-492e-dde4-0dc2ada42970"
      },
      "outputs": [
        {
          "output_type": "display_data",
          "data": {
            "text/plain": [
              "<Figure size 640x480 with 1 Axes>"
            ],
            "image/png": "[encoded data removed]"
          },
          "metadata": {}
        }
      ],
      "source": [
        "sns.set_theme(style=\"darkgrid\",palette=\"coolwarm\")\n",
        "sns.countplot(x = df['label'])\n",
        "plt.show()"
      ]
    },
    {
      "cell_type": "code",
      "execution_count": null,
      "metadata": {
        "colab": {
          "base_uri": "https://localhost:8080/",
          "height": 675
        },
        "id": "auOX5bwW2FgM",
        "outputId": "2d0640e3-f337-40bb-ac2c-a9b225e1692e"
      },
      "outputs": [
        {
          "output_type": "display_data",
          "data": {
            "text/plain": [
              "<Figure size 800x800 with 1 Axes>"
            ],
            "image/png": "[encoded data removed]"
          },
          "metadata": {}
        }
      ],
      "source": [
        "label_counts = df['label'].value_counts()\n",
        "plt.figure(figsize=(8, 8))\n",
        "plt.pie(label_counts, labels=label_counts.index, autopct='%1.1f%%', startangle=90)\n",
        "plt.title('Distribution of Labels')\n",
        "plt.show()"
      ]
    },
    {
      "cell_type": "code",
      "execution_count": null,
      "metadata": {
        "colab": {
          "base_uri": "https://localhost:8080/",
          "height": 241
        },
        "id": "1NDSsMYQqJsZ",
        "outputId": "f8dccd96-44e9-41dd-c8b2-8ea59fd92375"
      },
      "outputs": [
        {
          "output_type": "execute_result",
          "data": {
            "text/plain": [
              "label\n",
              "React Developer    25\n",
              "workday            21\n",
              "Peoplesoft         20\n",
              "SQL Developer      14\n",
              "Name: count, dtype: int64"
            ],
            "text/html": [
              "<div>\n",
              "<style scoped>\n",
              "    .dataframe tbody tr th:only-of-type {\n",
              "        vertical-align: middle;\n",
              "    }\n",
              "\n",
              "    .dataframe tbody tr th {\n",
              "        vertical-align: top;\n",
              "    }\n",
              "\n",
              "    .dataframe thead th {\n",
              "        text-align: right;\n",
              "    }\n",
              "</style>\n",
              "<table border=\"1\" class=\"dataframe\">\n",
              "  <thead>\n",
              "    <tr style=\"text-align: right;\">\n",
              "      <th></th>\n",
              "      <th>count</th>\n",
              "    </tr>\n",
              "    <tr>\n",
              "      <th>label</th>\n",
              "      <th></th>\n",
              "    </tr>\n",
              "  </thead>\n",
              "  <tbody>\n",
              "    <tr>\n",
              "      <th>React Developer</th>\n",
              "      <td>25</td>\n",
              "    </tr>\n",
              "    <tr>\n",
              "      <th>workday</th>\n",
              "      <td>21</td>\n",
              "    </tr>\n",
              "    <tr>\n",
              "      <th>Peoplesoft</th>\n",
              "      <td>20</td>\n",
              "    </tr>\n",
              "    <tr>\n",
              "      <th>SQL Developer</th>\n",
              "      <td>14</td>\n",
              "    </tr>\n",
              "  </tbody>\n",
              "</table>\n",
              "</div><br><label><b>dtype:</b> int64</label>"
            ]
          },
          "metadata": {},
          "execution_count": 13
        }
      ],
      "source": [
        "df['label'].value_counts()"
      ]
    },
    {
      "cell_type": "code",
      "execution_count": null,
      "metadata": {
        "id": "baVdaBbsqT02"
      },
      "outputs": [],
      "source": [
        "df['label'] = df['label'].map({'React Developer': 0,'workday': 1 ,'Peoplesoft': 2 , 'SQL Developer': 3})"
      ]
    },
    {
      "cell_type": "code",
      "execution_count": null,
      "metadata": {
        "colab": {
          "base_uri": "https://localhost:8080/",
          "height": 423
        },
        "id": "p2NCsPveqWYd",
        "outputId": "f10b0c72-c60c-463f-a6b0-0747610ce73e"
      },
      "outputs": [
        {
          "output_type": "execute_result",
          "data": {
            "text/plain": [
              "    Unnamed: 0                                               Text  label\n",
              "0            0    Anubhav Kumar Singh\\t\\t\\n\\n  To work in a gl...      2\n",
              "1            1    Anubhav Kumar Singh\\t\\t\\n\\n  To work in a gl...      2\n",
              "2            2    Anubhav Kumar Singh\\t\\t\\n\\n  To work in a gl...      2\n",
              "3            3  Murali\\n\\nExperience Summary \\n\\nI have 6 year...      2\n",
              "4            4  Murali\\n\\nExperience Summary \\n\\nI have 6 year...      2\n",
              "..         ...                                                ...    ...\n",
              "75          75  Ramesh A\\t\\t\\t\\t\\t\\t\\t\\t\\t\\t\\t\\t\\t\\t\\t\\t\\t\\t\\t...      1\n",
              "76          76  Seeking suitable positions in Workday HCM  as ...      1\n",
              "77          77  \\nWORKDAY | HCM | FCM\\nName \\t\\t: Kumar S.S\\nR...      1\n",
              "78          78  \\nWORKDAY | HCM | FCM\\nName \\t\\t: Kumar S.S\\nR...      1\n",
              "79          79                                                ...      1\n",
              "\n",
              "[80 rows x 3 columns]"
            ],
            "text/html": [
              "\n",
              "  <div id=\"df-ee4f6722-a80c-4ab3-9010-88366d143e2e\" class=\"colab-df-container\">\n",
              "    <div>\n",
              "<style scoped>\n",
              "    .dataframe tbody tr th:only-of-type {\n",
              "        vertical-align: middle;\n",
              "    }\n",
              "\n",
              "    .dataframe tbody tr th {\n",
              "        vertical-align: top;\n",
              "    }\n",
              "\n",
              "    .dataframe thead th {\n",
              "        text-align: right;\n",
              "    }\n",
              "</style>\n",
              "<table border=\"1\" class=\"dataframe\">\n",
              "  <thead>\n",
              "    <tr style=\"text-align: right;\">\n",
              "      <th></th>\n",
              "      <th>Unnamed: 0</th>\n",
              "      <th>Text</th>\n",
              "      <th>label</th>\n",
              "    </tr>\n",
              "  </thead>\n",
              "  <tbody>\n",
              "    <tr>\n",
              "      <th>0</th>\n",
              "      <td>0</td>\n",
              "      <td>Anubhav Kumar Singh\\t\\t\\n\\n  To work in a gl...</td>\n",
              "      <td>2</td>\n",
              "    </tr>\n",
              "    <tr>\n",
              "      <th>1</th>\n",
              "      <td>1</td>\n",
              "      <td>Anubhav Kumar Singh\\t\\t\\n\\n  To work in a gl...</td>\n",
              "      <td>2</td>\n",
              "    </tr>\n",
              "    <tr>\n",
              "      <th>2</th>\n",
              "      <td>2</td>\n",
              "      <td>Anubhav Kumar Singh\\t\\t\\n\\n  To work in a gl...</td>\n",
              "      <td>2</td>\n",
              "    </tr>\n",
              "    <tr>\n",
              "      <th>3</th>\n",
              "      <td>3</td>\n",
              "      <td>Murali\\n\\nExperience Summary \\n\\nI have 6 year...</td>\n",
              "      <td>2</td>\n",
              "    </tr>\n",
              "    <tr>\n",
              "      <th>4</th>\n",
              "      <td>4</td>\n",
              "      <td>Murali\\n\\nExperience Summary \\n\\nI have 6 year...</td>\n",
              "      <td>2</td>\n",
              "    </tr>\n",
              "    <tr>\n",
              "      <th>...</th>\n",
              "      <td>...</td>\n",
              "      <td>...</td>\n",
              "      <td>...</td>\n",
              "    </tr>\n",
              "    <tr>\n",
              "      <th>75</th>\n",
              "      <td>75</td>\n",
              "      <td>Ramesh A\\t\\t\\t\\t\\t\\t\\t\\t\\t\\t\\t\\t\\t\\t\\t\\t\\t\\t\\t...</td>\n",
              "      <td>1</td>\n",
              "    </tr>\n",
              "    <tr>\n",
              "      <th>76</th>\n",
              "      <td>76</td>\n",
              "      <td>Seeking suitable positions in Workday HCM  as ...</td>\n",
              "      <td>1</td>\n",
              "    </tr>\n",
              "    <tr>\n",
              "      <th>77</th>\n",
              "      <td>77</td>\n",
              "      <td>\\nWORKDAY | HCM | FCM\\nName \\t\\t: Kumar S.S\\nR...</td>\n",
              "      <td>1</td>\n",
              "    </tr>\n",
              "    <tr>\n",
              "      <th>78</th>\n",
              "      <td>78</td>\n",
              "      <td>\\nWORKDAY | HCM | FCM\\nName \\t\\t: Kumar S.S\\nR...</td>\n",
              "      <td>1</td>\n",
              "    </tr>\n",
              "    <tr>\n",
              "      <th>79</th>\n",
              "      <td>79</td>\n",
              "      <td>...</td>\n",
              "      <td>1</td>\n",
              "    </tr>\n",
              "  </tbody>\n",
              "</table>\n",
              "<p>80 rows × 3 columns</p>\n",
              "</div>\n",
              "    <div class=\"colab-df-buttons\">\n",
              "\n",
              "  <div class=\"colab-df-container\">\n",
              "    <button class=\"colab-df-convert\" onclick=\"convertToInteractive('df-ee4f6722-a80c-4ab3-9010-88366d143e2e')\"\n",
              "            title=\"Convert this dataframe to an interactive table.\"\n",
              "            style=\"display:none;\">\n",
              "\n",
              "  <svg xmlns=\"http://www.w3.org/2000/svg\" height=\"24px\" viewBox=\"0 -960 960 960\">\n",
              "    <path d=\"M120-120v-720h720v720H120Zm60-500h600v-160H180v160Zm220 220h160v-160H400v160Zm0 220h160v-160H400v160ZM180-400h160v-160H180v160Zm440 0h160v-160H620v160ZM180-180h160v-160H180v160Zm440 0h160v-160H620v160Z\"/>\n",
              "  </svg>\n",
              "    </button>\n",
              "\n",
              "  <style>\n",
              "    .colab-df-container {\n",
              "      display:flex;\n",
              "      gap: 12px;\n",
              "    }\n",
              "\n",
              "    .colab-df-convert {\n",
              "      background-color: #E8F0FE;\n",
              "      border: none;\n",
              "      border-radius: 50%;\n",
              "      cursor: pointer;\n",
              "      display: none;\n",
              "      fill: #1967D2;\n",
              "      height: 32px;\n",
              "      padding: 0 0 0 0;\n",
              "      width: 32px;\n",
              "    }\n",
              "\n",
              "    .colab-df-convert:hover {\n",
              "      background-color: #E2EBFA;\n",
              "      box-shadow: 0px 1px 2px rgba(60, 64, 67, 0.3), 0px 1px 3px 1px rgba(60, 64, 67, 0.15);\n",
              "      fill: #174EA6;\n",
              "    }\n",
              "\n",
              "    .colab-df-buttons div {\n",
              "      margin-bottom: 4px;\n",
              "    }\n",
              "\n",
              "    [theme=dark] .colab-df-convert {\n",
              "      background-color: #3B4455;\n",
              "      fill: #D2E3FC;\n",
              "    }\n",
              "\n",
              "    [theme=dark] .colab-df-convert:hover {\n",
              "      background-color: #434B5C;\n",
              "      box-shadow: 0px 1px 3px 1px rgba(0, 0, 0, 0.15);\n",
              "      filter: drop-shadow(0px 1px 2px rgba(0, 0, 0, 0.3));\n",
              "      fill: #FFFFFF;\n",
              "    }\n",
              "  </style>\n",
              "\n",
              "    <script>\n",
              "      const buttonEl =\n",
              "        document.querySelector('#df-ee4f6722-a80c-4ab3-9010-88366d143e2e button.colab-df-convert');\n",
              "      buttonEl.style.display =\n",
              "        google.colab.kernel.accessAllowed ? 'block' : 'none';\n",
              "\n",
              "      async function convertToInteractive(key) {\n",
              "        const element = document.querySelector('#df-ee4f6722-a80c-4ab3-9010-88366d143e2e');\n",
              "        const dataTable =\n",
              "          await google.colab.kernel.invokeFunction('convertToInteractive',\n",
              "                                                    [key], {});\n",
              "        if (!dataTable) return;\n",
              "\n",
              "        const docLinkHtml = 'Like what you see? Visit the ' +\n",
              "          '<a target=\"_blank\" href=https://colab.research.google.com/notebooks/data_table.ipynb>data table notebook</a>'\n",
              "          + ' to learn more about interactive tables.';\n",
              "        element.innerHTML = '';\n",
              "        dataTable['output_type'] = 'display_data';\n",
              "        await google.colab.output.renderOutput(dataTable, element);\n",
              "        const docLink = document.createElement('div');\n",
              "        docLink.innerHTML = docLinkHtml;\n",
              "        element.appendChild(docLink);\n",
              "      }\n",
              "    </script>\n",
              "  </div>\n",
              "\n",
              "\n",
              "<div id=\"df-d6a519d6-43fb-48d0-8b77-4450dbe8518b\">\n",
              "  <button class=\"colab-df-quickchart\" onclick=\"quickchart('df-d6a519d6-43fb-48d0-8b77-4450dbe8518b')\"\n",
              "            title=\"Suggest charts\"\n",
              "            style=\"display:none;\">\n",
              "\n",
              "<svg xmlns=\"http://www.w3.org/2000/svg\" height=\"24px\"viewBox=\"0 0 24 24\"\n",
              "     width=\"24px\">\n",
              "    <g>\n",
              "        <path d=\"M19 3H5c-1.1 0-2 .9-2 2v14c0 1.1.9 2 2 2h14c1.1 0 2-.9 2-2V5c0-1.1-.9-2-2-2zM9 17H7v-7h2v7zm4 0h-2V7h2v10zm4 0h-2v-4h2v4z\"/>\n",
              "    </g>\n",
              "</svg>\n",
              "  </button>\n",
              "\n",
              "<style>\n",
              "  .colab-df-quickchart {\n",
              "      --bg-color: #E8F0FE;\n",
              "      --fill-color: #1967D2;\n",
              "      --hover-bg-color: #E2EBFA;\n",
              "      --hover-fill-color: #174EA6;\n",
              "      --disabled-fill-color: #AAA;\n",
              "      --disabled-bg-color: #DDD;\n",
              "  }\n",
              "\n",
              "  [theme=dark] .colab-df-quickchart {\n",
              "      --bg-color: #3B4455;\n",
              "      --fill-color: #D2E3FC;\n",
              "      --hover-bg-color: #434B5C;\n",
              "      --hover-fill-color: #FFFFFF;\n",
              "      --disabled-bg-color: #3B4455;\n",
              "      --disabled-fill-color: #666;\n",
              "  }\n",
              "\n",
              "  .colab-df-quickchart {\n",
              "    background-color: var(--bg-color);\n",
              "    border: none;\n",
              "    border-radius: 50%;\n",
              "    cursor: pointer;\n",
              "    display: none;\n",
              "    fill: var(--fill-color);\n",
              "    height: 32px;\n",
              "    padding: 0;\n",
              "    width: 32px;\n",
              "  }\n",
              "\n",
              "  .colab-df-quickchart:hover {\n",
              "    background-color: var(--hover-bg-color);\n",
              "    box-shadow: 0 1px 2px rgba(60, 64, 67, 0.3), 0 1px 3px 1px rgba(60, 64, 67, 0.15);\n",
              "    fill: var(--button-hover-fill-color);\n",
              "  }\n",
              "\n",
              "  .colab-df-quickchart-complete:disabled,\n",
              "  .colab-df-quickchart-complete:disabled:hover {\n",
              "    background-color: var(--disabled-bg-color);\n",
              "    fill: var(--disabled-fill-color);\n",
              "    box-shadow: none;\n",
              "  }\n",
              "\n",
              "  .colab-df-spinner {\n",
              "    border: 2px solid var(--fill-color);\n",
              "    border-color: transparent;\n",
              "    border-bottom-color: var(--fill-color);\n",
              "    animation:\n",
              "      spin 1s steps(1) infinite;\n",
              "  }\n",
              "\n",
              "  @keyframes spin {\n",
              "    0% {\n",
              "      border-color: transparent;\n",
              "      border-bottom-color: var(--fill-color);\n",
              "      border-left-color: var(--fill-color);\n",
              "    }\n",
              "    20% {\n",
              "      border-color: transparent;\n",
              "      border-left-color: var(--fill-color);\n",
              "      border-top-color: var(--fill-color);\n",
              "    }\n",
              "    30% {\n",
              "      border-color: transparent;\n",
              "      border-left-color: var(--fill-color);\n",
              "      border-top-color: var(--fill-color);\n",
              "      border-right-color: var(--fill-color);\n",
              "    }\n",
              "    40% {\n",
              "      border-color: transparent;\n",
              "      border-right-color: var(--fill-color);\n",
              "      border-top-color: var(--fill-color);\n",
              "    }\n",
              "    60% {\n",
              "      border-color: transparent;\n",
              "      border-right-color: var(--fill-color);\n",
              "    }\n",
              "    80% {\n",
              "      border-color: transparent;\n",
              "      border-right-color: var(--fill-color);\n",
              "      border-bottom-color: var(--fill-color);\n",
              "    }\n",
              "    90% {\n",
              "      border-color: transparent;\n",
              "      border-bottom-color: var(--fill-color);\n",
              "    }\n",
              "  }\n",
              "</style>\n",
              "\n",
              "  <script>\n",
              "    async function quickchart(key) {\n",
              "      const quickchartButtonEl =\n",
              "        document.querySelector('#' + key + ' button');\n",
              "      quickchartButtonEl.disabled = true;  // To prevent multiple clicks.\n",
              "      quickchartButtonEl.classList.add('colab-df-spinner');\n",
              "      try {\n",
              "        const charts = await google.colab.kernel.invokeFunction(\n",
              "            'suggestCharts', [key], {});\n",
              "      } catch (error) {\n",
              "        console.error('Error during call to suggestCharts:', error);\n",
              "      }\n",
              "      quickchartButtonEl.classList.remove('colab-df-spinner');\n",
              "      quickchartButtonEl.classList.add('colab-df-quickchart-complete');\n",
              "    }\n",
              "    (() => {\n",
              "      let quickchartButtonEl =\n",
              "        document.querySelector('#df-d6a519d6-43fb-48d0-8b77-4450dbe8518b button');\n",
              "      quickchartButtonEl.style.display =\n",
              "        google.colab.kernel.accessAllowed ? 'block' : 'none';\n",
              "    })();\n",
              "  </script>\n",
              "</div>\n",
              "\n",
              "  <div id=\"id_d6026ee3-4e1a-4245-b583-428837928e99\">\n",
              "    <style>\n",
              "      .colab-df-generate {\n",
              "        background-color: #E8F0FE;\n",
              "        border: none;\n",
              "        border-radius: 50%;\n",
              "        cursor: pointer;\n",
              "        display: none;\n",
              "        fill: #1967D2;\n",
              "        height: 32px;\n",
              "        padding: 0 0 0 0;\n",
              "        width: 32px;\n",
              "      }\n",
              "\n",
              "      .colab-df-generate:hover {\n",
              "        background-color: #E2EBFA;\n",
              "        box-shadow: 0px 1px 2px rgba(60, 64, 67, 0.3), 0px 1px 3px 1px rgba(60, 64, 67, 0.15);\n",
              "        fill: #174EA6;\n",
              "      }\n",
              "\n",
              "      [theme=dark] .colab-df-generate {\n",
              "        background-color: #3B4455;\n",
              "        fill: #D2E3FC;\n",
              "      }\n",
              "\n",
              "      [theme=dark] .colab-df-generate:hover {\n",
              "        background-color: #434B5C;\n",
              "        box-shadow: 0px 1px 3px 1px rgba(0, 0, 0, 0.15);\n",
              "        filter: drop-shadow(0px 1px 2px rgba(0, 0, 0, 0.3));\n",
              "        fill: #FFFFFF;\n",
              "      }\n",
              "    </style>\n",
              "    <button class=\"colab-df-generate\" onclick=\"generateWithVariable('df')\"\n",
              "            title=\"Generate code using this dataframe.\"\n",
              "            style=\"display:none;\">\n",
              "\n",
              "  <svg xmlns=\"http://www.w3.org/2000/svg\" height=\"24px\"viewBox=\"0 0 24 24\"\n",
              "       width=\"24px\">\n",
              "    <path d=\"M7,19H8.4L18.45,9,17,7.55,7,17.6ZM5,21V16.75L18.45,3.32a2,2,0,0,1,2.83,0l1.4,1.43a1.91,1.91,0,0,1,.58,1.4,1.91,1.91,0,0,1-.58,1.4L9.25,21ZM18.45,9,17,7.55Zm-12,3A5.31,5.31,0,0,0,4.9,8.1,5.31,5.31,0,0,0,1,6.5,5.31,5.31,0,0,0,4.9,4.9,5.31,5.31,0,0,0,6.5,1,5.31,5.31,0,0,0,8.1,4.9,5.31,5.31,0,0,0,12,6.5,5.46,5.46,0,0,0,6.5,12Z\"/>\n",
              "  </svg>\n",
              "    </button>\n",
              "    <script>\n",
              "      (() => {\n",
              "      const buttonEl =\n",
              "        document.querySelector('#id_d6026ee3-4e1a-4245-b583-428837928e99 button.colab-df-generate');\n",
              "      buttonEl.style.display =\n",
              "        google.colab.kernel.accessAllowed ? 'block' : 'none';\n",
              "\n",
              "      buttonEl.onclick = () => {\n",
              "        google.colab.notebook.generateWithVariable('df');\n",
              "      }\n",
              "      })();\n",
              "    </script>\n",
              "  </div>\n",
              "\n",
              "    </div>\n",
              "  </div>\n"
            ],
            "application/vnd.google.colaboratory.intrinsic+json": {
              "type": "dataframe",
              "variable_name": "df",
              "summary": "{\n  \"name\": \"df\",\n  \"rows\": 80,\n  \"fields\": [\n    {\n      \"column\": \"Unnamed: 0\",\n      \"properties\": {\n        \"dtype\": \"number\",\n        \"std\": 23,\n        \"min\": 0,\n        \"max\": 79,\n        \"num_unique_values\": 80,\n        \"samples\": [\n          30,\n          0,\n          22\n        ],\n        \"semantic_type\": \"\",\n        \"description\": \"\"\n      }\n    },\n    {\n      \"column\": \"Text\",\n      \"properties\": {\n        \"dtype\": \"string\",\n        \"num_unique_values\": 53,\n        \"samples\": [\n          \"\\nUi-Developer/ React JS Developer \\nNAME: KRISHNA \\nPROFESSIONAL SUMMARY:\\nOver all 3.2 years of Extensive experience as a\\u00a0React JS/Web-\\u00a0Developer\\u00a0and 1 year\\u00a0of Experience as\\u00a0React JS Software Developer.\\nExtensive experience in developing web pages using\\u00a0HTML, XML, CSS, JavaScript, React JS, Redux, JSON.\\nExperience in all phase of\\u00a0SDLC\\u00a0like\\u00a0Requirement Analysis, Implementation\\u00a0and\\u00a0Maintenance,\\u00a0and extensive experience with\\u00a0Agile\\u00a0and\\u00a0SCRUM.\\nExtensive knowledge in developing single - page applications\\u00a0(SPAs).\\nGood Expertise in analyzing the\\u00a0Document Object Model (DOM) Layout, DOM Functions, and Java Script functions, Cascading Styles\\u00a0across cross-browser using\\u00a0Fire Bug,\\u00a0Developer Tool Bar.\\nExpertise in\\u00a0React JS\\u00a0framework to develop the\\u00a0SPA.\\nExperienced in\\u00a0React JS\\u00a0and working with\\u00a0React Flux architecture.\\nExperienced in working with\\u00a0redux architecture\\u00a0using complex Object-Oriented concepts in improving the performance of the websites.\\nExperience in using\\u00a0React JS components, Forms, Events, Keys, Router, plus Redux, Animations.\\nExpertise in video coding by using\\u00a0HTML5,\\u00a0CSS3\\u00a0and\\u00a0JavaScript.\\nExpertise in\\u00a0RESTful,\\u00a0SOAP\\u00a0web services to integrate between\\u00a0Application\\u00a0to\\u00a0Application\\nExperience with\\u00a0front-end development\\u00a0with\\u00a0back-end system integration.\\nTECHNICAL SKILLS:\\nWeb Technologies:\\u00a0HTML, CSS3, XML, JavaScript, JSON, React JS, Node.js, GitHub.\\n\\nQUALIFICATION:\\nB-Tech from JNTU-Kakinada University - 2016\\nPROFESSIONAL EXPERIENCE:\\nI have experience as React JS Developer with 3.2 years of experience in the IT Industry and currently working in BOSCH.\\nCurrent Project: AGSP (Auto Guar age Solution Project)\\nRole: UI Developer/ React JS Developer\\nResponsibilities:\\nDesign, develop and test\\u00a0HTML5,\\u00a0CSS3,\\u00a0Bootstrap,\\u00a0JavaScript\\u00a0and\\u00a0React.JS\\u00a0that meets accessibility and web browser standards for website.\\nDeveloped user interface by using the\\u00a0React JS, Flux\\u00a0for\\u00a0SPA\\u00a0development.\\u00a0\\nUsed React-Router to turn application into\\u00a0Single Page Application\\nWorked in using\\u00a0React JS components, Forms, Events, Keys, Router, Animations and Flux concept.\\nUsed\\u00a0React flux\\u00a0to polish the data and for single directional flow.\\nUsed\\u00a0Object Oriented Programming\\u00a0concepts to develop\\u00a0UI\\u00a0components that could be reused across the\\u00a0Web Application.\\nExtensively used\\u00a0Git\\u00a0for version controlling and regularly pushed the code to\\u00a0GitHub.\\nUsed\\u00a0JIRA\\u00a0as the bug tracking system to track and maintain the history of\\u00a0bugs/issues\\u00a0on everyday basis.\\n Environment: HTML5, CSS3, JavaScript, Bootstrap, React JS, Redux, JSON, Git hub, JIRA\\nPrevious Project:  SITE WORK PROJECT\\nRole: UI Developer/ React JS Developer\\nResponsibilities:\\nWorked on an\\u00a0Agile\\u00a0(Scrum)\\u00a0Development\\u00a0Team\\u00a0to deliver regular updates to business team and project managers.\\nInvolved designing in web pages using\\u00a0HTML\\u00a05,\\u00a0CSS3,\\u00a0JavaScript, Bootstrap, React.js,\\u00a0Redux\\u00a0, \\nWorked on\\u00a0React JS Virtual Dom\\u00a0and\\u00a0React views, rendering using components which contains additional components called custom\\u00a0HTML tags.\\nImplemented various screens for the front end using\\u00a0React.js\\u00a0and used various predefined\\u00a0components\\u00a0from\\u00a0NPM (Node Package Manager)\\u00a0and\\u00a0redux library.\\nWorked in using\\u00a0React JS components, Forms, Events, Keys, Router, Animations,\\u00a0and\\u00a0Flux concept.\\nResponsible for\\u00a0React\\u00a0UI\\u00a0and\\u00a0architecture.\\u00a0Building\\u00a0components\\u00a0library,\\u00a0including\\u00a0Tree,\\u00a0Slide-View,\\u00a0and Table Grid.\\nImplemented stable\\u00a0React\\u00a0components\\u00a0and\\u00a0stand-alone functions\\u00a0to be added to any future pages.\\nUsed\\u00a0React JS\\u00a0for\\u00a0tinplating\\u00a0for faster compilation and developing reusable\\u00a0components.\\nUsed\\u00a0React-Auto complete\\u00a0for creating\\u00a0Google maps\\u00a0location search on the webpage.\\u00a0 Environment:\\u00a0HTML5, CSS3, Bootstrap, GitHub and Jenkins.\\n\",\n          \"B. vinod kumar\\n\\nOBJECTIVE:\\nWilling to work under a challenging and professional environment with exposure to new technologies as an SQL and MSBI developer in the area of SQL SERVER 2014, 2016 with Enterprise Portal and where there is a scope for Organizational growth as well as individual growth.\\nProfessional summary:\\nHaving around 2.2Years of IT Experience in Microsoft Business Intelligence (MSBI) under SQL server environment, with through knowledge of SQL server 2014,2016 databases.\\nExtensive experience on Joins, Set Operators, Table Variables, Temporary Tables, CTE & Sub Queries.\\nGood experience in writing Simple and sample SQL queries.\\nExperience in Developing Stored Procedures and User defined functions.\\nHands on Experience Triggers , views, cursor and synonyms.\\nExperience on Writing SQL using joins, sub queries.\\nGood at generating multiple reports using SSRS from SQL server database and included various reporting features such as Drill-Down, Drill-Through, Cascading Reports and Sub Reports.\\nExperience in importing/exporting data between different sources like Excel/Flatfile etc.\\nGood experience on Backups & Restoring into different Servers.\\nHands on Exeperience on different transformations like Data conversion, Derived coloumn, Look up, Merge join, Union All, Sort, Fuzzy lookup.\\nGood Experience on Ranking, Aggregate and String Functions.\\nExperience on Design and development of SQL Server Integration Services(SSIS) packages and using various control flow tasks like Data floe task and Excute SQL task and containres like For Loop container and sequence container and For -each container.\\nExperience on deploying the reports and creating subscriptions to send the reports on schedule basis.\\n\\nEDUCATIONAL BACKGROUND:\\nB.Tech (computer science and engineering),JNTU,Ananthapuramu.\\n\\nPROFESSIONAL EXPERIENCE:\\nWorking in united health group as a Software Engineer, Bangalore since may-2019 to till date.\\n\\n\\nTECHNICAL SKILLS:\\nTechnologies\\t: Microsoft Business Intelligence Tools (MSBI)\\nLanguages\\t: SQL, T-SQL.\\nETL Tools\\t: SQL Server Integration Services.\\nReporting Tools\\t: SQL Server Reporting Services\\n\\nPROJECT DETAILS:\\nClient: Uk\\nProject: National skill Development corporation\\nRole: SQL Server and SSIS developer\\nEnvirnoment : SSIS, SSRS and MS SQL Server.\\nProject 1: National Skill Development Corporation (NSDC)\\nClient\\t: National Skill Development Corporation (INDIA) Role\\t: SQL Developer\\nEnvironment\\t: SQL Server, Nano-BI. Duration\\t: May 2019 to till now.\\n\\nDescription:\\nNSDC Provides training / placements to people across the country through SIP across specific skill sets. Under NSDC there are multiple scheme types like PMKVY, Non-PMKVY and Fee-Based, Based on scheme type candidates will enroll to the batches under particular training centres. In every batch minimum 10 candidates can enroll. After enrolling candidates will go for Training then these candidates will go for assessment and Failed candidates can apply for re-assessment and the candidates who are passed will go for the certification. And the certified candidates will get placement through NSDC.\\n\\nROLES AND RESPONSIBILITIES:\\nBy using NANO BI Analytical tool creating tables.\\nDeveloped ETL Scripts to populate the data from different tables by using joins, CTE\\u2019s and Date functions.\\nBy using NANO BI Analytical tool creating tables.\\nInvolved in Creating analytics with measures and dimensions to populate data and created dashboard to clients by their requirement.\\nResponsible for Creating and Modifying T-SQL stored procedures for validating the integrity of the data.\\nResponsible for writing complex SQL Queries, Joins, Constraints, DDL, DML Date Functions to implement the business logic.\\n\\nExperience in creating different types of Reports according to the user request by using NANO BI Analytical tool.\\nInvolved in deploying and scheduling the reports using Report Emailer.\\nInvolved in scheduling the Stored procedures to refresh the data on every day using Workflows in NANO BI.\\n\\n\\n\\n\\nB. Vinod kumar\",\n          \"VENKATA SAIKRISHNA\\n Workday Consultant\\n\\n\\nPROFSSIONAL SUMMARY:\\n\\t\\nOver all 3 years of IT experience as a Workday Consultant.\\nIntegral in maintenance and creation of Workday Supervisory Organizations, Business Process, Locations, Positions, Company, Cost centers, and Hierarchies.\\nExperience in understanding the Client Business Requirements, Organizational Hierarchy Setup, Configurable Security Setup and Tenant Setup.\\nWorked with different Staffing Models, defining Hire restrictions to Job Management, Position Management.\\nHands on experience with Compensation Module like creating Compensation Grades, Compensation Eligibility Rules, Allowance Plans, Salary Plans, Hourly Plans.\\nExperience in creating Job Profiles, Job Families, and Job Family Group.\\nExperience with Workday security groups like Role based security, User based Security, Intersection, and Job based Security.\\nExperience with creating Staffing models for Supervisory Orgs, Reorganizations and business process framework, Organization Types, Organization Hierarchies.\\nStrong Experience with Workday Report Writer - Custom Reporting (Calculated Fields, Advanced, Standard Reports).\\nHands on experience in inbound/ outbound integrations using EIB and core connectors.\\nTroubleshooted day to day issues arising in Workday, reporting issues to identify and fix root causes.\\n\\nTECHNICAL SKILLS:\\n\\n\\nPROFESSIONAL EXPERIENCE:\\n\\nWorking as Workday Consultant in Value Momentum, from Aug-2018 to Till Date.\\nRole: Workday Consultant\\nResponsibilities:\\nCreated Supervisory Organizations, Cost Centers, Cost Centre Hierarchies, and location hierarchies\\u2019 maintenance, Staffing Models, Job details Positions and Job Requisitions.\\nSetup end to end recruiting process for clients from creating business processes like job application, Offer, Hire, and Onboarding, setup external career site, questionnaires, offer letters and review documents. \\nStaffing Movements, An employee changes in position, inbound process and outbound process.\\nTermination Process, initiate termination process, review termination process, to do tasks\\nWorked on the creation of benefit plans, job profiles, and job families.\\nConfigured Workday compensation packages including salary, bonus, allowance, commission, and compensation eligibility rules based on management levels, job profile, and job family.\\nManaged job description and workflow of employee data for compensation module including job families, pay ranges and supervisor setup.\\nSetup Merit plans including merit and bonus plan processing and created the business process for bonus plan, merit plan, salary plan and hourly plan.\\nWorked on several calculated fields like look up related value, Evaluate Expression, True or false conditions, Arithmetic Calculation, formatting date fields etc... \\nPerformed arithmetic calculation in Matrix report for counting, averaging, summing, ranging between maximum and minimum. \\nWorked with Simple and Advanced Reports, defining columns, business objects, fields.\\nSetup security groups, domain security policies and business process security policies.\\nWorked with Business Process and configurations various business process on Compensation, Talent Management, Recruiting, Benefits. \\nConfiguration of Workday\\u2019s business process framework configured conditional rules to guide workflow or validate data as required to accommodate desired outcomes.\\nDeveloping the integrations using tool Enterprise Interface Builder (EIB), Core connector\\nDesigned and built both inbound and outbound EIB in various segments of Workday system.\\nEnvironment: EIB, Web services, Workday Report Writing, custom Reports, calculated fields, compensation, MS PowerPoint, MS Excel, Windows.\\n\\n\\n\\nEDUCATION:\\nMBA in HR and Marketing from KL University in 2018.\\n\\t\\t\\t\\t\\t\\t\\t\\t\\t\\n\\nDECLARATION:\\n\\nI do here by declare that all particulars mentioned above are true to the best of my knowledge.\\n\\n\\n\\n\\n\\n\\n\\n\\n\\nHyderabad\\t\\t\\t\\t\\t\\t\\t\\t\\t                     \\n\\n\\n\\n\\n\\n\\n\\n\\n\\n\"\n        ],\n        \"semantic_type\": \"\",\n        \"description\": \"\"\n      }\n    },\n    {\n      \"column\": \"label\",\n      \"properties\": {\n        \"dtype\": \"number\",\n        \"std\": 1,\n        \"min\": 0,\n        \"max\": 3,\n        \"num_unique_values\": 4,\n        \"samples\": [\n          0,\n          1,\n          2\n        ],\n        \"semantic_type\": \"\",\n        \"description\": \"\"\n      }\n    }\n  ]\n}"
            }
          },
          "metadata": {},
          "execution_count": 15
        }
      ],
      "source": [
        "df"
      ]
    },
    {
      "cell_type": "code",
      "execution_count": null,
      "metadata": {
        "colab": {
          "base_uri": "https://localhost:8080/",
          "height": 123
        },
        "id": "gU-jaM1_qZvF",
        "outputId": "81a14921-2fb9-4e05-abfd-266d8a90472d"
      },
      "outputs": [
        {
          "output_type": "execute_result",
          "data": {
            "text/plain": [
              "'Murali\\n\\nExperience Summary \\n\\nI have 6 years of experience working in PeopleSoft Administration and performing various infrastructure related activities in PeopleSoft environments. \\n\\nInstalled and configured PeopleSoft 9.0,9.1,9.2 Web server, Application server, Database server and Process scheduler \\nserver on Windows, UNIX and Linux platforms.\\nCreating Domains for Web server, Application server and Process scheduler server.\\nApplied Patches Manually and applied Maintenance Packs through Change Assistant tool.\\nExperience in DPKs installations.\\nApplying TAX UPDATES and fixes using PUM\\nMigrating projects from one environment to another environment using Application Designer and also through CAPI, STAT tools.\\nPerformed Single sign on (SSO)Implementation.\\nExperience in running Compare Reports between pre and Post Migrations.\\nExperience in setting up Client Workstation for Developers and Testers.\\nInvolved in Configuration of Integration Broker setting up Between the Modules for sending the Messages.\\nInvolved 24/7 production Support to Client.\\nInvolved in Running Audit Reports (DDDAUDIT AND SYSAUDIT) for Integrity Checks.\\nExperience in Configuration and Setup the REN server.\\nConfigured and Maintained Report Nodes settings.\\nChecked and Clear Cache for the servers.\\nInvolved in Troubleshooting of the servers like Application server, web server and Process scheduler server. \\nWorked on Peopletools Upgrade PT8.52 to PT8.55 and 8.55 to 8.57.\\nInstalling and configuring Elastic Search 6.1.2\\n\\nCareer Profile:\\n\\nClient :Sembcorp , Brazil\\n\\nDescription:\\nThis project involved active production support in the fields of HRMS 9.2. Additionally also involved in maintenance and enhancement of the system.\\n\\nResponsibility:\\n\\n\\n Installation and setup of People Soft HCM & ELM 9.2 on Oracle.\\n Creating database user, assigning roles & privileges to the users.\\n Maintaining various People Soft instances.\\n Debugging and resolving issues related to application server\\\\web server\\\\process    scheduler.\\n Weekly\\\\monthly database maintains.\\nPerformed People tools upgrade from 8.55.14 to 8.57.05.\\nPerforming Post refresh Activities.\\n\\n\\n\\nClient :Wipro, IND\\nPlatforms : People Tools 8.56, People Soft HCM 9.2.\\n\\nDescription:\\nThis project involved active production support in the fields of HRMS 9.2. Additionally also involved in maintenance and enhancement of the system.\\n\\nResponsibility:\\n Installation and setup of People Soft HCM 9.2 on Oracle.\\n Creating database user, assigning roles & privileges to the users.\\n Maintaining various People Soft instances.\\n Debugging and resolving issues related to application server\\\\web server\\\\process    scheduler.\\n Weekly\\\\monthly database maintains.\\n Creating and modifying data mover scripts.\\n Migrating projects using CAPI.\\n Applying Patches.\\n Setting up a PeopleSoft Reporting environment for reporting.\\n Interacting with the client for various Production related issues.\\nApplying TAX UPDATES using PUM.\\nPerforming Post refresh Activities.\\n\\n\\n\\n\\n Project Title :People Soft HCM Production Support and Enhancement\\nClient : ASG, USA\\nPlatforms : People Tools 8.52,8.54 People Soft HCM 9.0,9.2 DB2\\nAIX 5.1.\\n\\nDescription:\\nThis project involved active production support in the fields of HRMS 9.0. Additionally also involved in maintenance and enhancement of the system.\\n\\nResponsibility:\\n\\n Installation and setup of People Soft HCM 9.0,9.1 on DB2.\\n Creating database user, assigning roles & privileges to the users.\\n Maintaining various People Soft instances.\\n Debugging and resolving issues related to application server\\\\web server\\\\process    scheduler.\\n Weekly\\\\monthly database maintains.\\n Creating and modifying data mover scripts.\\nMigrating projects using STAT,CAPI.\\n Applying Patches.\\n Setting up a PeopleSoft Reporting environment for reporting.\\n Interacting with the client for various Production related issues.\\nApplying TAX UPDATES using PUM.\\nPerforming Post refresh Activities.\\n\\n\\n\\n\\n\\nTechnology\\n\\n\\n\\n\\n\\n\\n\\nPersonal Details\\n\\n\\n\\n\\n\\n\\n\\nDate:\\n\\nPlace:  Hyderabad'"
            ],
            "application/vnd.google.colaboratory.intrinsic+json": {
              "type": "string"
            }
          },
          "metadata": {},
          "execution_count": 16
        }
      ],
      "source": [
        "df['Text'][3]"
      ]
    },
    {
      "cell_type": "code",
      "execution_count": null,
      "metadata": {
        "colab": {
          "base_uri": "https://localhost:8080/",
          "height": 123
        },
        "id": "szEapZkUqdz7",
        "outputId": "3713858d-376d-4b3d-eabf-db3c1304e4d5"
      },
      "outputs": [
        {
          "output_type": "execute_result",
          "data": {
            "text/plain": [
              "'Ramesh A\\t\\t\\t\\t\\t\\t\\t\\t\\t\\t\\t\\t\\t\\t\\t\\t\\t\\t\\t\\n(Workday HCM Consultant)\\n\\n\\nPROFESSIONAL SUMMARY:\\nAn ERP Consultant with overall\\xa05+ years\\xa0of professional IT experience with\\xa03+ years\\xa0of extensive\\xa0Workday experience.\\nExceptional experience in Workday’s\\xa0Core HR, Staffing and Compensation Functional areas.\\nHands on experience in Configuring Organizations, Business process and creation of Custom Reports.\\nExperienced on Compensation elements configurations and updates.\\nInvolved in requirements analysis, integrations, testing and system documentation support.\\nCreation of various\\xa0calculated fields\\xa0to use in custom reports.\\nConfiguring\\xa0EIB Inbound and Load data into workday with webservices.\\nCreation of various custom reports as per the requirements.\\nWorking on various enhancements related to EIB Integrations, Custom Reports and Configuration changes.\\nExperience with creating\\xa0Staffing models for Supervisory Orgs, Reorganizations and business process framework, Organization Types, Organization Hierarchies.\\nGood experienced in developing technical solutions for the Workday platform using\\xa0EIB and Web Services.\\nWorkday training includes Fundamentals, Simple Inbound Integrations, Business Processes, Calculated Fields, Report Writer, and Security Fundamentals.\\nExperience in writing SQL queries and have exposure to different databases, includes SQL Server.\\nPossess Good communication skills, keen to adapt to new technologies and effective Team Player. \\n\\nTECHNICAL SKILLS:\\n\\n\\nEDUCATION:\\nBachelor of Technology: Mechanical Engineering from Jawaharlal Nehru Technological University – Kakinada.\\nPROFESSIONAL EXPERIENCE:\\nTata Consultancy Services  \\t\\t\\t \\nProject: Support/Enhancement of Workday HCM\\t                               \\t\\t\\t      (May’ 19 – Till date) \\nAIMS Community College, USA\\nWorkday HCM Functional Consultant\\n\\nRoles and Responsibilities:\\nResponsible to work on workday application incidents raised by business end users.\\nTroubleshoot the issue to find the root cause of the incident and provide them a solution.\\nWritten custom validations on business process object as per business requirement.\\nModified Business process as add/remove steps from the existing configurations.\\nChanged the security groups on business process security policy functional areas.\\nModified step condition rules for existing business processes.\\nDeveloped custom Integrations to update Compensation Eligibility rules, Grade and Grade profiles.\\nDeveloped Inbound integrations to load job profile and matrix organization per business requirement.\\nClarify the end user queries and guide new users about workday system functionality.\\nCommunicate end users for better understand of the case and update the status of incident.\\nResponsible to Loaded new set of setup data through EIB.\\nCreate and modify condition rules as per new business policy changes.\\nConfigured new work schedules as requested by the business operations user.\\n\\n\\nProject: Support of Workday HCM                       \\t\\t\\t\\t\\t(Nov’17 – May’ 19)\\nSafeway, Phoenix, AZ       \\t\\t\\t\\t\\t\\t\\nWorkday Reports Developer.\\n\\nRoles and Responsibilities:\\nWorked on Reports to create custom reports using\\xa0Workday\\xa0Report Writer to meet the business needs of HR application report consumer groups.\\xa0\\nGenerate different kinds of\\xa0reports\\xa0- Simple, Advanced and Matrix\\xa0reports\\xa0to meet client requirements within the\\xa0workday\\xa0tenant. \\nCreate calculated fields for Custom\\xa0Reports\\xa0to ensure required report delivery.\\xa0\\nDeveloped advanced custom reports, composite reports and matrix reports in Workday and test developed reports.\\nDesignedand built both inbound and outbound EIB integrations in various segments of Workday system.\\nCreated Organizations (Locations, Supervisory Orgs, Business Units, Cost Centers, Custom orgs, Organization Hierarchy (Location Hierarchy).\\nCreate reports by using appropriate data source and business objects to deliver output for end users.\\nCreated report on Employee Convert to Contract to full time Employee List.\\nCreated report on Contingent workers, converting the contingent workers into employees.\\nExtensively worked on Workday application in creating\\xa0reports, calculated fields, basic integrations using EIB, data conversion and Migrations.\\nDeveloped custom reports for the hcm modules like Core HR.\\nUsed Report Writer to create new Custom reports with appropriate Data Sources, Objects and Fields\\nSupported Customer resources in development and troubleshooting of reports and integrations.\\n\\n\\nProject: Support of PeopleSoft HCM\\t\\t\\t\\t\\t\\t\\t(April’16 – Oct’17)\\nAmdocs\\nPeopleSoft Developer\\n\\nResponsibilities:\\nAnalyzed the requirement documents to understand the customer business requirement.\\nCustomized system applications and designed many applications as scratch.\\nWork with incident request raised at user end.\\nInteract with onsite team to know status of project on daily basis.\\nResponsible to work on support issues.\\nConsulting with the Solution Architect on business prospective implementation workflow.\\nCollaborating with overseas team-mates on daily/weekly discussions.\\nAnalyzing the issues and providing resolutions reported by users\\nWorking on Incidents, Service Request and EWO’s (Enhancement Work Orders).\\nDeveloped custom advanced custom reports, calculated fields, complex xslt logic \\nCoordinate with other team members for defect deliveries and production support activities.\\nConduct knowledge sharing sessions to newly joined team members.\\n\\n'"
            ],
            "application/vnd.google.colaboratory.intrinsic+json": {
              "type": "string"
            }
          },
          "metadata": {},
          "execution_count": 17
        }
      ],
      "source": [
        "df['Text'][75]"
      ]
    },
    {
      "cell_type": "markdown",
      "metadata": {
        "id": "0-jqjmyDqj-s"
      },
      "source": [
        "## Data Preprocessing"
      ]
    },
    {
      "cell_type": "code",
      "execution_count": null,
      "metadata": {
        "colab": {
          "base_uri": "https://localhost:8080/"
        },
        "id": "OtrNdGrKqhEf",
        "outputId": "39a82bbf-0a20-4f0b-c28d-78422fca8835"
      },
      "outputs": [
        {
          "output_type": "stream",
          "name": "stderr",
          "text": [
            "[nltk_data] Downloading package stopwords to /root/nltk_data...\n",
            "[nltk_data]   Unzipping corpora/stopwords.zip.\n",
            "[nltk_data] Downloading package wordnet to /root/nltk_data...\n",
            "[nltk_data] Downloading package punkt to /root/nltk_data...\n",
            "[nltk_data]   Unzipping tokenizers/punkt.zip.\n",
            "[nltk_data] Downloading package punkt_tab to /root/nltk_data...\n",
            "[nltk_data]   Unzipping tokenizers/punkt_tab.zip.\n"
          ]
        },
        {
          "output_type": "execute_result",
          "data": {
            "text/plain": [
              "True"
            ]
          },
          "metadata": {},
          "execution_count": 18
        }
      ],
      "source": [
        "import re\n",
        "import nltk\n",
        "nltk.download('stopwords')\n",
        "nltk.download('wordnet')\n",
        "nltk.download('punkt')\n",
        "nltk.download('punkt_tab')"
      ]
    },
    {
      "cell_type": "code",
      "execution_count": null,
      "metadata": {
        "id": "rQCkS-SFqnNQ"
      },
      "outputs": [],
      "source": [
        "from nltk.corpus import stopwords\n",
        "from nltk.stem import WordNetLemmatizer\n",
        "from nltk.tokenize import word_tokenize"
      ]
    },
    {
      "cell_type": "code",
      "execution_count": null,
      "metadata": {
        "id": "nFvJ2Sn4qpsU"
      },
      "outputs": [],
      "source": [
        "Lemmatizer = WordNetLemmatizer()"
      ]
    },
    {
      "cell_type": "code",
      "execution_count": null,
      "metadata": {
        "id": "QWkD1Sonqrtf"
      },
      "outputs": [],
      "source": [
        "def preprocess_data(text):\n",
        "    cleantext = re.sub(r'http\\S+|www\\.\\S+', '',text)\n",
        "    cleantext = re.sub(r'@\\S+','',cleantext)\n",
        "    cleantext = re.sub(r'#\\S+','',cleantext)\n",
        "    cleantext = re.sub(r'[^\\w\\s]','',cleantext)\n",
        "    cleantext = cleantext.lower()\n",
        "    words = word_tokenize(cleantext)\n",
        "    words = [Lemmatizer.lemmatize(word,pos='v') for word in words if not word in stopwords.words('english')]\n",
        "    cleantext = ' '.join(words)\n",
        "    return cleantext"
      ]
    },
    {
      "cell_type": "code",
      "execution_count": null,
      "metadata": {
        "id": "4fO54YWYrEZ1"
      },
      "outputs": [],
      "source": [
        "def preprocess_data2(text):\n",
        "  cleantext = re.sub('[^a-zA-Z]',' ',text)\n",
        "  return cleantext"
      ]
    },
    {
      "cell_type": "code",
      "execution_count": null,
      "metadata": {
        "id": "6WBKXzwor8T-"
      },
      "outputs": [],
      "source": [
        "df['Text'] = df['Text'].apply(preprocess_data)"
      ]
    },
    {
      "cell_type": "code",
      "execution_count": null,
      "metadata": {
        "id": "PLNLY2eCuSg-"
      },
      "outputs": [],
      "source": [
        "df['Text'] = df['Text'].apply(preprocess_data2)"
      ]
    },
    {
      "cell_type": "code",
      "execution_count": null,
      "metadata": {
        "colab": {
          "base_uri": "https://localhost:8080/",
          "height": 123
        },
        "id": "GTyzguTRuX8W",
        "outputId": "c0620a96-cd6d-4592-8a3b-df4edc5f8ced"
      },
      "outputs": [
        {
          "output_type": "execute_result",
          "data": {
            "text/plain": [
              "'murali experience summary   years experience work peoplesoft administration perform various infrastructure relate activities peoplesoft environments instal configure peoplesoft        web server application server database server process scheduler server windows unix linux platforms create domains web server application server process scheduler server apply patch manually apply maintenance pack change assistant tool experience dpks installations apply tax update fix use pum migrate project one environment another environment use application designer also capi stat tool perform single sign ssoimplementation experience run compare report pre post migrations experience set client workstation developers testers involve configuration integration broker set modules send message involve     production support client involve run audit report dddaudit sysaudit integrity check experience configuration setup ren server configure maintain report nod settings check clear cache servers involve troubleshoot servers like application server web server process scheduler server work peopletools upgrade pt    pt            instal configure elastic search     career profile client sembcorp brazil description project involve active production support field hrms    additionally also involve maintenance enhancement system responsibility installation setup people soft hcm elm    oracle create database user assign roles privilege users maintain various people soft instance debug resolve issue relate application serverweb serverprocess scheduler weeklymonthly database maintain perform people tool upgrade             perform post refresh activities client wipro ind platforms people tool     people soft hcm    description project involve active production support field hrms    additionally also involve maintenance enhancement system responsibility installation setup people soft hcm    oracle create database user assign roles privilege users maintain various people soft instance debug resolve issue relate application serverweb serverprocess scheduler weeklymonthly database maintain create modify data mover script migrate project use capi apply patch set peoplesoft report environment report interact client various production relate issue apply tax update use pum perform post refresh activities project title people soft hcm production support enhancement client asg usa platforms people tool        people soft hcm      db  aix    description project involve active production support field hrms    additionally also involve maintenance enhancement system responsibility installation setup people soft hcm      db  create database user assign roles privilege users maintain various people soft instance debug resolve issue relate application serverweb serverprocess scheduler weeklymonthly database maintain create modify data mover script migrate project use statcapi apply patch set peoplesoft report environment report interact client various production relate issue apply tax update use pum perform post refresh activities technology personal detail date place hyderabad'"
            ],
            "application/vnd.google.colaboratory.intrinsic+json": {
              "type": "string"
            }
          },
          "metadata": {},
          "execution_count": 25
        }
      ],
      "source": [
        "df['Text'][3]"
      ]
    },
    {
      "cell_type": "markdown",
      "metadata": {
        "id": "ST_VnUB_vSGt"
      },
      "source": [
        "## Vectorization"
      ]
    },
    {
      "cell_type": "code",
      "execution_count": null,
      "metadata": {
        "id": "jLDLguuzudRQ"
      },
      "outputs": [],
      "source": [
        "import gensim"
      ]
    },
    {
      "cell_type": "code",
      "execution_count": null,
      "metadata": {
        "id": "Zcm8WppTvUXT"
      },
      "outputs": [],
      "source": [
        "from gensim.models import Word2Vec, KeyedVectors\n",
        "from nltk import sent_tokenize\n",
        "from gensim.utils import simple_preprocess"
      ]
    },
    {
      "cell_type": "code",
      "execution_count": null,
      "metadata": {
        "id": "Yfpp5UOlvauo"
      },
      "outputs": [],
      "source": [
        "words = []\n",
        "for sent in df['Text']:\n",
        "    sent_token = sent_tokenize(sent)\n",
        "    for sent in sent_token:\n",
        "        words.append(simple_preprocess(sent))"
      ]
    },
    {
      "cell_type": "code",
      "execution_count": null,
      "metadata": {
        "id": "NwvPaLKovdmk"
      },
      "outputs": [],
      "source": [
        "model = gensim.models.Word2Vec(words)"
      ]
    },
    {
      "cell_type": "code",
      "execution_count": null,
      "metadata": {
        "colab": {
          "base_uri": "https://localhost:8080/"
        },
        "id": "fXXuxL0KvyBz",
        "outputId": "a98fc740-7c84-439a-d5a8-5f6187411f33"
      },
      "outputs": [
        {
          "output_type": "execute_result",
          "data": {
            "text/plain": [
              "<gensim.models.word2vec.Word2Vec at 0x7b01c59bdd80>"
            ]
          },
          "metadata": {},
          "execution_count": 30
        }
      ],
      "source": [
        "model"
      ]
    },
    {
      "cell_type": "code",
      "execution_count": null,
      "metadata": {
        "colab": {
          "base_uri": "https://localhost:8080/"
        },
        "id": "AuYOxCDcv0Zc",
        "outputId": "add61a5b-26a2-4410-9f8d-70a4482f8cb4"
      },
      "outputs": [
        {
          "output_type": "execute_result",
          "data": {
            "text/plain": [
              "5"
            ]
          },
          "metadata": {},
          "execution_count": 31
        }
      ],
      "source": [
        "model.epochs"
      ]
    },
    {
      "cell_type": "code",
      "execution_count": null,
      "metadata": {
        "colab": {
          "base_uri": "https://localhost:8080/"
        },
        "id": "opTCTHLev2ov",
        "outputId": "f6a18b71-0da4-4c43-cdbd-ac76dd0919e8"
      },
      "outputs": [
        {
          "output_type": "execute_result",
          "data": {
            "text/plain": [
              "1003"
            ]
          },
          "metadata": {},
          "execution_count": 32
        }
      ],
      "source": [
        "len(model.wv.index_to_key)"
      ]
    },
    {
      "cell_type": "code",
      "execution_count": null,
      "metadata": {
        "colab": {
          "base_uri": "https://localhost:8080/"
        },
        "id": "ZHT7hTHev5io",
        "outputId": "c04bf049-60b6-4358-b97a-8171acdef50f"
      },
      "outputs": [
        {
          "output_type": "execute_result",
          "data": {
            "text/plain": [
              "array([ 0.09816737,  0.2635377 , -0.0937145 ,  0.22419725,  0.02507721,\n",
              "       -0.46242315,  0.39568123,  0.48149922, -0.38041604, -0.11432944,\n",
              "       -0.30826265, -0.22820877, -0.18196782,  0.09573566,  0.1671116 ,\n",
              "       -0.34466597, -0.33410373, -0.29030606, -0.05643557, -0.34787393,\n",
              "        0.33753031,  0.29391915,  0.2780096 ,  0.116871  , -0.0889869 ,\n",
              "       -0.15260732, -0.06222611, -0.12643717, -0.05959341, -0.16345812,\n",
              "        0.31882536, -0.00538989,  0.20028235, -0.14445858,  0.09286562,\n",
              "        0.68671256,  0.18554361, -0.06047521, -0.29458097, -0.5874193 ,\n",
              "       -0.12826149, -0.27045238, -0.18335466,  0.1605198 ,  0.26235878,\n",
              "       -0.09311514, -0.19055453,  0.27067843,  0.39731008,  0.21217366,\n",
              "        0.27916822, -0.49359223,  0.13444896, -0.2244538 , -0.35360998,\n",
              "        0.08111889, -0.13674021, -0.6105806 , -0.5380815 ,  0.01928307,\n",
              "        0.1355997 ,  0.09411555, -0.09044708, -0.21186526, -0.39476606,\n",
              "        0.15585822,  0.01796458,  0.63141036, -0.7822147 ,  0.42221844,\n",
              "       -0.19684944,  0.2704525 ,  0.38076767, -0.06992086,  0.15689218,\n",
              "        0.42664415, -0.37697634, -0.16384535, -0.40578687,  0.19918782,\n",
              "       -0.08789084, -0.21187587, -0.47005406,  0.20011976,  0.13506427,\n",
              "       -0.07792772,  0.1084374 ,  0.36777598,  0.42893595,  0.3485284 ,\n",
              "        0.58039045,  0.44277167, -0.19189966, -0.15743533,  0.48506486,\n",
              "        0.0611639 , -0.04588958, -0.17134535,  0.1736474 , -0.39641142],\n",
              "      dtype=float32)"
            ]
          },
          "metadata": {},
          "execution_count": 33
        }
      ],
      "source": [
        "model.wv['workday']"
      ]
    },
    {
      "cell_type": "code",
      "execution_count": null,
      "metadata": {
        "id": "yH-ajzF6wPjP"
      },
      "outputs": [],
      "source": [
        "def avg_word_2_vec(doc):\n",
        "  return np.mean([model.wv[word] for word in doc.split() if word in model.wv.index_to_key],axis=0)"
      ]
    },
    {
      "cell_type": "code",
      "execution_count": null,
      "metadata": {
        "id": "P4fvPaBvxHkI"
      },
      "outputs": [],
      "source": [
        "from sklearn.model_selection import train_test_split"
      ]
    },
    {
      "cell_type": "code",
      "execution_count": null,
      "metadata": {
        "id": "mBTHP3tTyjUl"
      },
      "outputs": [],
      "source": [
        "Train_df,Test_df = train_test_split(df,test_size=0.2,random_state=42)"
      ]
    },
    {
      "cell_type": "code",
      "execution_count": null,
      "metadata": {
        "id": "RYBEJ8XDzidL"
      },
      "outputs": [],
      "source": [
        "x_Train,y_Train = Train_df['Text'],Train_df['label']\n",
        "x_Test,y_Test = Test_df['Text'],Test_df['label']"
      ]
    },
    {
      "cell_type": "code",
      "execution_count": null,
      "metadata": {
        "id": "lOMss9JZ0GYR"
      },
      "outputs": [],
      "source": [
        "x_Train_Final = []\n",
        "for sent in x_Train:\n",
        "  x_Train_Final.append(avg_word_2_vec(sent))"
      ]
    },
    {
      "cell_type": "code",
      "execution_count": null,
      "metadata": {
        "id": "OsOJXguS0Mv5"
      },
      "outputs": [],
      "source": [
        "x_Test_Final = []\n",
        "for sent in x_Test:\n",
        "  x_Test_Final.append(avg_word_2_vec(sent))"
      ]
    },
    {
      "cell_type": "markdown",
      "metadata": {
        "id": "OysAWRLo3dPj"
      },
      "source": [
        "## Model Building with Machine Learning Algorithms"
      ]
    },
    {
      "cell_type": "code",
      "execution_count": null,
      "metadata": {
        "id": "ENupzASmLLG-"
      },
      "outputs": [],
      "source": [
        "from sklearn.linear_model import LogisticRegression\n",
        "from sklearn.svm import SVC\n",
        "from sklearn.tree import DecisionTreeClassifier\n",
        "from sklearn.neighbors import KNeighborsClassifier\n",
        "from xgboost import XGBClassifier\n",
        "from sklearn.ensemble import RandomForestClassifier\n",
        "from sklearn.metrics import accuracy_score,confusion_matrix,precision_score,recall_score,f1_score\n",
        "import warnings\n",
        "warnings.filterwarnings('ignore')\n",
        "sns.set_theme(style='darkgrid',palette='viridis')"
      ]
    },
    {
      "cell_type": "code",
      "execution_count": null,
      "metadata": {
        "id": "JmpvQLTZKFh7"
      },
      "outputs": [],
      "source": [
        "models = {\n",
        "    'Random Forest': RandomForestClassifier(),\n",
        "    'Logistic Regression': LogisticRegression(multi_class='ovr'),\n",
        "    'Decision Tree Classifier': DecisionTreeClassifier(),\n",
        "    'SVM':SVC(decision_function_shape='ovo'),\n",
        "    'KNN':KNeighborsClassifier(),\n",
        "    'XGBoost':XGBClassifier()\n",
        "}"
      ]
    },
    {
      "cell_type": "code",
      "execution_count": null,
      "metadata": {
        "id": "5QeYDAe4I1OA"
      },
      "outputs": [],
      "source": [
        "metrics = {\n",
        "    'Model': [],\n",
        "    'Train Accuracy': [],\n",
        "    'Test Accuracy': [],\n",
        "    'Train Precision': [],\n",
        "    'Test Precision': [],\n",
        "    'Train Recall': [],\n",
        "    'Test Recall': [],\n",
        "    'Train F1-Score': [],\n",
        "    'Test F1-Score': []\n",
        "}"
      ]
    },
    {
      "cell_type": "code",
      "execution_count": null,
      "metadata": {
        "id": "W8gN4oRWI1OA"
      },
      "outputs": [],
      "source": [
        "for model_name, model in models.items():\n",
        "    model.fit(x_Train_Final,y_Train)\n",
        "    y_train_pred = model.predict(x_Train_Final)\n",
        "    y_test_pred = model.predict(x_Test_Final)\n",
        "\n",
        "    metrics['Model'].append(model_name)\n",
        "    metrics['Train Accuracy'].append(accuracy_score(y_Train, y_train_pred))\n",
        "    metrics['Test Accuracy'].append(accuracy_score(y_Test, y_test_pred))\n",
        "    metrics['Train Precision'].append(precision_score(y_Train, y_train_pred,average='weighted'))\n",
        "    metrics['Test Precision'].append(precision_score(y_Test, y_test_pred,average='weighted'))\n",
        "    metrics['Train Recall'].append(recall_score(y_Train, y_train_pred,average='weighted'))\n",
        "    metrics['Test Recall'].append(recall_score(y_Test, y_test_pred,average='weighted'))\n",
        "    metrics['Train F1-Score'].append(f1_score(y_Train, y_train_pred,average='weighted'))\n",
        "    metrics['Test F1-Score'].append(f1_score(y_Test, y_test_pred,average='weighted'))"
      ]
    },
    {
      "cell_type": "code",
      "execution_count": null,
      "metadata": {
        "colab": {
          "base_uri": "https://localhost:8080/",
          "height": 237
        },
        "id": "ZIg9cixOI1OA",
        "outputId": "557fae7e-e4ce-4311-8979-707331f8e26c"
      },
      "outputs": [
        {
          "output_type": "execute_result",
          "data": {
            "text/plain": [
              "                      Model  Train Accuracy  Test Accuracy  Train Precision  \\\n",
              "0             Random Forest        1.000000         0.9375         1.000000   \n",
              "1       Logistic Regression        0.671875         0.5000         0.613143   \n",
              "2  Decision Tree Classifier        1.000000         1.0000         1.000000   \n",
              "3                       SVM        0.296875         0.3750         0.088135   \n",
              "4                       KNN        0.828125         0.6875         0.832978   \n",
              "5                   XGBoost        1.000000         1.0000         1.000000   \n",
              "\n",
              "   Test Precision  Train Recall  Test Recall  Train F1-Score  Test F1-Score  \n",
              "0        0.946429      1.000000       0.9375        1.000000       0.936432  \n",
              "1        0.500000      0.671875       0.5000        0.618390       0.486111  \n",
              "2        1.000000      1.000000       1.0000        1.000000       1.000000  \n",
              "3        0.140625      0.296875       0.3750        0.135919       0.204545  \n",
              "4        0.767857      0.828125       0.6875        0.825432       0.681944  \n",
              "5        1.000000      1.000000       1.0000        1.000000       1.000000  "
            ],
            "text/html": [
              "\n",
              "  <div id=\"df-3b353baf-d3e2-4fac-950a-deedf1e97ea6\" class=\"colab-df-container\">\n",
              "    <div>\n",
              "<style scoped>\n",
              "    .dataframe tbody tr th:only-of-type {\n",
              "        vertical-align: middle;\n",
              "    }\n",
              "\n",
              "    .dataframe tbody tr th {\n",
              "        vertical-align: top;\n",
              "    }\n",
              "\n",
              "    .dataframe thead th {\n",
              "        text-align: right;\n",
              "    }\n",
              "</style>\n",
              "<table border=\"1\" class=\"dataframe\">\n",
              "  <thead>\n",
              "    <tr style=\"text-align: right;\">\n",
              "      <th></th>\n",
              "      <th>Model</th>\n",
              "      <th>Train Accuracy</th>\n",
              "      <th>Test Accuracy</th>\n",
              "      <th>Train Precision</th>\n",
              "      <th>Test Precision</th>\n",
              "      <th>Train Recall</th>\n",
              "      <th>Test Recall</th>\n",
              "      <th>Train F1-Score</th>\n",
              "      <th>Test F1-Score</th>\n",
              "    </tr>\n",
              "  </thead>\n",
              "  <tbody>\n",
              "    <tr>\n",
              "      <th>0</th>\n",
              "      <td>Random Forest</td>\n",
              "      <td>1.000000</td>\n",
              "      <td>0.9375</td>\n",
              "      <td>1.000000</td>\n",
              "      <td>0.946429</td>\n",
              "      <td>1.000000</td>\n",
              "      <td>0.9375</td>\n",
              "      <td>1.000000</td>\n",
              "      <td>0.936432</td>\n",
              "    </tr>\n",
              "    <tr>\n",
              "      <th>1</th>\n",
              "      <td>Logistic Regression</td>\n",
              "      <td>0.671875</td>\n",
              "      <td>0.5000</td>\n",
              "      <td>0.613143</td>\n",
              "      <td>0.500000</td>\n",
              "      <td>0.671875</td>\n",
              "      <td>0.5000</td>\n",
              "      <td>0.618390</td>\n",
              "      <td>0.486111</td>\n",
              "    </tr>\n",
              "    <tr>\n",
              "      <th>2</th>\n",
              "      <td>Decision Tree Classifier</td>\n",
              "      <td>1.000000</td>\n",
              "      <td>1.0000</td>\n",
              "      <td>1.000000</td>\n",
              "      <td>1.000000</td>\n",
              "      <td>1.000000</td>\n",
              "      <td>1.0000</td>\n",
              "      <td>1.000000</td>\n",
              "      <td>1.000000</td>\n",
              "    </tr>\n",
              "    <tr>\n",
              "      <th>3</th>\n",
              "      <td>SVM</td>\n",
              "      <td>0.296875</td>\n",
              "      <td>0.3750</td>\n",
              "      <td>0.088135</td>\n",
              "      <td>0.140625</td>\n",
              "      <td>0.296875</td>\n",
              "      <td>0.3750</td>\n",
              "      <td>0.135919</td>\n",
              "      <td>0.204545</td>\n",
              "    </tr>\n",
              "    <tr>\n",
              "      <th>4</th>\n",
              "      <td>KNN</td>\n",
              "      <td>0.828125</td>\n",
              "      <td>0.6875</td>\n",
              "      <td>0.832978</td>\n",
              "      <td>0.767857</td>\n",
              "      <td>0.828125</td>\n",
              "      <td>0.6875</td>\n",
              "      <td>0.825432</td>\n",
              "      <td>0.681944</td>\n",
              "    </tr>\n",
              "    <tr>\n",
              "      <th>5</th>\n",
              "      <td>XGBoost</td>\n",
              "      <td>1.000000</td>\n",
              "      <td>1.0000</td>\n",
              "      <td>1.000000</td>\n",
              "      <td>1.000000</td>\n",
              "      <td>1.000000</td>\n",
              "      <td>1.0000</td>\n",
              "      <td>1.000000</td>\n",
              "      <td>1.000000</td>\n",
              "    </tr>\n",
              "  </tbody>\n",
              "</table>\n",
              "</div>\n",
              "    <div class=\"colab-df-buttons\">\n",
              "\n",
              "  <div class=\"colab-df-container\">\n",
              "    <button class=\"colab-df-convert\" onclick=\"convertToInteractive('df-3b353baf-d3e2-4fac-950a-deedf1e97ea6')\"\n",
              "            title=\"Convert this dataframe to an interactive table.\"\n",
              "            style=\"display:none;\">\n",
              "\n",
              "  <svg xmlns=\"http://www.w3.org/2000/svg\" height=\"24px\" viewBox=\"0 -960 960 960\">\n",
              "    <path d=\"M120-120v-720h720v720H120Zm60-500h600v-160H180v160Zm220 220h160v-160H400v160Zm0 220h160v-160H400v160ZM180-400h160v-160H180v160Zm440 0h160v-160H620v160ZM180-180h160v-160H180v160Zm440 0h160v-160H620v160Z\"/>\n",
              "  </svg>\n",
              "    </button>\n",
              "\n",
              "  <style>\n",
              "    .colab-df-container {\n",
              "      display:flex;\n",
              "      gap: 12px;\n",
              "    }\n",
              "\n",
              "    .colab-df-convert {\n",
              "      background-color: #E8F0FE;\n",
              "      border: none;\n",
              "      border-radius: 50%;\n",
              "      cursor: pointer;\n",
              "      display: none;\n",
              "      fill: #1967D2;\n",
              "      height: 32px;\n",
              "      padding: 0 0 0 0;\n",
              "      width: 32px;\n",
              "    }\n",
              "\n",
              "    .colab-df-convert:hover {\n",
              "      background-color: #E2EBFA;\n",
              "      box-shadow: 0px 1px 2px rgba(60, 64, 67, 0.3), 0px 1px 3px 1px rgba(60, 64, 67, 0.15);\n",
              "      fill: #174EA6;\n",
              "    }\n",
              "\n",
              "    .colab-df-buttons div {\n",
              "      margin-bottom: 4px;\n",
              "    }\n",
              "\n",
              "    [theme=dark] .colab-df-convert {\n",
              "      background-color: #3B4455;\n",
              "      fill: #D2E3FC;\n",
              "    }\n",
              "\n",
              "    [theme=dark] .colab-df-convert:hover {\n",
              "      background-color: #434B5C;\n",
              "      box-shadow: 0px 1px 3px 1px rgba(0, 0, 0, 0.15);\n",
              "      filter: drop-shadow(0px 1px 2px rgba(0, 0, 0, 0.3));\n",
              "      fill: #FFFFFF;\n",
              "    }\n",
              "  </style>\n",
              "\n",
              "    <script>\n",
              "      const buttonEl =\n",
              "        document.querySelector('#df-3b353baf-d3e2-4fac-950a-deedf1e97ea6 button.colab-df-convert');\n",
              "      buttonEl.style.display =\n",
              "        google.colab.kernel.accessAllowed ? 'block' : 'none';\n",
              "\n",
              "      async function convertToInteractive(key) {\n",
              "        const element = document.querySelector('#df-3b353baf-d3e2-4fac-950a-deedf1e97ea6');\n",
              "        const dataTable =\n",
              "          await google.colab.kernel.invokeFunction('convertToInteractive',\n",
              "                                                    [key], {});\n",
              "        if (!dataTable) return;\n",
              "\n",
              "        const docLinkHtml = 'Like what you see? Visit the ' +\n",
              "          '<a target=\"_blank\" href=https://colab.research.google.com/notebooks/data_table.ipynb>data table notebook</a>'\n",
              "          + ' to learn more about interactive tables.';\n",
              "        element.innerHTML = '';\n",
              "        dataTable['output_type'] = 'display_data';\n",
              "        await google.colab.output.renderOutput(dataTable, element);\n",
              "        const docLink = document.createElement('div');\n",
              "        docLink.innerHTML = docLinkHtml;\n",
              "        element.appendChild(docLink);\n",
              "      }\n",
              "    </script>\n",
              "  </div>\n",
              "\n",
              "\n",
              "<div id=\"df-866eacbb-7849-4bbf-a5e9-de6e9c9f8d02\">\n",
              "  <button class=\"colab-df-quickchart\" onclick=\"quickchart('df-866eacbb-7849-4bbf-a5e9-de6e9c9f8d02')\"\n",
              "            title=\"Suggest charts\"\n",
              "            style=\"display:none;\">\n",
              "\n",
              "<svg xmlns=\"http://www.w3.org/2000/svg\" height=\"24px\"viewBox=\"0 0 24 24\"\n",
              "     width=\"24px\">\n",
              "    <g>\n",
              "        <path d=\"M19 3H5c-1.1 0-2 .9-2 2v14c0 1.1.9 2 2 2h14c1.1 0 2-.9 2-2V5c0-1.1-.9-2-2-2zM9 17H7v-7h2v7zm4 0h-2V7h2v10zm4 0h-2v-4h2v4z\"/>\n",
              "    </g>\n",
              "</svg>\n",
              "  </button>\n",
              "\n",
              "<style>\n",
              "  .colab-df-quickchart {\n",
              "      --bg-color: #E8F0FE;\n",
              "      --fill-color: #1967D2;\n",
              "      --hover-bg-color: #E2EBFA;\n",
              "      --hover-fill-color: #174EA6;\n",
              "      --disabled-fill-color: #AAA;\n",
              "      --disabled-bg-color: #DDD;\n",
              "  }\n",
              "\n",
              "  [theme=dark] .colab-df-quickchart {\n",
              "      --bg-color: #3B4455;\n",
              "      --fill-color: #D2E3FC;\n",
              "      --hover-bg-color: #434B5C;\n",
              "      --hover-fill-color: #FFFFFF;\n",
              "      --disabled-bg-color: #3B4455;\n",
              "      --disabled-fill-color: #666;\n",
              "  }\n",
              "\n",
              "  .colab-df-quickchart {\n",
              "    background-color: var(--bg-color);\n",
              "    border: none;\n",
              "    border-radius: 50%;\n",
              "    cursor: pointer;\n",
              "    display: none;\n",
              "    fill: var(--fill-color);\n",
              "    height: 32px;\n",
              "    padding: 0;\n",
              "    width: 32px;\n",
              "  }\n",
              "\n",
              "  .colab-df-quickchart:hover {\n",
              "    background-color: var(--hover-bg-color);\n",
              "    box-shadow: 0 1px 2px rgba(60, 64, 67, 0.3), 0 1px 3px 1px rgba(60, 64, 67, 0.15);\n",
              "    fill: var(--button-hover-fill-color);\n",
              "  }\n",
              "\n",
              "  .colab-df-quickchart-complete:disabled,\n",
              "  .colab-df-quickchart-complete:disabled:hover {\n",
              "    background-color: var(--disabled-bg-color);\n",
              "    fill: var(--disabled-fill-color);\n",
              "    box-shadow: none;\n",
              "  }\n",
              "\n",
              "  .colab-df-spinner {\n",
              "    border: 2px solid var(--fill-color);\n",
              "    border-color: transparent;\n",
              "    border-bottom-color: var(--fill-color);\n",
              "    animation:\n",
              "      spin 1s steps(1) infinite;\n",
              "  }\n",
              "\n",
              "  @keyframes spin {\n",
              "    0% {\n",
              "      border-color: transparent;\n",
              "      border-bottom-color: var(--fill-color);\n",
              "      border-left-color: var(--fill-color);\n",
              "    }\n",
              "    20% {\n",
              "      border-color: transparent;\n",
              "      border-left-color: var(--fill-color);\n",
              "      border-top-color: var(--fill-color);\n",
              "    }\n",
              "    30% {\n",
              "      border-color: transparent;\n",
              "      border-left-color: var(--fill-color);\n",
              "      border-top-color: var(--fill-color);\n",
              "      border-right-color: var(--fill-color);\n",
              "    }\n",
              "    40% {\n",
              "      border-color: transparent;\n",
              "      border-right-color: var(--fill-color);\n",
              "      border-top-color: var(--fill-color);\n",
              "    }\n",
              "    60% {\n",
              "      border-color: transparent;\n",
              "      border-right-color: var(--fill-color);\n",
              "    }\n",
              "    80% {\n",
              "      border-color: transparent;\n",
              "      border-right-color: var(--fill-color);\n",
              "      border-bottom-color: var(--fill-color);\n",
              "    }\n",
              "    90% {\n",
              "      border-color: transparent;\n",
              "      border-bottom-color: var(--fill-color);\n",
              "    }\n",
              "  }\n",
              "</style>\n",
              "\n",
              "  <script>\n",
              "    async function quickchart(key) {\n",
              "      const quickchartButtonEl =\n",
              "        document.querySelector('#' + key + ' button');\n",
              "      quickchartButtonEl.disabled = true;  // To prevent multiple clicks.\n",
              "      quickchartButtonEl.classList.add('colab-df-spinner');\n",
              "      try {\n",
              "        const charts = await google.colab.kernel.invokeFunction(\n",
              "            'suggestCharts', [key], {});\n",
              "      } catch (error) {\n",
              "        console.error('Error during call to suggestCharts:', error);\n",
              "      }\n",
              "      quickchartButtonEl.classList.remove('colab-df-spinner');\n",
              "      quickchartButtonEl.classList.add('colab-df-quickchart-complete');\n",
              "    }\n",
              "    (() => {\n",
              "      let quickchartButtonEl =\n",
              "        document.querySelector('#df-866eacbb-7849-4bbf-a5e9-de6e9c9f8d02 button');\n",
              "      quickchartButtonEl.style.display =\n",
              "        google.colab.kernel.accessAllowed ? 'block' : 'none';\n",
              "    })();\n",
              "  </script>\n",
              "</div>\n",
              "\n",
              "  <div id=\"id_53eafb26-cce3-46cb-8201-98ee0f7efd8b\">\n",
              "    <style>\n",
              "      .colab-df-generate {\n",
              "        background-color: #E8F0FE;\n",
              "        border: none;\n",
              "        border-radius: 50%;\n",
              "        cursor: pointer;\n",
              "        display: none;\n",
              "        fill: #1967D2;\n",
              "        height: 32px;\n",
              "        padding: 0 0 0 0;\n",
              "        width: 32px;\n",
              "      }\n",
              "\n",
              "      .colab-df-generate:hover {\n",
              "        background-color: #E2EBFA;\n",
              "        box-shadow: 0px 1px 2px rgba(60, 64, 67, 0.3), 0px 1px 3px 1px rgba(60, 64, 67, 0.15);\n",
              "        fill: #174EA6;\n",
              "      }\n",
              "\n",
              "      [theme=dark] .colab-df-generate {\n",
              "        background-color: #3B4455;\n",
              "        fill: #D2E3FC;\n",
              "      }\n",
              "\n",
              "      [theme=dark] .colab-df-generate:hover {\n",
              "        background-color: #434B5C;\n",
              "        box-shadow: 0px 1px 3px 1px rgba(0, 0, 0, 0.15);\n",
              "        filter: drop-shadow(0px 1px 2px rgba(0, 0, 0, 0.3));\n",
              "        fill: #FFFFFF;\n",
              "      }\n",
              "    </style>\n",
              "    <button class=\"colab-df-generate\" onclick=\"generateWithVariable('metrics_df')\"\n",
              "            title=\"Generate code using this dataframe.\"\n",
              "            style=\"display:none;\">\n",
              "\n",
              "  <svg xmlns=\"http://www.w3.org/2000/svg\" height=\"24px\"viewBox=\"0 0 24 24\"\n",
              "       width=\"24px\">\n",
              "    <path d=\"M7,19H8.4L18.45,9,17,7.55,7,17.6ZM5,21V16.75L18.45,3.32a2,2,0,0,1,2.83,0l1.4,1.43a1.91,1.91,0,0,1,.58,1.4,1.91,1.91,0,0,1-.58,1.4L9.25,21ZM18.45,9,17,7.55Zm-12,3A5.31,5.31,0,0,0,4.9,8.1,5.31,5.31,0,0,0,1,6.5,5.31,5.31,0,0,0,4.9,4.9,5.31,5.31,0,0,0,6.5,1,5.31,5.31,0,0,0,8.1,4.9,5.31,5.31,0,0,0,12,6.5,5.46,5.46,0,0,0,6.5,12Z\"/>\n",
              "  </svg>\n",
              "    </button>\n",
              "    <script>\n",
              "      (() => {\n",
              "      const buttonEl =\n",
              "        document.querySelector('#id_53eafb26-cce3-46cb-8201-98ee0f7efd8b button.colab-df-generate');\n",
              "      buttonEl.style.display =\n",
              "        google.colab.kernel.accessAllowed ? 'block' : 'none';\n",
              "\n",
              "      buttonEl.onclick = () => {\n",
              "        google.colab.notebook.generateWithVariable('metrics_df');\n",
              "      }\n",
              "      })();\n",
              "    </script>\n",
              "  </div>\n",
              "\n",
              "    </div>\n",
              "  </div>\n"
            ],
            "application/vnd.google.colaboratory.intrinsic+json": {
              "type": "dataframe",
              "variable_name": "metrics_df",
              "summary": "{\n  \"name\": \"metrics_df\",\n  \"rows\": 6,\n  \"fields\": [\n    {\n      \"column\": \"Model\",\n      \"properties\": {\n        \"dtype\": \"string\",\n        \"num_unique_values\": 6,\n        \"samples\": [\n          \"Random Forest\",\n          \"Logistic Regression\",\n          \"XGBoost\"\n        ],\n        \"semantic_type\": \"\",\n        \"description\": \"\"\n      }\n    },\n    {\n      \"column\": \"Train Accuracy\",\n      \"properties\": {\n        \"dtype\": \"number\",\n        \"std\": 0.279406574464823,\n        \"min\": 0.296875,\n        \"max\": 1.0,\n        \"num_unique_values\": 4,\n        \"samples\": [\n          0.671875,\n          0.828125,\n          1.0\n        ],\n        \"semantic_type\": \"\",\n        \"description\": \"\"\n      }\n    },\n    {\n      \"column\": \"Test Accuracy\",\n      \"properties\": {\n        \"dtype\": \"number\",\n        \"std\": 0.270993542358485,\n        \"min\": 0.375,\n        \"max\": 1.0,\n        \"num_unique_values\": 5,\n        \"samples\": [\n          0.5,\n          0.6875,\n          1.0\n        ],\n        \"semantic_type\": \"\",\n        \"description\": \"\"\n      }\n    },\n    {\n      \"column\": \"Train Precision\",\n      \"properties\": {\n        \"dtype\": \"number\",\n        \"std\": 0.36082824836509103,\n        \"min\": 0.088134765625,\n        \"max\": 1.0,\n        \"num_unique_values\": 4,\n        \"samples\": [\n          0.6131433823529412,\n          0.8329782196969697,\n          1.0\n        ],\n        \"semantic_type\": \"\",\n        \"description\": \"\"\n      }\n    },\n    {\n      \"column\": \"Test Precision\",\n      \"properties\": {\n        \"dtype\": \"number\",\n        \"std\": 0.3447411981118521,\n        \"min\": 0.140625,\n        \"max\": 1.0,\n        \"num_unique_values\": 5,\n        \"samples\": [\n          0.5,\n          0.7678571428571428,\n          1.0\n        ],\n        \"semantic_type\": \"\",\n        \"description\": \"\"\n      }\n    },\n    {\n      \"column\": \"Train Recall\",\n      \"properties\": {\n        \"dtype\": \"number\",\n        \"std\": 0.279406574464823,\n        \"min\": 0.296875,\n        \"max\": 1.0,\n        \"num_unique_values\": 4,\n        \"samples\": [\n          0.671875,\n          0.828125,\n          1.0\n        ],\n        \"semantic_type\": \"\",\n        \"description\": \"\"\n      }\n    },\n    {\n      \"column\": \"Test Recall\",\n      \"properties\": {\n        \"dtype\": \"number\",\n        \"std\": 0.270993542358485,\n        \"min\": 0.375,\n        \"max\": 1.0,\n        \"num_unique_values\": 5,\n        \"samples\": [\n          0.5,\n          0.6875,\n          1.0\n        ],\n        \"semantic_type\": \"\",\n        \"description\": \"\"\n      }\n    },\n    {\n      \"column\": \"Train F1-Score\",\n      \"properties\": {\n        \"dtype\": \"number\",\n        \"std\": 0.3425046700285076,\n        \"min\": 0.13591867469879518,\n        \"max\": 1.0,\n        \"num_unique_values\": 4,\n        \"samples\": [\n          0.6183900198609732,\n          0.8254316816816817,\n          1.0\n        ],\n        \"semantic_type\": \"\",\n        \"description\": \"\"\n      }\n    },\n    {\n      \"column\": \"Test F1-Score\",\n      \"properties\": {\n        \"dtype\": \"number\",\n        \"std\": 0.32418150062448325,\n        \"min\": 0.20454545454545453,\n        \"max\": 1.0,\n        \"num_unique_values\": 5,\n        \"samples\": [\n          0.4861111111111111,\n          0.6819444444444445,\n          1.0\n        ],\n        \"semantic_type\": \"\",\n        \"description\": \"\"\n      }\n    }\n  ]\n}"
            }
          },
          "metadata": {},
          "execution_count": 44
        }
      ],
      "source": [
        "metrics_df = pd.DataFrame(metrics)\n",
        "metrics_df"
      ]
    },
    {
      "cell_type": "markdown",
      "metadata": {
        "id": "0TuL284vI1OA"
      },
      "source": [
        "## Visualization"
      ]
    },
    {
      "cell_type": "markdown",
      "metadata": {
        "id": "fCUD6ZfeI1OA"
      },
      "source": [
        "## Comparison of Accuracy"
      ]
    },
    {
      "cell_type": "code",
      "execution_count": null,
      "metadata": {
        "id": "UAUzBUPaI1OA"
      },
      "outputs": [],
      "source": [
        "def plot_metric(metric_train, metric_test, metric_name):\n",
        "    x = np.arange(len(models))\n",
        "    fig, ax = plt.subplots(figsize=(10, 6))\n",
        "    ax.bar(x, metrics_df[metric_train], width=0.2, label='Train',align='center')\n",
        "    ax.bar(x, metrics_df[metric_test], width=0.2, label='Test',align='edge')\n",
        "    ax.set_ylabel(metric_name)\n",
        "    ax.set_title('Comparison Of Accuracies By Model')\n",
        "    ax.set_xticks(x)\n",
        "    ax.set_xticklabels(metrics_df['Model'])\n",
        "    ax.legend(loc='upper center')\n",
        "    plt.tight_layout()\n",
        "    plt.show()"
      ]
    },
    {
      "cell_type": "code",
      "execution_count": null,
      "metadata": {
        "colab": {
          "base_uri": "https://localhost:8080/",
          "height": 601
        },
        "id": "b0yyZRvrI1OB",
        "outputId": "8da688b7-dbf3-4215-99e7-54cc05fa3f00"
      },
      "outputs": [
        {
          "output_type": "display_data",
          "data": {
            "text/plain": [
              "<Figure size 1000x600 with 1 Axes>"
            ],
            "image/png": "[encoded data removed]"
          },
          "metadata": {}
        }
      ],
      "source": [
        "plot_metric(\"Train Accuracy\", \"Test Accuracy\", \"Accuracy\")"
      ]
    },
    {
      "cell_type": "markdown",
      "metadata": {
        "id": "1xbZQkOJI1OB"
      },
      "source": [
        "## Comparison of Precision"
      ]
    },
    {
      "cell_type": "code",
      "execution_count": null,
      "metadata": {
        "id": "3z3JP7V7I1OB"
      },
      "outputs": [],
      "source": [
        "def plot_metric(metric_train, metric_test, metric_name):\n",
        "    x = np.arange(len(models))\n",
        "    fig, ax = plt.subplots(figsize=(10, 6))\n",
        "    ax.bar(x, metrics_df[metric_train], width=0.2, label='Train',align='center')\n",
        "    ax.bar(x, metrics_df[metric_test], width=0.2, label='Test',align='edge')\n",
        "    ax.set_ylabel(metric_name)\n",
        "    ax.set_title('Comparison Of Precision By Model')\n",
        "    ax.set_xticks(x)\n",
        "    ax.set_xticklabels(metrics_df['Model'])\n",
        "    ax.legend(loc='upper center')\n",
        "    plt.tight_layout()\n",
        "    plt.show()"
      ]
    },
    {
      "cell_type": "code",
      "execution_count": null,
      "metadata": {
        "colab": {
          "base_uri": "https://localhost:8080/",
          "height": 601
        },
        "id": "VMspeNuoI1OB",
        "outputId": "53f18129-a620-4873-b275-ec7849b94c40"
      },
      "outputs": [
        {
          "output_type": "display_data",
          "data": {
            "text/plain": [
              "<Figure size 1000x600 with 1 Axes>"
            ],
            "image/png": "[encoded data removed]"
          },
          "metadata": {}
        }
      ],
      "source": [
        "plot_metric(\"Train Precision\", \"Test Precision\", \"Precision\")"
      ]
    },
    {
      "cell_type": "markdown",
      "metadata": {
        "id": "91E9vNimI1OB"
      },
      "source": [
        "## Comparison of Recall"
      ]
    },
    {
      "cell_type": "code",
      "execution_count": null,
      "metadata": {
        "id": "gCadv1zDI1OB"
      },
      "outputs": [],
      "source": [
        "def plot_metric(metric_train, metric_test, metric_name):\n",
        "    x = np.arange(len(models))\n",
        "    fig, ax = plt.subplots(figsize=(10, 6))\n",
        "    ax.bar(x, metrics_df[metric_train], width=0.2, label='Train',align='center')\n",
        "    ax.bar(x, metrics_df[metric_test], width=0.2, label='Test',align='edge')\n",
        "    ax.set_ylabel(metric_name)\n",
        "    ax.set_title('Comparison Of Recall By Model')\n",
        "    ax.set_xticks(x)\n",
        "    ax.set_xticklabels(metrics_df['Model'])\n",
        "    ax.legend(loc='upper center')\n",
        "    plt.tight_layout()\n",
        "    plt.show()"
      ]
    },
    {
      "cell_type": "code",
      "execution_count": null,
      "metadata": {
        "colab": {
          "base_uri": "https://localhost:8080/",
          "height": 601
        },
        "id": "imOU8oNGI1OB",
        "outputId": "f87d784d-c48c-4a04-d359-dcce70a56c01"
      },
      "outputs": [
        {
          "output_type": "display_data",
          "data": {
            "text/plain": [
              "<Figure size 1000x600 with 1 Axes>"
            ],
            "image/png": "[encoded data removed]"
          },
          "metadata": {}
        }
      ],
      "source": [
        "plot_metric(\"Train Recall\", \"Test Recall\", \"Recall\")"
      ]
    },
    {
      "cell_type": "markdown",
      "metadata": {
        "id": "8dcjR-_hI1OB"
      },
      "source": [
        "## Comparison of F1-Score"
      ]
    },
    {
      "cell_type": "code",
      "execution_count": null,
      "metadata": {
        "id": "jrbetlfSI1OB"
      },
      "outputs": [],
      "source": [
        "def plot_metric(metric_train, metric_test, metric_name):\n",
        "    x = np.arange(len(models))\n",
        "    fig, ax = plt.subplots(figsize=(10, 6))\n",
        "    ax.bar(x, metrics_df[metric_train], width=0.2, label='Train',align='center')\n",
        "    ax.bar(x, metrics_df[metric_test], width=0.2, label='Test',align='edge')\n",
        "    ax.set_ylabel(metric_name)\n",
        "    ax.set_title('Comparison Of F1-Score By Model')\n",
        "    ax.set_xticks(x)\n",
        "    ax.set_xticklabels(metrics_df['Model'])\n",
        "    ax.legend(loc='upper center')\n",
        "    plt.tight_layout()\n",
        "    plt.show()"
      ]
    },
    {
      "cell_type": "code",
      "execution_count": null,
      "metadata": {
        "colab": {
          "base_uri": "https://localhost:8080/",
          "height": 601
        },
        "id": "Qtf4HJKRI1OC",
        "outputId": "a639847f-543d-40ff-c8bb-edebd63f8579"
      },
      "outputs": [
        {
          "output_type": "display_data",
          "data": {
            "text/plain": [
              "<Figure size 1000x600 with 1 Axes>"
            ],
            "image/png": "[encoded data removed]"
          },
          "metadata": {}
        }
      ],
      "source": [
        "plot_metric(\"Train F1-Score\", \"Test F1-Score\", \"F1-Score\")"
      ]
    },
    {
      "cell_type": "markdown",
      "metadata": {
        "id": "PBYEmqXuI1OC"
      },
      "source": [
        "## Model Building with Deep Learning"
      ]
    },
    {
      "cell_type": "code",
      "execution_count": null,
      "metadata": {
        "id": "4OVUMWWFI1OC"
      },
      "outputs": [],
      "source": [
        "import tensorflow as tf\n",
        "from tensorflow.keras.preprocessing.text import Tokenizer\n",
        "from tensorflow.keras.preprocessing.sequence import pad_sequences\n",
        "from sklearn.model_selection import train_test_split"
      ]
    },
    {
      "cell_type": "code",
      "execution_count": null,
      "metadata": {
        "id": "jUB9IB8JI1OC"
      },
      "outputs": [],
      "source": [
        "DL_df = pd.read_csv('/content/resume_data.csv')\n",
        "DL_df.drop(columns=['Unnamed: 0'],inplace=True)"
      ]
    },
    {
      "cell_type": "code",
      "source": [
        "DL_df"
      ],
      "metadata": {
        "colab": {
          "base_uri": "https://localhost:8080/",
          "height": 423
        },
        "id": "PT5jIL91K7Rt",
        "outputId": "cd553c06-262d-4e98-acc4-22af734b5fbe"
      },
      "execution_count": null,
      "outputs": [
        {
          "output_type": "execute_result",
          "data": {
            "text/plain": [
              "                                                 Text       label\n",
              "0     Anubhav Kumar Singh\\t\\t\\n\\n  To work in a gl...  Peoplesoft\n",
              "1     Anubhav Kumar Singh\\t\\t\\n\\n  To work in a gl...  Peoplesoft\n",
              "2     Anubhav Kumar Singh\\t\\t\\n\\n  To work in a gl...  Peoplesoft\n",
              "3   Murali\\n\\nExperience Summary \\n\\nI have 6 year...  Peoplesoft\n",
              "4   Murali\\n\\nExperience Summary \\n\\nI have 6 year...  Peoplesoft\n",
              "..                                                ...         ...\n",
              "75  Ramesh A\\t\\t\\t\\t\\t\\t\\t\\t\\t\\t\\t\\t\\t\\t\\t\\t\\t\\t\\t...     workday\n",
              "76  Seeking suitable positions in Workday HCM  as ...     workday\n",
              "77  \\nWORKDAY | HCM | FCM\\nName \\t\\t: Kumar S.S\\nR...     workday\n",
              "78  \\nWORKDAY | HCM | FCM\\nName \\t\\t: Kumar S.S\\nR...     workday\n",
              "79                                                ...     workday\n",
              "\n",
              "[80 rows x 2 columns]"
            ],
            "text/html": [
              "\n",
              "  <div id=\"df-3622b1d0-d887-4ccc-ba87-13eed0457fb9\" class=\"colab-df-container\">\n",
              "    <div>\n",
              "<style scoped>\n",
              "    .dataframe tbody tr th:only-of-type {\n",
              "        vertical-align: middle;\n",
              "    }\n",
              "\n",
              "    .dataframe tbody tr th {\n",
              "        vertical-align: top;\n",
              "    }\n",
              "\n",
              "    .dataframe thead th {\n",
              "        text-align: right;\n",
              "    }\n",
              "</style>\n",
              "<table border=\"1\" class=\"dataframe\">\n",
              "  <thead>\n",
              "    <tr style=\"text-align: right;\">\n",
              "      <th></th>\n",
              "      <th>Text</th>\n",
              "      <th>label</th>\n",
              "    </tr>\n",
              "  </thead>\n",
              "  <tbody>\n",
              "    <tr>\n",
              "      <th>0</th>\n",
              "      <td>Anubhav Kumar Singh\\t\\t\\n\\n  To work in a gl...</td>\n",
              "      <td>Peoplesoft</td>\n",
              "    </tr>\n",
              "    <tr>\n",
              "      <th>1</th>\n",
              "      <td>Anubhav Kumar Singh\\t\\t\\n\\n  To work in a gl...</td>\n",
              "      <td>Peoplesoft</td>\n",
              "    </tr>\n",
              "    <tr>\n",
              "      <th>2</th>\n",
              "      <td>Anubhav Kumar Singh\\t\\t\\n\\n  To work in a gl...</td>\n",
              "      <td>Peoplesoft</td>\n",
              "    </tr>\n",
              "    <tr>\n",
              "      <th>3</th>\n",
              "      <td>Murali\\n\\nExperience Summary \\n\\nI have 6 year...</td>\n",
              "      <td>Peoplesoft</td>\n",
              "    </tr>\n",
              "    <tr>\n",
              "      <th>4</th>\n",
              "      <td>Murali\\n\\nExperience Summary \\n\\nI have 6 year...</td>\n",
              "      <td>Peoplesoft</td>\n",
              "    </tr>\n",
              "    <tr>\n",
              "      <th>...</th>\n",
              "      <td>...</td>\n",
              "      <td>...</td>\n",
              "    </tr>\n",
              "    <tr>\n",
              "      <th>75</th>\n",
              "      <td>Ramesh A\\t\\t\\t\\t\\t\\t\\t\\t\\t\\t\\t\\t\\t\\t\\t\\t\\t\\t\\t...</td>\n",
              "      <td>workday</td>\n",
              "    </tr>\n",
              "    <tr>\n",
              "      <th>76</th>\n",
              "      <td>Seeking suitable positions in Workday HCM  as ...</td>\n",
              "      <td>workday</td>\n",
              "    </tr>\n",
              "    <tr>\n",
              "      <th>77</th>\n",
              "      <td>\\nWORKDAY | HCM | FCM\\nName \\t\\t: Kumar S.S\\nR...</td>\n",
              "      <td>workday</td>\n",
              "    </tr>\n",
              "    <tr>\n",
              "      <th>78</th>\n",
              "      <td>\\nWORKDAY | HCM | FCM\\nName \\t\\t: Kumar S.S\\nR...</td>\n",
              "      <td>workday</td>\n",
              "    </tr>\n",
              "    <tr>\n",
              "      <th>79</th>\n",
              "      <td>...</td>\n",
              "      <td>workday</td>\n",
              "    </tr>\n",
              "  </tbody>\n",
              "</table>\n",
              "<p>80 rows × 2 columns</p>\n",
              "</div>\n",
              "    <div class=\"colab-df-buttons\">\n",
              "\n",
              "  <div class=\"colab-df-container\">\n",
              "    <button class=\"colab-df-convert\" onclick=\"convertToInteractive('df-3622b1d0-d887-4ccc-ba87-13eed0457fb9')\"\n",
              "            title=\"Convert this dataframe to an interactive table.\"\n",
              "            style=\"display:none;\">\n",
              "\n",
              "  <svg xmlns=\"http://www.w3.org/2000/svg\" height=\"24px\" viewBox=\"0 -960 960 960\">\n",
              "    <path d=\"M120-120v-720h720v720H120Zm60-500h600v-160H180v160Zm220 220h160v-160H400v160Zm0 220h160v-160H400v160ZM180-400h160v-160H180v160Zm440 0h160v-160H620v160ZM180-180h160v-160H180v160Zm440 0h160v-160H620v160Z\"/>\n",
              "  </svg>\n",
              "    </button>\n",
              "\n",
              "  <style>\n",
              "    .colab-df-container {\n",
              "      display:flex;\n",
              "      gap: 12px;\n",
              "    }\n",
              "\n",
              "    .colab-df-convert {\n",
              "      background-color: #E8F0FE;\n",
              "      border: none;\n",
              "      border-radius: 50%;\n",
              "      cursor: pointer;\n",
              "      display: none;\n",
              "      fill: #1967D2;\n",
              "      height: 32px;\n",
              "      padding: 0 0 0 0;\n",
              "      width: 32px;\n",
              "    }\n",
              "\n",
              "    .colab-df-convert:hover {\n",
              "      background-color: #E2EBFA;\n",
              "      box-shadow: 0px 1px 2px rgba(60, 64, 67, 0.3), 0px 1px 3px 1px rgba(60, 64, 67, 0.15);\n",
              "      fill: #174EA6;\n",
              "    }\n",
              "\n",
              "    .colab-df-buttons div {\n",
              "      margin-bottom: 4px;\n",
              "    }\n",
              "\n",
              "    [theme=dark] .colab-df-convert {\n",
              "      background-color: #3B4455;\n",
              "      fill: #D2E3FC;\n",
              "    }\n",
              "\n",
              "    [theme=dark] .colab-df-convert:hover {\n",
              "      background-color: #434B5C;\n",
              "      box-shadow: 0px 1px 3px 1px rgba(0, 0, 0, 0.15);\n",
              "      filter: drop-shadow(0px 1px 2px rgba(0, 0, 0, 0.3));\n",
              "      fill: #FFFFFF;\n",
              "    }\n",
              "  </style>\n",
              "\n",
              "    <script>\n",
              "      const buttonEl =\n",
              "        document.querySelector('#df-3622b1d0-d887-4ccc-ba87-13eed0457fb9 button.colab-df-convert');\n",
              "      buttonEl.style.display =\n",
              "        google.colab.kernel.accessAllowed ? 'block' : 'none';\n",
              "\n",
              "      async function convertToInteractive(key) {\n",
              "        const element = document.querySelector('#df-3622b1d0-d887-4ccc-ba87-13eed0457fb9');\n",
              "        const dataTable =\n",
              "          await google.colab.kernel.invokeFunction('convertToInteractive',\n",
              "                                                    [key], {});\n",
              "        if (!dataTable) return;\n",
              "\n",
              "        const docLinkHtml = 'Like what you see? Visit the ' +\n",
              "          '<a target=\"_blank\" href=https://colab.research.google.com/notebooks/data_table.ipynb>data table notebook</a>'\n",
              "          + ' to learn more about interactive tables.';\n",
              "        element.innerHTML = '';\n",
              "        dataTable['output_type'] = 'display_data';\n",
              "        await google.colab.output.renderOutput(dataTable, element);\n",
              "        const docLink = document.createElement('div');\n",
              "        docLink.innerHTML = docLinkHtml;\n",
              "        element.appendChild(docLink);\n",
              "      }\n",
              "    </script>\n",
              "  </div>\n",
              "\n",
              "\n",
              "<div id=\"df-d1eaa63a-73af-461c-bff3-7dab7d41729a\">\n",
              "  <button class=\"colab-df-quickchart\" onclick=\"quickchart('df-d1eaa63a-73af-461c-bff3-7dab7d41729a')\"\n",
              "            title=\"Suggest charts\"\n",
              "            style=\"display:none;\">\n",
              "\n",
              "<svg xmlns=\"http://www.w3.org/2000/svg\" height=\"24px\"viewBox=\"0 0 24 24\"\n",
              "     width=\"24px\">\n",
              "    <g>\n",
              "        <path d=\"M19 3H5c-1.1 0-2 .9-2 2v14c0 1.1.9 2 2 2h14c1.1 0 2-.9 2-2V5c0-1.1-.9-2-2-2zM9 17H7v-7h2v7zm4 0h-2V7h2v10zm4 0h-2v-4h2v4z\"/>\n",
              "    </g>\n",
              "</svg>\n",
              "  </button>\n",
              "\n",
              "<style>\n",
              "  .colab-df-quickchart {\n",
              "      --bg-color: #E8F0FE;\n",
              "      --fill-color: #1967D2;\n",
              "      --hover-bg-color: #E2EBFA;\n",
              "      --hover-fill-color: #174EA6;\n",
              "      --disabled-fill-color: #AAA;\n",
              "      --disabled-bg-color: #DDD;\n",
              "  }\n",
              "\n",
              "  [theme=dark] .colab-df-quickchart {\n",
              "      --bg-color: #3B4455;\n",
              "      --fill-color: #D2E3FC;\n",
              "      --hover-bg-color: #434B5C;\n",
              "      --hover-fill-color: #FFFFFF;\n",
              "      --disabled-bg-color: #3B4455;\n",
              "      --disabled-fill-color: #666;\n",
              "  }\n",
              "\n",
              "  .colab-df-quickchart {\n",
              "    background-color: var(--bg-color);\n",
              "    border: none;\n",
              "    border-radius: 50%;\n",
              "    cursor: pointer;\n",
              "    display: none;\n",
              "    fill: var(--fill-color);\n",
              "    height: 32px;\n",
              "    padding: 0;\n",
              "    width: 32px;\n",
              "  }\n",
              "\n",
              "  .colab-df-quickchart:hover {\n",
              "    background-color: var(--hover-bg-color);\n",
              "    box-shadow: 0 1px 2px rgba(60, 64, 67, 0.3), 0 1px 3px 1px rgba(60, 64, 67, 0.15);\n",
              "    fill: var(--button-hover-fill-color);\n",
              "  }\n",
              "\n",
              "  .colab-df-quickchart-complete:disabled,\n",
              "  .colab-df-quickchart-complete:disabled:hover {\n",
              "    background-color: var(--disabled-bg-color);\n",
              "    fill: var(--disabled-fill-color);\n",
              "    box-shadow: none;\n",
              "  }\n",
              "\n",
              "  .colab-df-spinner {\n",
              "    border: 2px solid var(--fill-color);\n",
              "    border-color: transparent;\n",
              "    border-bottom-color: var(--fill-color);\n",
              "    animation:\n",
              "      spin 1s steps(1) infinite;\n",
              "  }\n",
              "\n",
              "  @keyframes spin {\n",
              "    0% {\n",
              "      border-color: transparent;\n",
              "      border-bottom-color: var(--fill-color);\n",
              "      border-left-color: var(--fill-color);\n",
              "    }\n",
              "    20% {\n",
              "      border-color: transparent;\n",
              "      border-left-color: var(--fill-color);\n",
              "      border-top-color: var(--fill-color);\n",
              "    }\n",
              "    30% {\n",
              "      border-color: transparent;\n",
              "      border-left-color: var(--fill-color);\n",
              "      border-top-color: var(--fill-color);\n",
              "      border-right-color: var(--fill-color);\n",
              "    }\n",
              "    40% {\n",
              "      border-color: transparent;\n",
              "      border-right-color: var(--fill-color);\n",
              "      border-top-color: var(--fill-color);\n",
              "    }\n",
              "    60% {\n",
              "      border-color: transparent;\n",
              "      border-right-color: var(--fill-color);\n",
              "    }\n",
              "    80% {\n",
              "      border-color: transparent;\n",
              "      border-right-color: var(--fill-color);\n",
              "      border-bottom-color: var(--fill-color);\n",
              "    }\n",
              "    90% {\n",
              "      border-color: transparent;\n",
              "      border-bottom-color: var(--fill-color);\n",
              "    }\n",
              "  }\n",
              "</style>\n",
              "\n",
              "  <script>\n",
              "    async function quickchart(key) {\n",
              "      const quickchartButtonEl =\n",
              "        document.querySelector('#' + key + ' button');\n",
              "      quickchartButtonEl.disabled = true;  // To prevent multiple clicks.\n",
              "      quickchartButtonEl.classList.add('colab-df-spinner');\n",
              "      try {\n",
              "        const charts = await google.colab.kernel.invokeFunction(\n",
              "            'suggestCharts', [key], {});\n",
              "      } catch (error) {\n",
              "        console.error('Error during call to suggestCharts:', error);\n",
              "      }\n",
              "      quickchartButtonEl.classList.remove('colab-df-spinner');\n",
              "      quickchartButtonEl.classList.add('colab-df-quickchart-complete');\n",
              "    }\n",
              "    (() => {\n",
              "      let quickchartButtonEl =\n",
              "        document.querySelector('#df-d1eaa63a-73af-461c-bff3-7dab7d41729a button');\n",
              "      quickchartButtonEl.style.display =\n",
              "        google.colab.kernel.accessAllowed ? 'block' : 'none';\n",
              "    })();\n",
              "  </script>\n",
              "</div>\n",
              "\n",
              "  <div id=\"id_43abf735-1eb9-470a-bed1-7db9d24e4177\">\n",
              "    <style>\n",
              "      .colab-df-generate {\n",
              "        background-color: #E8F0FE;\n",
              "        border: none;\n",
              "        border-radius: 50%;\n",
              "        cursor: pointer;\n",
              "        display: none;\n",
              "        fill: #1967D2;\n",
              "        height: 32px;\n",
              "        padding: 0 0 0 0;\n",
              "        width: 32px;\n",
              "      }\n",
              "\n",
              "      .colab-df-generate:hover {\n",
              "        background-color: #E2EBFA;\n",
              "        box-shadow: 0px 1px 2px rgba(60, 64, 67, 0.3), 0px 1px 3px 1px rgba(60, 64, 67, 0.15);\n",
              "        fill: #174EA6;\n",
              "      }\n",
              "\n",
              "      [theme=dark] .colab-df-generate {\n",
              "        background-color: #3B4455;\n",
              "        fill: #D2E3FC;\n",
              "      }\n",
              "\n",
              "      [theme=dark] .colab-df-generate:hover {\n",
              "        background-color: #434B5C;\n",
              "        box-shadow: 0px 1px 3px 1px rgba(0, 0, 0, 0.15);\n",
              "        filter: drop-shadow(0px 1px 2px rgba(0, 0, 0, 0.3));\n",
              "        fill: #FFFFFF;\n",
              "      }\n",
              "    </style>\n",
              "    <button class=\"colab-df-generate\" onclick=\"generateWithVariable('DL_df')\"\n",
              "            title=\"Generate code using this dataframe.\"\n",
              "            style=\"display:none;\">\n",
              "\n",
              "  <svg xmlns=\"http://www.w3.org/2000/svg\" height=\"24px\"viewBox=\"0 0 24 24\"\n",
              "       width=\"24px\">\n",
              "    <path d=\"M7,19H8.4L18.45,9,17,7.55,7,17.6ZM5,21V16.75L18.45,3.32a2,2,0,0,1,2.83,0l1.4,1.43a1.91,1.91,0,0,1,.58,1.4,1.91,1.91,0,0,1-.58,1.4L9.25,21ZM18.45,9,17,7.55Zm-12,3A5.31,5.31,0,0,0,4.9,8.1,5.31,5.31,0,0,0,1,6.5,5.31,5.31,0,0,0,4.9,4.9,5.31,5.31,0,0,0,6.5,1,5.31,5.31,0,0,0,8.1,4.9,5.31,5.31,0,0,0,12,6.5,5.46,5.46,0,0,0,6.5,12Z\"/>\n",
              "  </svg>\n",
              "    </button>\n",
              "    <script>\n",
              "      (() => {\n",
              "      const buttonEl =\n",
              "        document.querySelector('#id_43abf735-1eb9-470a-bed1-7db9d24e4177 button.colab-df-generate');\n",
              "      buttonEl.style.display =\n",
              "        google.colab.kernel.accessAllowed ? 'block' : 'none';\n",
              "\n",
              "      buttonEl.onclick = () => {\n",
              "        google.colab.notebook.generateWithVariable('DL_df');\n",
              "      }\n",
              "      })();\n",
              "    </script>\n",
              "  </div>\n",
              "\n",
              "    </div>\n",
              "  </div>\n"
            ],
            "application/vnd.google.colaboratory.intrinsic+json": {
              "type": "dataframe",
              "variable_name": "DL_df",
              "summary": "{\n  \"name\": \"DL_df\",\n  \"rows\": 80,\n  \"fields\": [\n    {\n      \"column\": \"Text\",\n      \"properties\": {\n        \"dtype\": \"string\",\n        \"num_unique_values\": 53,\n        \"samples\": [\n          \"\\nUi-Developer/ React JS Developer \\nNAME: KRISHNA \\nPROFESSIONAL SUMMARY:\\nOver all 3.2 years of Extensive experience as a\\u00a0React JS/Web-\\u00a0Developer\\u00a0and 1 year\\u00a0of Experience as\\u00a0React JS Software Developer.\\nExtensive experience in developing web pages using\\u00a0HTML, XML, CSS, JavaScript, React JS, Redux, JSON.\\nExperience in all phase of\\u00a0SDLC\\u00a0like\\u00a0Requirement Analysis, Implementation\\u00a0and\\u00a0Maintenance,\\u00a0and extensive experience with\\u00a0Agile\\u00a0and\\u00a0SCRUM.\\nExtensive knowledge in developing single - page applications\\u00a0(SPAs).\\nGood Expertise in analyzing the\\u00a0Document Object Model (DOM) Layout, DOM Functions, and Java Script functions, Cascading Styles\\u00a0across cross-browser using\\u00a0Fire Bug,\\u00a0Developer Tool Bar.\\nExpertise in\\u00a0React JS\\u00a0framework to develop the\\u00a0SPA.\\nExperienced in\\u00a0React JS\\u00a0and working with\\u00a0React Flux architecture.\\nExperienced in working with\\u00a0redux architecture\\u00a0using complex Object-Oriented concepts in improving the performance of the websites.\\nExperience in using\\u00a0React JS components, Forms, Events, Keys, Router, plus Redux, Animations.\\nExpertise in video coding by using\\u00a0HTML5,\\u00a0CSS3\\u00a0and\\u00a0JavaScript.\\nExpertise in\\u00a0RESTful,\\u00a0SOAP\\u00a0web services to integrate between\\u00a0Application\\u00a0to\\u00a0Application\\nExperience with\\u00a0front-end development\\u00a0with\\u00a0back-end system integration.\\nTECHNICAL SKILLS:\\nWeb Technologies:\\u00a0HTML, CSS3, XML, JavaScript, JSON, React JS, Node.js, GitHub.\\n\\nQUALIFICATION:\\nB-Tech from JNTU-Kakinada University - 2016\\nPROFESSIONAL EXPERIENCE:\\nI have experience as React JS Developer with 3.2 years of experience in the IT Industry and currently working in BOSCH.\\nCurrent Project: AGSP (Auto Guar age Solution Project)\\nRole: UI Developer/ React JS Developer\\nResponsibilities:\\nDesign, develop and test\\u00a0HTML5,\\u00a0CSS3,\\u00a0Bootstrap,\\u00a0JavaScript\\u00a0and\\u00a0React.JS\\u00a0that meets accessibility and web browser standards for website.\\nDeveloped user interface by using the\\u00a0React JS, Flux\\u00a0for\\u00a0SPA\\u00a0development.\\u00a0\\nUsed React-Router to turn application into\\u00a0Single Page Application\\nWorked in using\\u00a0React JS components, Forms, Events, Keys, Router, Animations and Flux concept.\\nUsed\\u00a0React flux\\u00a0to polish the data and for single directional flow.\\nUsed\\u00a0Object Oriented Programming\\u00a0concepts to develop\\u00a0UI\\u00a0components that could be reused across the\\u00a0Web Application.\\nExtensively used\\u00a0Git\\u00a0for version controlling and regularly pushed the code to\\u00a0GitHub.\\nUsed\\u00a0JIRA\\u00a0as the bug tracking system to track and maintain the history of\\u00a0bugs/issues\\u00a0on everyday basis.\\n Environment: HTML5, CSS3, JavaScript, Bootstrap, React JS, Redux, JSON, Git hub, JIRA\\nPrevious Project:  SITE WORK PROJECT\\nRole: UI Developer/ React JS Developer\\nResponsibilities:\\nWorked on an\\u00a0Agile\\u00a0(Scrum)\\u00a0Development\\u00a0Team\\u00a0to deliver regular updates to business team and project managers.\\nInvolved designing in web pages using\\u00a0HTML\\u00a05,\\u00a0CSS3,\\u00a0JavaScript, Bootstrap, React.js,\\u00a0Redux\\u00a0, \\nWorked on\\u00a0React JS Virtual Dom\\u00a0and\\u00a0React views, rendering using components which contains additional components called custom\\u00a0HTML tags.\\nImplemented various screens for the front end using\\u00a0React.js\\u00a0and used various predefined\\u00a0components\\u00a0from\\u00a0NPM (Node Package Manager)\\u00a0and\\u00a0redux library.\\nWorked in using\\u00a0React JS components, Forms, Events, Keys, Router, Animations,\\u00a0and\\u00a0Flux concept.\\nResponsible for\\u00a0React\\u00a0UI\\u00a0and\\u00a0architecture.\\u00a0Building\\u00a0components\\u00a0library,\\u00a0including\\u00a0Tree,\\u00a0Slide-View,\\u00a0and Table Grid.\\nImplemented stable\\u00a0React\\u00a0components\\u00a0and\\u00a0stand-alone functions\\u00a0to be added to any future pages.\\nUsed\\u00a0React JS\\u00a0for\\u00a0tinplating\\u00a0for faster compilation and developing reusable\\u00a0components.\\nUsed\\u00a0React-Auto complete\\u00a0for creating\\u00a0Google maps\\u00a0location search on the webpage.\\u00a0 Environment:\\u00a0HTML5, CSS3, Bootstrap, GitHub and Jenkins.\\n\",\n          \"B. vinod kumar\\n\\nOBJECTIVE:\\nWilling to work under a challenging and professional environment with exposure to new technologies as an SQL and MSBI developer in the area of SQL SERVER 2014, 2016 with Enterprise Portal and where there is a scope for Organizational growth as well as individual growth.\\nProfessional summary:\\nHaving around 2.2Years of IT Experience in Microsoft Business Intelligence (MSBI) under SQL server environment, with through knowledge of SQL server 2014,2016 databases.\\nExtensive experience on Joins, Set Operators, Table Variables, Temporary Tables, CTE & Sub Queries.\\nGood experience in writing Simple and sample SQL queries.\\nExperience in Developing Stored Procedures and User defined functions.\\nHands on Experience Triggers , views, cursor and synonyms.\\nExperience on Writing SQL using joins, sub queries.\\nGood at generating multiple reports using SSRS from SQL server database and included various reporting features such as Drill-Down, Drill-Through, Cascading Reports and Sub Reports.\\nExperience in importing/exporting data between different sources like Excel/Flatfile etc.\\nGood experience on Backups & Restoring into different Servers.\\nHands on Exeperience on different transformations like Data conversion, Derived coloumn, Look up, Merge join, Union All, Sort, Fuzzy lookup.\\nGood Experience on Ranking, Aggregate and String Functions.\\nExperience on Design and development of SQL Server Integration Services(SSIS) packages and using various control flow tasks like Data floe task and Excute SQL task and containres like For Loop container and sequence container and For -each container.\\nExperience on deploying the reports and creating subscriptions to send the reports on schedule basis.\\n\\nEDUCATIONAL BACKGROUND:\\nB.Tech (computer science and engineering),JNTU,Ananthapuramu.\\n\\nPROFESSIONAL EXPERIENCE:\\nWorking in united health group as a Software Engineer, Bangalore since may-2019 to till date.\\n\\n\\nTECHNICAL SKILLS:\\nTechnologies\\t: Microsoft Business Intelligence Tools (MSBI)\\nLanguages\\t: SQL, T-SQL.\\nETL Tools\\t: SQL Server Integration Services.\\nReporting Tools\\t: SQL Server Reporting Services\\n\\nPROJECT DETAILS:\\nClient: Uk\\nProject: National skill Development corporation\\nRole: SQL Server and SSIS developer\\nEnvirnoment : SSIS, SSRS and MS SQL Server.\\nProject 1: National Skill Development Corporation (NSDC)\\nClient\\t: National Skill Development Corporation (INDIA) Role\\t: SQL Developer\\nEnvironment\\t: SQL Server, Nano-BI. Duration\\t: May 2019 to till now.\\n\\nDescription:\\nNSDC Provides training / placements to people across the country through SIP across specific skill sets. Under NSDC there are multiple scheme types like PMKVY, Non-PMKVY and Fee-Based, Based on scheme type candidates will enroll to the batches under particular training centres. In every batch minimum 10 candidates can enroll. After enrolling candidates will go for Training then these candidates will go for assessment and Failed candidates can apply for re-assessment and the candidates who are passed will go for the certification. And the certified candidates will get placement through NSDC.\\n\\nROLES AND RESPONSIBILITIES:\\nBy using NANO BI Analytical tool creating tables.\\nDeveloped ETL Scripts to populate the data from different tables by using joins, CTE\\u2019s and Date functions.\\nBy using NANO BI Analytical tool creating tables.\\nInvolved in Creating analytics with measures and dimensions to populate data and created dashboard to clients by their requirement.\\nResponsible for Creating and Modifying T-SQL stored procedures for validating the integrity of the data.\\nResponsible for writing complex SQL Queries, Joins, Constraints, DDL, DML Date Functions to implement the business logic.\\n\\nExperience in creating different types of Reports according to the user request by using NANO BI Analytical tool.\\nInvolved in deploying and scheduling the reports using Report Emailer.\\nInvolved in scheduling the Stored procedures to refresh the data on every day using Workflows in NANO BI.\\n\\n\\n\\n\\nB. Vinod kumar\",\n          \"VENKATA SAIKRISHNA\\n Workday Consultant\\n\\n\\nPROFSSIONAL SUMMARY:\\n\\t\\nOver all 3 years of IT experience as a Workday Consultant.\\nIntegral in maintenance and creation of Workday Supervisory Organizations, Business Process, Locations, Positions, Company, Cost centers, and Hierarchies.\\nExperience in understanding the Client Business Requirements, Organizational Hierarchy Setup, Configurable Security Setup and Tenant Setup.\\nWorked with different Staffing Models, defining Hire restrictions to Job Management, Position Management.\\nHands on experience with Compensation Module like creating Compensation Grades, Compensation Eligibility Rules, Allowance Plans, Salary Plans, Hourly Plans.\\nExperience in creating Job Profiles, Job Families, and Job Family Group.\\nExperience with Workday security groups like Role based security, User based Security, Intersection, and Job based Security.\\nExperience with creating Staffing models for Supervisory Orgs, Reorganizations and business process framework, Organization Types, Organization Hierarchies.\\nStrong Experience with Workday Report Writer - Custom Reporting (Calculated Fields, Advanced, Standard Reports).\\nHands on experience in inbound/ outbound integrations using EIB and core connectors.\\nTroubleshooted day to day issues arising in Workday, reporting issues to identify and fix root causes.\\n\\nTECHNICAL SKILLS:\\n\\n\\nPROFESSIONAL EXPERIENCE:\\n\\nWorking as Workday Consultant in Value Momentum, from Aug-2018 to Till Date.\\nRole: Workday Consultant\\nResponsibilities:\\nCreated Supervisory Organizations, Cost Centers, Cost Centre Hierarchies, and location hierarchies\\u2019 maintenance, Staffing Models, Job details Positions and Job Requisitions.\\nSetup end to end recruiting process for clients from creating business processes like job application, Offer, Hire, and Onboarding, setup external career site, questionnaires, offer letters and review documents. \\nStaffing Movements, An employee changes in position, inbound process and outbound process.\\nTermination Process, initiate termination process, review termination process, to do tasks\\nWorked on the creation of benefit plans, job profiles, and job families.\\nConfigured Workday compensation packages including salary, bonus, allowance, commission, and compensation eligibility rules based on management levels, job profile, and job family.\\nManaged job description and workflow of employee data for compensation module including job families, pay ranges and supervisor setup.\\nSetup Merit plans including merit and bonus plan processing and created the business process for bonus plan, merit plan, salary plan and hourly plan.\\nWorked on several calculated fields like look up related value, Evaluate Expression, True or false conditions, Arithmetic Calculation, formatting date fields etc... \\nPerformed arithmetic calculation in Matrix report for counting, averaging, summing, ranging between maximum and minimum. \\nWorked with Simple and Advanced Reports, defining columns, business objects, fields.\\nSetup security groups, domain security policies and business process security policies.\\nWorked with Business Process and configurations various business process on Compensation, Talent Management, Recruiting, Benefits. \\nConfiguration of Workday\\u2019s business process framework configured conditional rules to guide workflow or validate data as required to accommodate desired outcomes.\\nDeveloping the integrations using tool Enterprise Interface Builder (EIB), Core connector\\nDesigned and built both inbound and outbound EIB in various segments of Workday system.\\nEnvironment: EIB, Web services, Workday Report Writing, custom Reports, calculated fields, compensation, MS PowerPoint, MS Excel, Windows.\\n\\n\\n\\nEDUCATION:\\nMBA in HR and Marketing from KL University in 2018.\\n\\t\\t\\t\\t\\t\\t\\t\\t\\t\\n\\nDECLARATION:\\n\\nI do here by declare that all particulars mentioned above are true to the best of my knowledge.\\n\\n\\n\\n\\n\\n\\n\\n\\n\\nHyderabad\\t\\t\\t\\t\\t\\t\\t\\t\\t                     \\n\\n\\n\\n\\n\\n\\n\\n\\n\\n\"\n        ],\n        \"semantic_type\": \"\",\n        \"description\": \"\"\n      }\n    },\n    {\n      \"column\": \"label\",\n      \"properties\": {\n        \"dtype\": \"category\",\n        \"num_unique_values\": 4,\n        \"samples\": [\n          \"React Developer\",\n          \"workday\",\n          \"Peoplesoft\"\n        ],\n        \"semantic_type\": \"\",\n        \"description\": \"\"\n      }\n    }\n  ]\n}"
            }
          },
          "metadata": {},
          "execution_count": 62
        }
      ]
    },
    {
      "cell_type": "code",
      "source": [
        "y = pd.get_dummies(DL_df['label'],dtype=int)"
      ],
      "metadata": {
        "id": "DYKahd-e0zUi"
      },
      "execution_count": null,
      "outputs": []
    },
    {
      "cell_type": "code",
      "execution_count": null,
      "metadata": {
        "id": "LK7X19_cI1OC"
      },
      "outputs": [],
      "source": [
        "DL_df.drop(columns=['label'],inplace=True)"
      ]
    },
    {
      "cell_type": "code",
      "execution_count": null,
      "metadata": {
        "id": "aCw46GNcI1OC"
      },
      "outputs": [],
      "source": [
        "DL_df['Text'] = DL_df['Text'].apply(preprocess_data)"
      ]
    },
    {
      "cell_type": "code",
      "execution_count": null,
      "metadata": {
        "id": "sP6CqkqvI1OC"
      },
      "outputs": [],
      "source": [
        "DL_df['Text'] = DL_df['Text'].apply(preprocess_data2)"
      ]
    },
    {
      "cell_type": "code",
      "source": [
        "x = DL_df['Text']"
      ],
      "metadata": {
        "id": "hWK40i1jLOnh"
      },
      "execution_count": null,
      "outputs": []
    },
    {
      "cell_type": "code",
      "execution_count": null,
      "metadata": {
        "colab": {
          "base_uri": "https://localhost:8080/",
          "height": 423
        },
        "id": "KQvTW1SsI1OC",
        "outputId": "e7973b8f-b0df-4a4c-e64c-4fbed166662a"
      },
      "outputs": [
        {
          "output_type": "execute_result",
          "data": {
            "text/plain": [
              "    Peoplesoft  React Developer  SQL Developer  workday\n",
              "0            1                0              0        0\n",
              "1            1                0              0        0\n",
              "2            1                0              0        0\n",
              "3            1                0              0        0\n",
              "4            1                0              0        0\n",
              "..         ...              ...            ...      ...\n",
              "75           0                0              0        1\n",
              "76           0                0              0        1\n",
              "77           0                0              0        1\n",
              "78           0                0              0        1\n",
              "79           0                0              0        1\n",
              "\n",
              "[80 rows x 4 columns]"
            ],
            "text/html": [
              "\n",
              "  <div id=\"df-619f65ef-f521-4284-8eb1-e1efc8d1208a\" class=\"colab-df-container\">\n",
              "    <div>\n",
              "<style scoped>\n",
              "    .dataframe tbody tr th:only-of-type {\n",
              "        vertical-align: middle;\n",
              "    }\n",
              "\n",
              "    .dataframe tbody tr th {\n",
              "        vertical-align: top;\n",
              "    }\n",
              "\n",
              "    .dataframe thead th {\n",
              "        text-align: right;\n",
              "    }\n",
              "</style>\n",
              "<table border=\"1\" class=\"dataframe\">\n",
              "  <thead>\n",
              "    <tr style=\"text-align: right;\">\n",
              "      <th></th>\n",
              "      <th>Peoplesoft</th>\n",
              "      <th>React Developer</th>\n",
              "      <th>SQL Developer</th>\n",
              "      <th>workday</th>\n",
              "    </tr>\n",
              "  </thead>\n",
              "  <tbody>\n",
              "    <tr>\n",
              "      <th>0</th>\n",
              "      <td>1</td>\n",
              "      <td>0</td>\n",
              "      <td>0</td>\n",
              "      <td>0</td>\n",
              "    </tr>\n",
              "    <tr>\n",
              "      <th>1</th>\n",
              "      <td>1</td>\n",
              "      <td>0</td>\n",
              "      <td>0</td>\n",
              "      <td>0</td>\n",
              "    </tr>\n",
              "    <tr>\n",
              "      <th>2</th>\n",
              "      <td>1</td>\n",
              "      <td>0</td>\n",
              "      <td>0</td>\n",
              "      <td>0</td>\n",
              "    </tr>\n",
              "    <tr>\n",
              "      <th>3</th>\n",
              "      <td>1</td>\n",
              "      <td>0</td>\n",
              "      <td>0</td>\n",
              "      <td>0</td>\n",
              "    </tr>\n",
              "    <tr>\n",
              "      <th>4</th>\n",
              "      <td>1</td>\n",
              "      <td>0</td>\n",
              "      <td>0</td>\n",
              "      <td>0</td>\n",
              "    </tr>\n",
              "    <tr>\n",
              "      <th>...</th>\n",
              "      <td>...</td>\n",
              "      <td>...</td>\n",
              "      <td>...</td>\n",
              "      <td>...</td>\n",
              "    </tr>\n",
              "    <tr>\n",
              "      <th>75</th>\n",
              "      <td>0</td>\n",
              "      <td>0</td>\n",
              "      <td>0</td>\n",
              "      <td>1</td>\n",
              "    </tr>\n",
              "    <tr>\n",
              "      <th>76</th>\n",
              "      <td>0</td>\n",
              "      <td>0</td>\n",
              "      <td>0</td>\n",
              "      <td>1</td>\n",
              "    </tr>\n",
              "    <tr>\n",
              "      <th>77</th>\n",
              "      <td>0</td>\n",
              "      <td>0</td>\n",
              "      <td>0</td>\n",
              "      <td>1</td>\n",
              "    </tr>\n",
              "    <tr>\n",
              "      <th>78</th>\n",
              "      <td>0</td>\n",
              "      <td>0</td>\n",
              "      <td>0</td>\n",
              "      <td>1</td>\n",
              "    </tr>\n",
              "    <tr>\n",
              "      <th>79</th>\n",
              "      <td>0</td>\n",
              "      <td>0</td>\n",
              "      <td>0</td>\n",
              "      <td>1</td>\n",
              "    </tr>\n",
              "  </tbody>\n",
              "</table>\n",
              "<p>80 rows × 4 columns</p>\n",
              "</div>\n",
              "    <div class=\"colab-df-buttons\">\n",
              "\n",
              "  <div class=\"colab-df-container\">\n",
              "    <button class=\"colab-df-convert\" onclick=\"convertToInteractive('df-619f65ef-f521-4284-8eb1-e1efc8d1208a')\"\n",
              "            title=\"Convert this dataframe to an interactive table.\"\n",
              "            style=\"display:none;\">\n",
              "\n",
              "  <svg xmlns=\"http://www.w3.org/2000/svg\" height=\"24px\" viewBox=\"0 -960 960 960\">\n",
              "    <path d=\"M120-120v-720h720v720H120Zm60-500h600v-160H180v160Zm220 220h160v-160H400v160Zm0 220h160v-160H400v160ZM180-400h160v-160H180v160Zm440 0h160v-160H620v160ZM180-180h160v-160H180v160Zm440 0h160v-160H620v160Z\"/>\n",
              "  </svg>\n",
              "    </button>\n",
              "\n",
              "  <style>\n",
              "    .colab-df-container {\n",
              "      display:flex;\n",
              "      gap: 12px;\n",
              "    }\n",
              "\n",
              "    .colab-df-convert {\n",
              "      background-color: #E8F0FE;\n",
              "      border: none;\n",
              "      border-radius: 50%;\n",
              "      cursor: pointer;\n",
              "      display: none;\n",
              "      fill: #1967D2;\n",
              "      height: 32px;\n",
              "      padding: 0 0 0 0;\n",
              "      width: 32px;\n",
              "    }\n",
              "\n",
              "    .colab-df-convert:hover {\n",
              "      background-color: #E2EBFA;\n",
              "      box-shadow: 0px 1px 2px rgba(60, 64, 67, 0.3), 0px 1px 3px 1px rgba(60, 64, 67, 0.15);\n",
              "      fill: #174EA6;\n",
              "    }\n",
              "\n",
              "    .colab-df-buttons div {\n",
              "      margin-bottom: 4px;\n",
              "    }\n",
              "\n",
              "    [theme=dark] .colab-df-convert {\n",
              "      background-color: #3B4455;\n",
              "      fill: #D2E3FC;\n",
              "    }\n",
              "\n",
              "    [theme=dark] .colab-df-convert:hover {\n",
              "      background-color: #434B5C;\n",
              "      box-shadow: 0px 1px 3px 1px rgba(0, 0, 0, 0.15);\n",
              "      filter: drop-shadow(0px 1px 2px rgba(0, 0, 0, 0.3));\n",
              "      fill: #FFFFFF;\n",
              "    }\n",
              "  </style>\n",
              "\n",
              "    <script>\n",
              "      const buttonEl =\n",
              "        document.querySelector('#df-619f65ef-f521-4284-8eb1-e1efc8d1208a button.colab-df-convert');\n",
              "      buttonEl.style.display =\n",
              "        google.colab.kernel.accessAllowed ? 'block' : 'none';\n",
              "\n",
              "      async function convertToInteractive(key) {\n",
              "        const element = document.querySelector('#df-619f65ef-f521-4284-8eb1-e1efc8d1208a');\n",
              "        const dataTable =\n",
              "          await google.colab.kernel.invokeFunction('convertToInteractive',\n",
              "                                                    [key], {});\n",
              "        if (!dataTable) return;\n",
              "\n",
              "        const docLinkHtml = 'Like what you see? Visit the ' +\n",
              "          '<a target=\"_blank\" href=https://colab.research.google.com/notebooks/data_table.ipynb>data table notebook</a>'\n",
              "          + ' to learn more about interactive tables.';\n",
              "        element.innerHTML = '';\n",
              "        dataTable['output_type'] = 'display_data';\n",
              "        await google.colab.output.renderOutput(dataTable, element);\n",
              "        const docLink = document.createElement('div');\n",
              "        docLink.innerHTML = docLinkHtml;\n",
              "        element.appendChild(docLink);\n",
              "      }\n",
              "    </script>\n",
              "  </div>\n",
              "\n",
              "\n",
              "<div id=\"df-45782a61-d4f2-4ad0-a065-5ecc02328e6a\">\n",
              "  <button class=\"colab-df-quickchart\" onclick=\"quickchart('df-45782a61-d4f2-4ad0-a065-5ecc02328e6a')\"\n",
              "            title=\"Suggest charts\"\n",
              "            style=\"display:none;\">\n",
              "\n",
              "<svg xmlns=\"http://www.w3.org/2000/svg\" height=\"24px\"viewBox=\"0 0 24 24\"\n",
              "     width=\"24px\">\n",
              "    <g>\n",
              "        <path d=\"M19 3H5c-1.1 0-2 .9-2 2v14c0 1.1.9 2 2 2h14c1.1 0 2-.9 2-2V5c0-1.1-.9-2-2-2zM9 17H7v-7h2v7zm4 0h-2V7h2v10zm4 0h-2v-4h2v4z\"/>\n",
              "    </g>\n",
              "</svg>\n",
              "  </button>\n",
              "\n",
              "<style>\n",
              "  .colab-df-quickchart {\n",
              "      --bg-color: #E8F0FE;\n",
              "      --fill-color: #1967D2;\n",
              "      --hover-bg-color: #E2EBFA;\n",
              "      --hover-fill-color: #174EA6;\n",
              "      --disabled-fill-color: #AAA;\n",
              "      --disabled-bg-color: #DDD;\n",
              "  }\n",
              "\n",
              "  [theme=dark] .colab-df-quickchart {\n",
              "      --bg-color: #3B4455;\n",
              "      --fill-color: #D2E3FC;\n",
              "      --hover-bg-color: #434B5C;\n",
              "      --hover-fill-color: #FFFFFF;\n",
              "      --disabled-bg-color: #3B4455;\n",
              "      --disabled-fill-color: #666;\n",
              "  }\n",
              "\n",
              "  .colab-df-quickchart {\n",
              "    background-color: var(--bg-color);\n",
              "    border: none;\n",
              "    border-radius: 50%;\n",
              "    cursor: pointer;\n",
              "    display: none;\n",
              "    fill: var(--fill-color);\n",
              "    height: 32px;\n",
              "    padding: 0;\n",
              "    width: 32px;\n",
              "  }\n",
              "\n",
              "  .colab-df-quickchart:hover {\n",
              "    background-color: var(--hover-bg-color);\n",
              "    box-shadow: 0 1px 2px rgba(60, 64, 67, 0.3), 0 1px 3px 1px rgba(60, 64, 67, 0.15);\n",
              "    fill: var(--button-hover-fill-color);\n",
              "  }\n",
              "\n",
              "  .colab-df-quickchart-complete:disabled,\n",
              "  .colab-df-quickchart-complete:disabled:hover {\n",
              "    background-color: var(--disabled-bg-color);\n",
              "    fill: var(--disabled-fill-color);\n",
              "    box-shadow: none;\n",
              "  }\n",
              "\n",
              "  .colab-df-spinner {\n",
              "    border: 2px solid var(--fill-color);\n",
              "    border-color: transparent;\n",
              "    border-bottom-color: var(--fill-color);\n",
              "    animation:\n",
              "      spin 1s steps(1) infinite;\n",
              "  }\n",
              "\n",
              "  @keyframes spin {\n",
              "    0% {\n",
              "      border-color: transparent;\n",
              "      border-bottom-color: var(--fill-color);\n",
              "      border-left-color: var(--fill-color);\n",
              "    }\n",
              "    20% {\n",
              "      border-color: transparent;\n",
              "      border-left-color: var(--fill-color);\n",
              "      border-top-color: var(--fill-color);\n",
              "    }\n",
              "    30% {\n",
              "      border-color: transparent;\n",
              "      border-left-color: var(--fill-color);\n",
              "      border-top-color: var(--fill-color);\n",
              "      border-right-color: var(--fill-color);\n",
              "    }\n",
              "    40% {\n",
              "      border-color: transparent;\n",
              "      border-right-color: var(--fill-color);\n",
              "      border-top-color: var(--fill-color);\n",
              "    }\n",
              "    60% {\n",
              "      border-color: transparent;\n",
              "      border-right-color: var(--fill-color);\n",
              "    }\n",
              "    80% {\n",
              "      border-color: transparent;\n",
              "      border-right-color: var(--fill-color);\n",
              "      border-bottom-color: var(--fill-color);\n",
              "    }\n",
              "    90% {\n",
              "      border-color: transparent;\n",
              "      border-bottom-color: var(--fill-color);\n",
              "    }\n",
              "  }\n",
              "</style>\n",
              "\n",
              "  <script>\n",
              "    async function quickchart(key) {\n",
              "      const quickchartButtonEl =\n",
              "        document.querySelector('#' + key + ' button');\n",
              "      quickchartButtonEl.disabled = true;  // To prevent multiple clicks.\n",
              "      quickchartButtonEl.classList.add('colab-df-spinner');\n",
              "      try {\n",
              "        const charts = await google.colab.kernel.invokeFunction(\n",
              "            'suggestCharts', [key], {});\n",
              "      } catch (error) {\n",
              "        console.error('Error during call to suggestCharts:', error);\n",
              "      }\n",
              "      quickchartButtonEl.classList.remove('colab-df-spinner');\n",
              "      quickchartButtonEl.classList.add('colab-df-quickchart-complete');\n",
              "    }\n",
              "    (() => {\n",
              "      let quickchartButtonEl =\n",
              "        document.querySelector('#df-45782a61-d4f2-4ad0-a065-5ecc02328e6a button');\n",
              "      quickchartButtonEl.style.display =\n",
              "        google.colab.kernel.accessAllowed ? 'block' : 'none';\n",
              "    })();\n",
              "  </script>\n",
              "</div>\n",
              "\n",
              "  <div id=\"id_982bdc52-ccdb-4525-ba26-9f9e8e70d0ff\">\n",
              "    <style>\n",
              "      .colab-df-generate {\n",
              "        background-color: #E8F0FE;\n",
              "        border: none;\n",
              "        border-radius: 50%;\n",
              "        cursor: pointer;\n",
              "        display: none;\n",
              "        fill: #1967D2;\n",
              "        height: 32px;\n",
              "        padding: 0 0 0 0;\n",
              "        width: 32px;\n",
              "      }\n",
              "\n",
              "      .colab-df-generate:hover {\n",
              "        background-color: #E2EBFA;\n",
              "        box-shadow: 0px 1px 2px rgba(60, 64, 67, 0.3), 0px 1px 3px 1px rgba(60, 64, 67, 0.15);\n",
              "        fill: #174EA6;\n",
              "      }\n",
              "\n",
              "      [theme=dark] .colab-df-generate {\n",
              "        background-color: #3B4455;\n",
              "        fill: #D2E3FC;\n",
              "      }\n",
              "\n",
              "      [theme=dark] .colab-df-generate:hover {\n",
              "        background-color: #434B5C;\n",
              "        box-shadow: 0px 1px 3px 1px rgba(0, 0, 0, 0.15);\n",
              "        filter: drop-shadow(0px 1px 2px rgba(0, 0, 0, 0.3));\n",
              "        fill: #FFFFFF;\n",
              "      }\n",
              "    </style>\n",
              "    <button class=\"colab-df-generate\" onclick=\"generateWithVariable('y')\"\n",
              "            title=\"Generate code using this dataframe.\"\n",
              "            style=\"display:none;\">\n",
              "\n",
              "  <svg xmlns=\"http://www.w3.org/2000/svg\" height=\"24px\"viewBox=\"0 0 24 24\"\n",
              "       width=\"24px\">\n",
              "    <path d=\"M7,19H8.4L18.45,9,17,7.55,7,17.6ZM5,21V16.75L18.45,3.32a2,2,0,0,1,2.83,0l1.4,1.43a1.91,1.91,0,0,1,.58,1.4,1.91,1.91,0,0,1-.58,1.4L9.25,21ZM18.45,9,17,7.55Zm-12,3A5.31,5.31,0,0,0,4.9,8.1,5.31,5.31,0,0,0,1,6.5,5.31,5.31,0,0,0,4.9,4.9,5.31,5.31,0,0,0,6.5,1,5.31,5.31,0,0,0,8.1,4.9,5.31,5.31,0,0,0,12,6.5,5.46,5.46,0,0,0,6.5,12Z\"/>\n",
              "  </svg>\n",
              "    </button>\n",
              "    <script>\n",
              "      (() => {\n",
              "      const buttonEl =\n",
              "        document.querySelector('#id_982bdc52-ccdb-4525-ba26-9f9e8e70d0ff button.colab-df-generate');\n",
              "      buttonEl.style.display =\n",
              "        google.colab.kernel.accessAllowed ? 'block' : 'none';\n",
              "\n",
              "      buttonEl.onclick = () => {\n",
              "        google.colab.notebook.generateWithVariable('y');\n",
              "      }\n",
              "      })();\n",
              "    </script>\n",
              "  </div>\n",
              "\n",
              "    </div>\n",
              "  </div>\n"
            ],
            "application/vnd.google.colaboratory.intrinsic+json": {
              "type": "dataframe",
              "variable_name": "y",
              "summary": "{\n  \"name\": \"y\",\n  \"rows\": 80,\n  \"fields\": [\n    {\n      \"column\": \"Peoplesoft\",\n      \"properties\": {\n        \"dtype\": \"number\",\n        \"std\": 0,\n        \"min\": 0,\n        \"max\": 1,\n        \"num_unique_values\": 2,\n        \"samples\": [\n          0,\n          1\n        ],\n        \"semantic_type\": \"\",\n        \"description\": \"\"\n      }\n    },\n    {\n      \"column\": \"React Developer\",\n      \"properties\": {\n        \"dtype\": \"number\",\n        \"std\": 0,\n        \"min\": 0,\n        \"max\": 1,\n        \"num_unique_values\": 2,\n        \"samples\": [\n          1,\n          0\n        ],\n        \"semantic_type\": \"\",\n        \"description\": \"\"\n      }\n    },\n    {\n      \"column\": \"SQL Developer\",\n      \"properties\": {\n        \"dtype\": \"number\",\n        \"std\": 0,\n        \"min\": 0,\n        \"max\": 1,\n        \"num_unique_values\": 2,\n        \"samples\": [\n          1,\n          0\n        ],\n        \"semantic_type\": \"\",\n        \"description\": \"\"\n      }\n    },\n    {\n      \"column\": \"workday\",\n      \"properties\": {\n        \"dtype\": \"number\",\n        \"std\": 0,\n        \"min\": 0,\n        \"max\": 1,\n        \"num_unique_values\": 2,\n        \"samples\": [\n          1,\n          0\n        ],\n        \"semantic_type\": \"\",\n        \"description\": \"\"\n      }\n    }\n  ]\n}"
            }
          },
          "metadata": {},
          "execution_count": 68
        }
      ],
      "source": [
        "y"
      ]
    },
    {
      "cell_type": "code",
      "execution_count": null,
      "metadata": {
        "id": "xaDX5wsMI1OD"
      },
      "outputs": [],
      "source": [
        "x_train,x_test,y_train,y_test = train_test_split(x,y,test_size=0.20,random_state=42)"
      ]
    },
    {
      "cell_type": "code",
      "execution_count": null,
      "metadata": {
        "id": "_NX64ZAuI1OD"
      },
      "outputs": [],
      "source": [
        "tokenizer = Tokenizer()"
      ]
    },
    {
      "cell_type": "code",
      "execution_count": null,
      "metadata": {
        "id": "qbGOqVA5I1OD"
      },
      "outputs": [],
      "source": [
        "tokenizer.fit_on_texts(x_train)\n",
        "tokenizer.fit_on_texts(x_test)"
      ]
    },
    {
      "cell_type": "code",
      "execution_count": null,
      "metadata": {
        "id": "RgCtu5yiI1OD"
      },
      "outputs": [],
      "source": [
        "x_train_seq = tokenizer.texts_to_sequences(x_train)\n",
        "x_test_seq = tokenizer.texts_to_sequences(x_test)"
      ]
    },
    {
      "cell_type": "code",
      "execution_count": null,
      "metadata": {
        "id": "Y_z-FH6uI1OD"
      },
      "outputs": [],
      "source": [
        "x_train_pad = pad_sequences(x_train_seq,maxlen=500,padding='post')\n",
        "x_test_pad = pad_sequences(x_test_seq,maxlen=500,padding='post')"
      ]
    },
    {
      "cell_type": "code",
      "execution_count": null,
      "metadata": {
        "colab": {
          "base_uri": "https://localhost:8080/"
        },
        "id": "rDFen3L1I1OD",
        "outputId": "b033bf46-0e1d-4823-f0ba-9b09e3fe32b8"
      },
      "outputs": [
        {
          "output_type": "execute_result",
          "data": {
            "text/plain": [
              "((64, 500), (16, 500))"
            ]
          },
          "metadata": {},
          "execution_count": 75
        }
      ],
      "source": [
        "x_train_pad.shape,x_test_pad.shape"
      ]
    },
    {
      "cell_type": "code",
      "execution_count": null,
      "metadata": {
        "colab": {
          "base_uri": "https://localhost:8080/"
        },
        "id": "Xq1MLZG1I1OD",
        "outputId": "50dd97bf-c145-4362-d9f9-4101b714b00d"
      },
      "outputs": [
        {
          "output_type": "execute_result",
          "data": {
            "text/plain": [
              "2885"
            ]
          },
          "metadata": {},
          "execution_count": 76
        }
      ],
      "source": [
        "vocab_size = len(tokenizer.word_index)+1\n",
        "vocab_size"
      ]
    },
    {
      "cell_type": "markdown",
      "metadata": {
        "id": "u9EaiUdKI1OD"
      },
      "source": [
        "## Simple RNN Model"
      ]
    },
    {
      "cell_type": "code",
      "execution_count": null,
      "metadata": {
        "id": "z6w8RCqZI1OD"
      },
      "outputs": [],
      "source": [
        "from tensorflow.keras.models import Sequential\n",
        "from tensorflow.keras.layers import SimpleRNN,Embedding,Dense\n",
        "from tensorflow.keras.optimizers import Adam\n",
        "from tensorflow.keras.callbacks import EarlyStopping"
      ]
    },
    {
      "cell_type": "code",
      "execution_count": null,
      "metadata": {
        "colab": {
          "base_uri": "https://localhost:8080/",
          "height": 257
        },
        "id": "99t4-DqFI1OD",
        "outputId": "e53447b7-134c-4386-807d-82ecc0adb298"
      },
      "outputs": [
        {
          "output_type": "display_data",
          "data": {
            "text/plain": [
              "\u001b[1mModel: \"sequential_17\"\u001b[0m\n"
            ],
            "text/html": [
              "<pre style=\"white-space:pre;overflow-x:auto;line-height:normal;font-family:Menlo,'DejaVu Sans Mono',consolas,'Courier New',monospace\"><span style=\"font-weight: bold\">Model: \"sequential_17\"</span>\n",
              "</pre>\n"
            ]
          },
          "metadata": {}
        },
        {
          "output_type": "display_data",
          "data": {
            "text/plain": [
              "┏━━━━━━━━━━━━━━━━━━━━━━━━━━━━━━━━━━━━━━┳━━━━━━━━━━━━━━━━━━━━━━━━━━━━━┳━━━━━━━━━━━━━━━━━┓\n",
              "┃\u001b[1m \u001b[0m\u001b[1mLayer (type)                        \u001b[0m\u001b[1m \u001b[0m┃\u001b[1m \u001b[0m\u001b[1mOutput Shape               \u001b[0m\u001b[1m \u001b[0m┃\u001b[1m \u001b[0m\u001b[1m        Param #\u001b[0m\u001b[1m \u001b[0m┃\n",
              "┡━━━━━━━━━━━━━━━━━━━━━━━━━━━━━━━━━━━━━━╇━━━━━━━━━━━━━━━━━━━━━━━━━━━━━╇━━━━━━━━━━━━━━━━━┩\n",
              "│ embedding_17 (\u001b[38;5;33mEmbedding\u001b[0m)             │ ?                           │     \u001b[38;5;34m0\u001b[0m (unbuilt) │\n",
              "├──────────────────────────────────────┼─────────────────────────────┼─────────────────┤\n",
              "│ simple_rnn_67 (\u001b[38;5;33mSimpleRNN\u001b[0m)            │ ?                           │     \u001b[38;5;34m0\u001b[0m (unbuilt) │\n",
              "├──────────────────────────────────────┼─────────────────────────────┼─────────────────┤\n",
              "│ simple_rnn_68 (\u001b[38;5;33mSimpleRNN\u001b[0m)            │ ?                           │     \u001b[38;5;34m0\u001b[0m (unbuilt) │\n",
              "├──────────────────────────────────────┼─────────────────────────────┼─────────────────┤\n",
              "│ dense_17 (\u001b[38;5;33mDense\u001b[0m)                     │ ?                           │     \u001b[38;5;34m0\u001b[0m (unbuilt) │\n",
              "└──────────────────────────────────────┴─────────────────────────────┴─────────────────┘\n"
            ],
            "text/html": [
              "<pre style=\"white-space:pre;overflow-x:auto;line-height:normal;font-family:Menlo,'DejaVu Sans Mono',consolas,'Courier New',monospace\">┏━━━━━━━━━━━━━━━━━━━━━━━━━━━━━━━━━━━━━━┳━━━━━━━━━━━━━━━━━━━━━━━━━━━━━┳━━━━━━━━━━━━━━━━━┓\n",
              "┃<span style=\"font-weight: bold\"> Layer (type)                         </span>┃<span style=\"font-weight: bold\"> Output Shape                </span>┃<span style=\"font-weight: bold\">         Param # </span>┃\n",
              "┡━━━━━━━━━━━━━━━━━━━━━━━━━━━━━━━━━━━━━━╇━━━━━━━━━━━━━━━━━━━━━━━━━━━━━╇━━━━━━━━━━━━━━━━━┩\n",
              "│ embedding_17 (<span style=\"color: #0087ff; text-decoration-color: #0087ff\">Embedding</span>)             │ ?                           │     <span style=\"color: #00af00; text-decoration-color: #00af00\">0</span> (unbuilt) │\n",
              "├──────────────────────────────────────┼─────────────────────────────┼─────────────────┤\n",
              "│ simple_rnn_67 (<span style=\"color: #0087ff; text-decoration-color: #0087ff\">SimpleRNN</span>)            │ ?                           │     <span style=\"color: #00af00; text-decoration-color: #00af00\">0</span> (unbuilt) │\n",
              "├──────────────────────────────────────┼─────────────────────────────┼─────────────────┤\n",
              "│ simple_rnn_68 (<span style=\"color: #0087ff; text-decoration-color: #0087ff\">SimpleRNN</span>)            │ ?                           │     <span style=\"color: #00af00; text-decoration-color: #00af00\">0</span> (unbuilt) │\n",
              "├──────────────────────────────────────┼─────────────────────────────┼─────────────────┤\n",
              "│ dense_17 (<span style=\"color: #0087ff; text-decoration-color: #0087ff\">Dense</span>)                     │ ?                           │     <span style=\"color: #00af00; text-decoration-color: #00af00\">0</span> (unbuilt) │\n",
              "└──────────────────────────────────────┴─────────────────────────────┴─────────────────┘\n",
              "</pre>\n"
            ]
          },
          "metadata": {}
        },
        {
          "output_type": "display_data",
          "data": {
            "text/plain": [
              "\u001b[1m Total params: \u001b[0m\u001b[38;5;34m0\u001b[0m (0.00 B)\n"
            ],
            "text/html": [
              "<pre style=\"white-space:pre;overflow-x:auto;line-height:normal;font-family:Menlo,'DejaVu Sans Mono',consolas,'Courier New',monospace\"><span style=\"font-weight: bold\"> Total params: </span><span style=\"color: #00af00; text-decoration-color: #00af00\">0</span> (0.00 B)\n",
              "</pre>\n"
            ]
          },
          "metadata": {}
        },
        {
          "output_type": "display_data",
          "data": {
            "text/plain": [
              "\u001b[1m Trainable params: \u001b[0m\u001b[38;5;34m0\u001b[0m (0.00 B)\n"
            ],
            "text/html": [
              "<pre style=\"white-space:pre;overflow-x:auto;line-height:normal;font-family:Menlo,'DejaVu Sans Mono',consolas,'Courier New',monospace\"><span style=\"font-weight: bold\"> Trainable params: </span><span style=\"color: #00af00; text-decoration-color: #00af00\">0</span> (0.00 B)\n",
              "</pre>\n"
            ]
          },
          "metadata": {}
        },
        {
          "output_type": "display_data",
          "data": {
            "text/plain": [
              "\u001b[1m Non-trainable params: \u001b[0m\u001b[38;5;34m0\u001b[0m (0.00 B)\n"
            ],
            "text/html": [
              "<pre style=\"white-space:pre;overflow-x:auto;line-height:normal;font-family:Menlo,'DejaVu Sans Mono',consolas,'Courier New',monospace\"><span style=\"font-weight: bold\"> Non-trainable params: </span><span style=\"color: #00af00; text-decoration-color: #00af00\">0</span> (0.00 B)\n",
              "</pre>\n"
            ]
          },
          "metadata": {}
        }
      ],
      "source": [
        "model_rnn = Sequential()\n",
        "model_rnn.add(Embedding(input_dim=vocab_size,output_dim=128,input_length=500))\n",
        "model_rnn.add(SimpleRNN(64,activation='relu',return_sequences=True))\n",
        "model_rnn.add(SimpleRNN(32))\n",
        "model_rnn.add(Dense(4,activation='softmax'))\n",
        "\n",
        "model_rnn.compile(optimizer = Adam(learning_rate=0.001),loss = 'categorical_crossentropy', metrics = ['accuracy'])\n",
        "\n",
        "model_rnn.summary()"
      ]
    },
    {
      "cell_type": "code",
      "execution_count": null,
      "metadata": {
        "colab": {
          "base_uri": "https://localhost:8080/"
        },
        "id": "vlzNw1ghI1OE",
        "outputId": "e80356d7-0304-4be7-f066-8874a1a077ef"
      },
      "outputs": [
        {
          "output_type": "execute_result",
          "data": {
            "text/plain": [
              "<keras.src.callbacks.early_stopping.EarlyStopping at 0x7b014c6d83a0>"
            ]
          },
          "metadata": {},
          "execution_count": 134
        }
      ],
      "source": [
        "earlystopping_srnn = EarlyStopping(monitor='val_loss',patience=4,restore_best_weights=True)\n",
        "earlystopping_srnn"
      ]
    },
    {
      "cell_type": "code",
      "execution_count": null,
      "metadata": {
        "colab": {
          "base_uri": "https://localhost:8080/"
        },
        "id": "B2Igk9RQI1OE",
        "outputId": "911af3b8-6aa5-4980-b93a-45d883120542"
      },
      "outputs": [
        {
          "output_type": "stream",
          "name": "stdout",
          "text": [
            "Epoch 1/8\n",
            "\u001b[1m2/2\u001b[0m \u001b[32m━━━━━━━━━━━━━━━━━━━━\u001b[0m\u001b[37m\u001b[0m \u001b[1m5s\u001b[0m 829ms/step - accuracy: 0.2812 - loss: 1.4252 - val_accuracy: 0.5625 - val_loss: 1.2178\n",
            "Epoch 2/8\n",
            "\u001b[1m2/2\u001b[0m \u001b[32m━━━━━━━━━━━━━━━━━━━━\u001b[0m\u001b[37m\u001b[0m \u001b[1m1s\u001b[0m 504ms/step - accuracy: 0.6458 - loss: 1.1696 - val_accuracy: 0.6250 - val_loss: 1.1359\n",
            "Epoch 3/8\n",
            "\u001b[1m2/2\u001b[0m \u001b[32m━━━━━━━━━━━━━━━━━━━━\u001b[0m\u001b[37m\u001b[0m \u001b[1m1s\u001b[0m 596ms/step - accuracy: 0.6042 - loss: 1.0988 - val_accuracy: 0.6250 - val_loss: 1.0811\n",
            "Epoch 4/8\n",
            "\u001b[1m2/2\u001b[0m \u001b[32m━━━━━━━━━━━━━━━━━━━━\u001b[0m\u001b[37m\u001b[0m \u001b[1m1s\u001b[0m 518ms/step - accuracy: 0.6146 - loss: 1.0364 - val_accuracy: 0.6250 - val_loss: 1.0128\n",
            "Epoch 5/8\n",
            "\u001b[1m2/2\u001b[0m \u001b[32m━━━━━━━━━━━━━━━━━━━━\u001b[0m\u001b[37m\u001b[0m \u001b[1m1s\u001b[0m 294ms/step - accuracy: 0.5833 - loss: 1.0238 - val_accuracy: 0.6875 - val_loss: 0.9786\n",
            "Epoch 6/8\n",
            "\u001b[1m2/2\u001b[0m \u001b[32m━━━━━━━━━━━━━━━━━━━━\u001b[0m\u001b[37m\u001b[0m \u001b[1m1s\u001b[0m 296ms/step - accuracy: 0.5833 - loss: 0.9363 - val_accuracy: 0.6875 - val_loss: 0.9430\n",
            "Epoch 7/8\n",
            "\u001b[1m2/2\u001b[0m \u001b[32m━━━━━━━━━━━━━━━━━━━━\u001b[0m\u001b[37m\u001b[0m \u001b[1m1s\u001b[0m 297ms/step - accuracy: 0.7396 - loss: 0.8709 - val_accuracy: 0.6250 - val_loss: 0.9508\n",
            "Epoch 8/8\n",
            "\u001b[1m2/2\u001b[0m \u001b[32m━━━━━━━━━━━━━━━━━━━━\u001b[0m\u001b[37m\u001b[0m \u001b[1m1s\u001b[0m 306ms/step - accuracy: 0.8438 - loss: 0.8481 - val_accuracy: 0.7500 - val_loss: 0.9200\n"
          ]
        }
      ],
      "source": [
        "history = model_rnn.fit(\n",
        "    x_train_pad,y_train,\n",
        "    epochs=8,\n",
        "    batch_size = 32,\n",
        "    validation_data = (x_test_pad,y_test),\n",
        "    callbacks = earlystopping_srnn\n",
        ")"
      ]
    },
    {
      "cell_type": "markdown",
      "metadata": {
        "id": "yonzVjWJI1OE"
      },
      "source": [
        "## LSTM RNN Model"
      ]
    },
    {
      "cell_type": "code",
      "execution_count": null,
      "metadata": {
        "id": "LakGiyDEI1OE"
      },
      "outputs": [],
      "source": [
        "from tensorflow.keras.layers import LSTM"
      ]
    },
    {
      "cell_type": "code",
      "execution_count": null,
      "metadata": {
        "colab": {
          "base_uri": "https://localhost:8080/",
          "height": 257
        },
        "id": "qFI_7FxaI1OE",
        "outputId": "39857021-52f2-45e7-d541-7bf75e961f99"
      },
      "outputs": [
        {
          "output_type": "display_data",
          "data": {
            "text/plain": [
              "\u001b[1mModel: \"sequential_2\"\u001b[0m\n"
            ],
            "text/html": [
              "<pre style=\"white-space:pre;overflow-x:auto;line-height:normal;font-family:Menlo,'DejaVu Sans Mono',consolas,'Courier New',monospace\"><span style=\"font-weight: bold\">Model: \"sequential_2\"</span>\n",
              "</pre>\n"
            ]
          },
          "metadata": {}
        },
        {
          "output_type": "display_data",
          "data": {
            "text/plain": [
              "┏━━━━━━━━━━━━━━━━━━━━━━━━━━━━━━━━━━━━━━┳━━━━━━━━━━━━━━━━━━━━━━━━━━━━━┳━━━━━━━━━━━━━━━━━┓\n",
              "┃\u001b[1m \u001b[0m\u001b[1mLayer (type)                        \u001b[0m\u001b[1m \u001b[0m┃\u001b[1m \u001b[0m\u001b[1mOutput Shape               \u001b[0m\u001b[1m \u001b[0m┃\u001b[1m \u001b[0m\u001b[1m        Param #\u001b[0m\u001b[1m \u001b[0m┃\n",
              "┡━━━━━━━━━━━━━━━━━━━━━━━━━━━━━━━━━━━━━━╇━━━━━━━━━━━━━━━━━━━━━━━━━━━━━╇━━━━━━━━━━━━━━━━━┩\n",
              "│ embedding_2 (\u001b[38;5;33mEmbedding\u001b[0m)              │ ?                           │     \u001b[38;5;34m0\u001b[0m (unbuilt) │\n",
              "├──────────────────────────────────────┼─────────────────────────────┼─────────────────┤\n",
              "│ lstm (\u001b[38;5;33mLSTM\u001b[0m)                          │ ?                           │     \u001b[38;5;34m0\u001b[0m (unbuilt) │\n",
              "├──────────────────────────────────────┼─────────────────────────────┼─────────────────┤\n",
              "│ lstm_1 (\u001b[38;5;33mLSTM\u001b[0m)                        │ ?                           │     \u001b[38;5;34m0\u001b[0m (unbuilt) │\n",
              "├──────────────────────────────────────┼─────────────────────────────┼─────────────────┤\n",
              "│ dense_2 (\u001b[38;5;33mDense\u001b[0m)                      │ ?                           │     \u001b[38;5;34m0\u001b[0m (unbuilt) │\n",
              "└──────────────────────────────────────┴─────────────────────────────┴─────────────────┘\n"
            ],
            "text/html": [
              "<pre style=\"white-space:pre;overflow-x:auto;line-height:normal;font-family:Menlo,'DejaVu Sans Mono',consolas,'Courier New',monospace\">┏━━━━━━━━━━━━━━━━━━━━━━━━━━━━━━━━━━━━━━┳━━━━━━━━━━━━━━━━━━━━━━━━━━━━━┳━━━━━━━━━━━━━━━━━┓\n",
              "┃<span style=\"font-weight: bold\"> Layer (type)                         </span>┃<span style=\"font-weight: bold\"> Output Shape                </span>┃<span style=\"font-weight: bold\">         Param # </span>┃\n",
              "┡━━━━━━━━━━━━━━━━━━━━━━━━━━━━━━━━━━━━━━╇━━━━━━━━━━━━━━━━━━━━━━━━━━━━━╇━━━━━━━━━━━━━━━━━┩\n",
              "│ embedding_2 (<span style=\"color: #0087ff; text-decoration-color: #0087ff\">Embedding</span>)              │ ?                           │     <span style=\"color: #00af00; text-decoration-color: #00af00\">0</span> (unbuilt) │\n",
              "├──────────────────────────────────────┼─────────────────────────────┼─────────────────┤\n",
              "│ lstm (<span style=\"color: #0087ff; text-decoration-color: #0087ff\">LSTM</span>)                          │ ?                           │     <span style=\"color: #00af00; text-decoration-color: #00af00\">0</span> (unbuilt) │\n",
              "├──────────────────────────────────────┼─────────────────────────────┼─────────────────┤\n",
              "│ lstm_1 (<span style=\"color: #0087ff; text-decoration-color: #0087ff\">LSTM</span>)                        │ ?                           │     <span style=\"color: #00af00; text-decoration-color: #00af00\">0</span> (unbuilt) │\n",
              "├──────────────────────────────────────┼─────────────────────────────┼─────────────────┤\n",
              "│ dense_2 (<span style=\"color: #0087ff; text-decoration-color: #0087ff\">Dense</span>)                      │ ?                           │     <span style=\"color: #00af00; text-decoration-color: #00af00\">0</span> (unbuilt) │\n",
              "└──────────────────────────────────────┴─────────────────────────────┴─────────────────┘\n",
              "</pre>\n"
            ]
          },
          "metadata": {}
        },
        {
          "output_type": "display_data",
          "data": {
            "text/plain": [
              "\u001b[1m Total params: \u001b[0m\u001b[38;5;34m0\u001b[0m (0.00 B)\n"
            ],
            "text/html": [
              "<pre style=\"white-space:pre;overflow-x:auto;line-height:normal;font-family:Menlo,'DejaVu Sans Mono',consolas,'Courier New',monospace\"><span style=\"font-weight: bold\"> Total params: </span><span style=\"color: #00af00; text-decoration-color: #00af00\">0</span> (0.00 B)\n",
              "</pre>\n"
            ]
          },
          "metadata": {}
        },
        {
          "output_type": "display_data",
          "data": {
            "text/plain": [
              "\u001b[1m Trainable params: \u001b[0m\u001b[38;5;34m0\u001b[0m (0.00 B)\n"
            ],
            "text/html": [
              "<pre style=\"white-space:pre;overflow-x:auto;line-height:normal;font-family:Menlo,'DejaVu Sans Mono',consolas,'Courier New',monospace\"><span style=\"font-weight: bold\"> Trainable params: </span><span style=\"color: #00af00; text-decoration-color: #00af00\">0</span> (0.00 B)\n",
              "</pre>\n"
            ]
          },
          "metadata": {}
        },
        {
          "output_type": "display_data",
          "data": {
            "text/plain": [
              "\u001b[1m Non-trainable params: \u001b[0m\u001b[38;5;34m0\u001b[0m (0.00 B)\n"
            ],
            "text/html": [
              "<pre style=\"white-space:pre;overflow-x:auto;line-height:normal;font-family:Menlo,'DejaVu Sans Mono',consolas,'Courier New',monospace\"><span style=\"font-weight: bold\"> Non-trainable params: </span><span style=\"color: #00af00; text-decoration-color: #00af00\">0</span> (0.00 B)\n",
              "</pre>\n"
            ]
          },
          "metadata": {}
        }
      ],
      "source": [
        "model_lstm = Sequential()\n",
        "model_lstm.add(Embedding(input_dim=vocab_size,output_dim=128,input_length=500))\n",
        "model_lstm.add(LSTM(64,activation='relu',return_sequences=True))\n",
        "model_lstm.add(LSTM(32))\n",
        "model_lstm.add(Dense(4,activation='softmax'))\n",
        "\n",
        "model_lstm.compile(optimizer = Adam(learning_rate=0.001), loss = 'categorical_crossentropy', metrics = ['accuracy'])\n",
        "\n",
        "model_lstm.summary()"
      ]
    },
    {
      "cell_type": "code",
      "execution_count": null,
      "metadata": {
        "colab": {
          "base_uri": "https://localhost:8080/"
        },
        "id": "Ky9MKJDRI1OE",
        "outputId": "f5a2a260-ecf8-4c5e-e519-ab84875dc575"
      },
      "outputs": [
        {
          "output_type": "execute_result",
          "data": {
            "text/plain": [
              "<keras.src.callbacks.early_stopping.EarlyStopping at 0x7b015671b550>"
            ]
          },
          "metadata": {},
          "execution_count": 87
        }
      ],
      "source": [
        "earlystopping_lstm = EarlyStopping(monitor='val_loss',patience=4,restore_best_weights=True)\n",
        "earlystopping_lstm"
      ]
    },
    {
      "cell_type": "code",
      "execution_count": null,
      "metadata": {
        "colab": {
          "base_uri": "https://localhost:8080/"
        },
        "id": "3QpTT5hDI1OE",
        "outputId": "8daa6f7a-d328-406e-8be0-93e70a7f1d26"
      },
      "outputs": [
        {
          "output_type": "stream",
          "name": "stdout",
          "text": [
            "Epoch 1/10\n",
            "\u001b[1m2/2\u001b[0m \u001b[32m━━━━━━━━━━━━━━━━━━━━\u001b[0m\u001b[37m\u001b[0m \u001b[1m7s\u001b[0m 953ms/step - accuracy: 0.3646 - loss: 1.3808 - val_accuracy: 0.4375 - val_loss: 1.3659\n",
            "Epoch 2/10\n",
            "\u001b[1m2/2\u001b[0m \u001b[32m━━━━━━━━━━━━━━━━━━━━\u001b[0m\u001b[37m\u001b[0m \u001b[1m2s\u001b[0m 508ms/step - accuracy: 0.4688 - loss: 1.3647 - val_accuracy: 0.4375 - val_loss: 1.3488\n",
            "Epoch 3/10\n",
            "\u001b[1m2/2\u001b[0m \u001b[32m━━━━━━━━━━━━━━━━━━━━\u001b[0m\u001b[37m\u001b[0m \u001b[1m1s\u001b[0m 555ms/step - accuracy: 0.4688 - loss: 1.3483 - val_accuracy: 0.4375 - val_loss: 1.3286\n",
            "Epoch 4/10\n",
            "\u001b[1m2/2\u001b[0m \u001b[32m━━━━━━━━━━━━━━━━━━━━\u001b[0m\u001b[37m\u001b[0m \u001b[1m1s\u001b[0m 521ms/step - accuracy: 0.4375 - loss: 1.3363 - val_accuracy: 0.4375 - val_loss: 1.3066\n",
            "Epoch 5/10\n",
            "\u001b[1m2/2\u001b[0m \u001b[32m━━━━━━━━━━━━━━━━━━━━\u001b[0m\u001b[37m\u001b[0m \u001b[1m1s\u001b[0m 517ms/step - accuracy: 0.4375 - loss: 1.3177 - val_accuracy: 0.4375 - val_loss: 1.2824\n",
            "Epoch 6/10\n",
            "\u001b[1m2/2\u001b[0m \u001b[32m━━━━━━━━━━━━━━━━━━━━\u001b[0m\u001b[37m\u001b[0m \u001b[1m1s\u001b[0m 536ms/step - accuracy: 0.4271 - loss: 1.3010 - val_accuracy: 0.4375 - val_loss: 1.2589\n",
            "Epoch 7/10\n",
            "\u001b[1m2/2\u001b[0m \u001b[32m━━━━━━━━━━━━━━━━━━━━\u001b[0m\u001b[37m\u001b[0m \u001b[1m1s\u001b[0m 517ms/step - accuracy: 0.4375 - loss: 1.2651 - val_accuracy: 0.4375 - val_loss: 1.2332\n",
            "Epoch 8/10\n",
            "\u001b[1m2/2\u001b[0m \u001b[32m━━━━━━━━━━━━━━━━━━━━\u001b[0m\u001b[37m\u001b[0m \u001b[1m1s\u001b[0m 530ms/step - accuracy: 0.4271 - loss: 1.2426 - val_accuracy: 0.5625 - val_loss: 1.2107\n",
            "Epoch 9/10\n",
            "\u001b[1m2/2\u001b[0m \u001b[32m━━━━━━━━━━━━━━━━━━━━\u001b[0m\u001b[37m\u001b[0m \u001b[1m2s\u001b[0m 815ms/step - accuracy: 0.4688 - loss: 1.1950 - val_accuracy: 0.5625 - val_loss: 1.1797\n",
            "Epoch 10/10\n",
            "\u001b[1m2/2\u001b[0m \u001b[32m━━━━━━━━━━━━━━━━━━━━\u001b[0m\u001b[37m\u001b[0m \u001b[1m2s\u001b[0m 862ms/step - accuracy: 0.4375 - loss: nan - val_accuracy: 0.3125 - val_loss: nan\n"
          ]
        }
      ],
      "source": [
        "history = model_lstm.fit(\n",
        "    x_train_pad,y_train,\n",
        "    epochs=10,\n",
        "    batch_size=32,\n",
        "    validation_data=(x_test_pad,y_test),\n",
        "    callbacks=earlystopping_lstm\n",
        ")"
      ]
    },
    {
      "cell_type": "markdown",
      "metadata": {
        "id": "BzKbL_N6I1OE"
      },
      "source": [
        "## GRU RNN Model"
      ]
    },
    {
      "cell_type": "code",
      "execution_count": null,
      "metadata": {
        "id": "Hi9-HBOSI1OF"
      },
      "outputs": [],
      "source": [
        "from tensorflow.keras.layers import GRU"
      ]
    },
    {
      "cell_type": "code",
      "execution_count": null,
      "metadata": {
        "colab": {
          "base_uri": "https://localhost:8080/",
          "height": 257
        },
        "id": "qFGCUdCuI1OF",
        "outputId": "9ddd71ee-b856-43ce-dfa7-2bbc5b13aa7d"
      },
      "outputs": [
        {
          "output_type": "display_data",
          "data": {
            "text/plain": [
              "\u001b[1mModel: \"sequential_3\"\u001b[0m\n"
            ],
            "text/html": [
              "<pre style=\"white-space:pre;overflow-x:auto;line-height:normal;font-family:Menlo,'DejaVu Sans Mono',consolas,'Courier New',monospace\"><span style=\"font-weight: bold\">Model: \"sequential_3\"</span>\n",
              "</pre>\n"
            ]
          },
          "metadata": {}
        },
        {
          "output_type": "display_data",
          "data": {
            "text/plain": [
              "┏━━━━━━━━━━━━━━━━━━━━━━━━━━━━━━━━━━━━━━┳━━━━━━━━━━━━━━━━━━━━━━━━━━━━━┳━━━━━━━━━━━━━━━━━┓\n",
              "┃\u001b[1m \u001b[0m\u001b[1mLayer (type)                        \u001b[0m\u001b[1m \u001b[0m┃\u001b[1m \u001b[0m\u001b[1mOutput Shape               \u001b[0m\u001b[1m \u001b[0m┃\u001b[1m \u001b[0m\u001b[1m        Param #\u001b[0m\u001b[1m \u001b[0m┃\n",
              "┡━━━━━━━━━━━━━━━━━━━━━━━━━━━━━━━━━━━━━━╇━━━━━━━━━━━━━━━━━━━━━━━━━━━━━╇━━━━━━━━━━━━━━━━━┩\n",
              "│ embedding_3 (\u001b[38;5;33mEmbedding\u001b[0m)              │ ?                           │     \u001b[38;5;34m0\u001b[0m (unbuilt) │\n",
              "├──────────────────────────────────────┼─────────────────────────────┼─────────────────┤\n",
              "│ gru (\u001b[38;5;33mGRU\u001b[0m)                            │ ?                           │     \u001b[38;5;34m0\u001b[0m (unbuilt) │\n",
              "├──────────────────────────────────────┼─────────────────────────────┼─────────────────┤\n",
              "│ gru_1 (\u001b[38;5;33mGRU\u001b[0m)                          │ ?                           │     \u001b[38;5;34m0\u001b[0m (unbuilt) │\n",
              "├──────────────────────────────────────┼─────────────────────────────┼─────────────────┤\n",
              "│ dense_3 (\u001b[38;5;33mDense\u001b[0m)                      │ ?                           │     \u001b[38;5;34m0\u001b[0m (unbuilt) │\n",
              "└──────────────────────────────────────┴─────────────────────────────┴─────────────────┘\n"
            ],
            "text/html": [
              "<pre style=\"white-space:pre;overflow-x:auto;line-height:normal;font-family:Menlo,'DejaVu Sans Mono',consolas,'Courier New',monospace\">┏━━━━━━━━━━━━━━━━━━━━━━━━━━━━━━━━━━━━━━┳━━━━━━━━━━━━━━━━━━━━━━━━━━━━━┳━━━━━━━━━━━━━━━━━┓\n",
              "┃<span style=\"font-weight: bold\"> Layer (type)                         </span>┃<span style=\"font-weight: bold\"> Output Shape                </span>┃<span style=\"font-weight: bold\">         Param # </span>┃\n",
              "┡━━━━━━━━━━━━━━━━━━━━━━━━━━━━━━━━━━━━━━╇━━━━━━━━━━━━━━━━━━━━━━━━━━━━━╇━━━━━━━━━━━━━━━━━┩\n",
              "│ embedding_3 (<span style=\"color: #0087ff; text-decoration-color: #0087ff\">Embedding</span>)              │ ?                           │     <span style=\"color: #00af00; text-decoration-color: #00af00\">0</span> (unbuilt) │\n",
              "├──────────────────────────────────────┼─────────────────────────────┼─────────────────┤\n",
              "│ gru (<span style=\"color: #0087ff; text-decoration-color: #0087ff\">GRU</span>)                            │ ?                           │     <span style=\"color: #00af00; text-decoration-color: #00af00\">0</span> (unbuilt) │\n",
              "├──────────────────────────────────────┼─────────────────────────────┼─────────────────┤\n",
              "│ gru_1 (<span style=\"color: #0087ff; text-decoration-color: #0087ff\">GRU</span>)                          │ ?                           │     <span style=\"color: #00af00; text-decoration-color: #00af00\">0</span> (unbuilt) │\n",
              "├──────────────────────────────────────┼─────────────────────────────┼─────────────────┤\n",
              "│ dense_3 (<span style=\"color: #0087ff; text-decoration-color: #0087ff\">Dense</span>)                      │ ?                           │     <span style=\"color: #00af00; text-decoration-color: #00af00\">0</span> (unbuilt) │\n",
              "└──────────────────────────────────────┴─────────────────────────────┴─────────────────┘\n",
              "</pre>\n"
            ]
          },
          "metadata": {}
        },
        {
          "output_type": "display_data",
          "data": {
            "text/plain": [
              "\u001b[1m Total params: \u001b[0m\u001b[38;5;34m0\u001b[0m (0.00 B)\n"
            ],
            "text/html": [
              "<pre style=\"white-space:pre;overflow-x:auto;line-height:normal;font-family:Menlo,'DejaVu Sans Mono',consolas,'Courier New',monospace\"><span style=\"font-weight: bold\"> Total params: </span><span style=\"color: #00af00; text-decoration-color: #00af00\">0</span> (0.00 B)\n",
              "</pre>\n"
            ]
          },
          "metadata": {}
        },
        {
          "output_type": "display_data",
          "data": {
            "text/plain": [
              "\u001b[1m Trainable params: \u001b[0m\u001b[38;5;34m0\u001b[0m (0.00 B)\n"
            ],
            "text/html": [
              "<pre style=\"white-space:pre;overflow-x:auto;line-height:normal;font-family:Menlo,'DejaVu Sans Mono',consolas,'Courier New',monospace\"><span style=\"font-weight: bold\"> Trainable params: </span><span style=\"color: #00af00; text-decoration-color: #00af00\">0</span> (0.00 B)\n",
              "</pre>\n"
            ]
          },
          "metadata": {}
        },
        {
          "output_type": "display_data",
          "data": {
            "text/plain": [
              "\u001b[1m Non-trainable params: \u001b[0m\u001b[38;5;34m0\u001b[0m (0.00 B)\n"
            ],
            "text/html": [
              "<pre style=\"white-space:pre;overflow-x:auto;line-height:normal;font-family:Menlo,'DejaVu Sans Mono',consolas,'Courier New',monospace\"><span style=\"font-weight: bold\"> Non-trainable params: </span><span style=\"color: #00af00; text-decoration-color: #00af00\">0</span> (0.00 B)\n",
              "</pre>\n"
            ]
          },
          "metadata": {}
        }
      ],
      "source": [
        "model_gru = Sequential()\n",
        "model_gru.add(Embedding(input_dim=vocab_size,output_dim=128,input_length=500))\n",
        "model_gru.add(GRU(100,activation='relu',return_sequences=True))\n",
        "model_gru.add(GRU(34))\n",
        "model_gru.add(Dense(4,activation='softmax'))\n",
        "\n",
        "model_gru.compile(optimizer = Adam(learning_rate=0.001), loss = 'categorical_crossentropy', metrics = ['accuracy'])\n",
        "\n",
        "model_gru.summary()"
      ]
    },
    {
      "cell_type": "code",
      "execution_count": null,
      "metadata": {
        "colab": {
          "base_uri": "https://localhost:8080/"
        },
        "id": "hRjT1QrTI1OF",
        "outputId": "ad04de38-1be7-4897-deb1-3c439690c3e4"
      },
      "outputs": [
        {
          "output_type": "execute_result",
          "data": {
            "text/plain": [
              "<keras.src.callbacks.early_stopping.EarlyStopping at 0x7b0154690820>"
            ]
          },
          "metadata": {},
          "execution_count": 91
        }
      ],
      "source": [
        "earlystopping_gru = EarlyStopping(monitor='val_loss',patience=4,restore_best_weights=True)\n",
        "earlystopping_gru"
      ]
    },
    {
      "cell_type": "code",
      "execution_count": null,
      "metadata": {
        "colab": {
          "base_uri": "https://localhost:8080/"
        },
        "id": "HIBowaEqI1OF",
        "outputId": "f24e071c-c6b9-42fb-8c99-740696e76954"
      },
      "outputs": [
        {
          "output_type": "stream",
          "name": "stdout",
          "text": [
            "Epoch 1/10\n",
            "\u001b[1m2/2\u001b[0m \u001b[32m━━━━━━━━━━━━━━━━━━━━\u001b[0m\u001b[37m\u001b[0m \u001b[1m5s\u001b[0m 1s/step - accuracy: 0.2188 - loss: 1.3849 - val_accuracy: 0.5625 - val_loss: 1.3689\n",
            "Epoch 2/10\n",
            "\u001b[1m2/2\u001b[0m \u001b[32m━━━━━━━━━━━━━━━━━━━━\u001b[0m\u001b[37m\u001b[0m \u001b[1m1s\u001b[0m 717ms/step - accuracy: 0.5417 - loss: 1.3669 - val_accuracy: 0.5625 - val_loss: 1.3507\n",
            "Epoch 3/10\n",
            "\u001b[1m2/2\u001b[0m \u001b[32m━━━━━━━━━━━━━━━━━━━━\u001b[0m\u001b[37m\u001b[0m \u001b[1m2s\u001b[0m 715ms/step - accuracy: 0.5104 - loss: 1.3545 - val_accuracy: 0.5625 - val_loss: 1.3343\n",
            "Epoch 4/10\n",
            "\u001b[1m2/2\u001b[0m \u001b[32m━━━━━━━━━━━━━━━━━━━━\u001b[0m\u001b[37m\u001b[0m \u001b[1m1s\u001b[0m 709ms/step - accuracy: 0.5000 - loss: 1.3398 - val_accuracy: 0.6250 - val_loss: 1.3142\n",
            "Epoch 5/10\n",
            "\u001b[1m2/2\u001b[0m \u001b[32m━━━━━━━━━━━━━━━━━━━━\u001b[0m\u001b[37m\u001b[0m \u001b[1m1s\u001b[0m 717ms/step - accuracy: 0.5833 - loss: 1.3132 - val_accuracy: 0.6250 - val_loss: 1.2911\n",
            "Epoch 6/10\n",
            "\u001b[1m2/2\u001b[0m \u001b[32m━━━━━━━━━━━━━━━━━━━━\u001b[0m\u001b[37m\u001b[0m \u001b[1m3s\u001b[0m 1s/step - accuracy: 0.5417 - loss: 1.3012 - val_accuracy: 0.6250 - val_loss: 1.2678\n",
            "Epoch 7/10\n",
            "\u001b[1m2/2\u001b[0m \u001b[32m━━━━━━━━━━━━━━━━━━━━\u001b[0m\u001b[37m\u001b[0m \u001b[1m1s\u001b[0m 711ms/step - accuracy: 0.5833 - loss: 1.2699 - val_accuracy: 0.6250 - val_loss: 1.2419\n",
            "Epoch 8/10\n",
            "\u001b[1m2/2\u001b[0m \u001b[32m━━━━━━━━━━━━━━━━━━━━\u001b[0m\u001b[37m\u001b[0m \u001b[1m1s\u001b[0m 719ms/step - accuracy: 0.5208 - loss: 1.2736 - val_accuracy: 0.6250 - val_loss: 1.2146\n",
            "Epoch 9/10\n",
            "\u001b[1m2/2\u001b[0m \u001b[32m━━━━━━━━━━━━━━━━━━━━\u001b[0m\u001b[37m\u001b[0m \u001b[1m1s\u001b[0m 700ms/step - accuracy: 0.5521 - loss: 1.2266 - val_accuracy: 0.6250 - val_loss: 1.1833\n",
            "Epoch 10/10\n",
            "\u001b[1m2/2\u001b[0m \u001b[32m━━━━━━━━━━━━━━━━━━━━\u001b[0m\u001b[37m\u001b[0m \u001b[1m1s\u001b[0m 725ms/step - accuracy: 0.5312 - loss: 1.2022 - val_accuracy: 0.6250 - val_loss: 1.1491\n"
          ]
        }
      ],
      "source": [
        "history = model_gru.fit(\n",
        "    x_train_pad,y_train,\n",
        "    epochs=10,\n",
        "    batch_size=32,\n",
        "    validation_data=(x_test_pad,y_test),\n",
        "    callbacks=earlystopping_gru\n",
        ")"
      ]
    },
    {
      "cell_type": "code",
      "source": [],
      "metadata": {
        "id": "Tb8SrZare-SH"
      },
      "execution_count": null,
      "outputs": []
    }
  ],
  "metadata": {
    "colab": {
      "provenance": []
    },
    "kernelspec": {
      "display_name": "Python 3 (ipykernel)",
      "language": "python",
      "name": "python3"
    },
    "language_info": {
      "codemirror_mode": {
        "name": "ipython",
        "version": 3
      },
      "file_extension": ".py",
      "mimetype": "text/x-python",
      "name": "python",
      "nbconvert_exporter": "python",
      "pygments_lexer": "ipython3",
      "version": "3.11.7"
    }
  },
  "nbformat": 4,
  "nbformat_minor": 0
}